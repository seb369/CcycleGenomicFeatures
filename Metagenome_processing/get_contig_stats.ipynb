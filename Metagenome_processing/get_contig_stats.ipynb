{
 "cells": [
  {
   "cell_type": "markdown",
   "metadata": {},
   "source": [
    "# Getting some stats for the contigs\n",
    "\n",
    "### Sam Barnett\n",
    "\n",
    "Here I want to mainly get the length and GC content of all the contigs."
   ]
  },
  {
   "cell_type": "code",
   "execution_count": 1,
   "metadata": {},
   "outputs": [],
   "source": [
    "import os\n",
    "import pandas\n",
    "\n",
    "from Bio import SeqIO"
   ]
  },
  {
   "cell_type": "code",
   "execution_count": 2,
   "metadata": {},
   "outputs": [],
   "source": [
    "contig_file = '/home/sam/FullCyc_metagenome/contigs/assembly.contigs.1000.fasta'\n",
    "\n",
    "stats_output_file = '/home/sam/FullCyc_metagenome/contigs/contig_stats.txt'\n"
   ]
  },
  {
   "cell_type": "code",
   "execution_count": null,
   "metadata": {},
   "outputs": [],
   "source": [
    "id_list = []\n",
    "lenght_list = []\n",
    "GC_perc_list = []\n",
    "gap_count_list = []\n",
    "N_count_list = []\n",
    "contig_seq = SeqIO.parse(contig_file, 'fasta')\n",
    "for record in contig_seq:\n",
    "    id_list.append(record.id)\n",
    "    seq_length = len(str(record.seq))\n",
    "    lenght_list.append(seq_length)\n",
    "    GC_count = str(record.seq).count('G') + str(record.seq).count('C') + str(record.seq).count('g') + str(record.seq).count('c')\n",
    "    GC_perc_list.append((GC_count/seq_length)*100)\n",
    "    gap_count_list.append(str(record.seq).count('-'))\n",
    "    N_count_list.append(str(record.seq).count('N') + str(record.seq).count('n'))\n"
   ]
  },
  {
   "cell_type": "code",
   "execution_count": null,
   "metadata": {},
   "outputs": [],
   "source": [
    "print(len(id_list))\n",
    "print(len(lenght_list))\n",
    "print(len(GC_perc_list))\n",
    "print(len(gap_count_list))\n",
    "print(len(N_count_list))"
   ]
  },
  {
   "cell_type": "code",
   "execution_count": null,
   "metadata": {},
   "outputs": [],
   "source": [
    "stats_df = pandas.DataFrame({'contigName':id_list, 'length':lenght_list, \n",
    "                             'GC_perc':GC_perc_list, 'n_gaps':gap_count_list, \n",
    "                             'n_Ns':N_count_list})"
   ]
  },
  {
   "cell_type": "code",
   "execution_count": null,
   "metadata": {},
   "outputs": [],
   "source": [
    "stats_df.to_csv(stats_output_file, sep='\\t', header=True, index=False)"
   ]
  },
  {
   "cell_type": "code",
   "execution_count": 7,
   "metadata": {},
   "outputs": [
    {
     "name": "stdout",
     "output_type": "stream",
     "text": [
      "Done!\n"
     ]
    }
   ],
   "source": [
    "print(\"Done!\")"
   ]
  },
  {
   "cell_type": "code",
   "execution_count": null,
   "metadata": {},
   "outputs": [],
   "source": []
  }
 ],
 "metadata": {
  "kernelspec": {
   "display_name": "Python 3",
   "language": "python",
   "name": "python3"
  },
  "language_info": {
   "codemirror_mode": {
    "name": "ipython",
    "version": 3
   },
   "file_extension": ".py",
   "mimetype": "text/x-python",
   "name": "python",
   "nbconvert_exporter": "python",
   "pygments_lexer": "ipython3",
   "version": "3.7.4"
  }
 },
 "nbformat": 4,
 "nbformat_minor": 2
}
