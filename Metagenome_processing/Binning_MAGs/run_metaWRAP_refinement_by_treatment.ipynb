{
 "cells": [
  {
   "cell_type": "markdown",
   "metadata": {},
   "source": [
    "# Running metaWRAP refinement tool to for each treatment\n"
   ]
  },
  {
   "cell_type": "code",
   "execution_count": 1,
   "metadata": {},
   "outputs": [],
   "source": [
    "import os\n",
    "import pandas as pd\n",
    "from Bio import SeqIO"
   ]
  },
  {
   "cell_type": "code",
   "execution_count": 3,
   "metadata": {},
   "outputs": [],
   "source": [
    "baseDir = '/home/sam/FullCyc_metagenome/enriched_binning'\n",
    "enr_contigs = '/home/sam/FullCyc_metagenome/enriched_binning/enriched_contigs_per_treatment.txt'\n",
    "alignDir = '/home/sam/FullCyc_metagenome/alignments_1000k'\n",
    "\n",
    "ncores = 20"
   ]
  },
  {
   "cell_type": "markdown",
   "metadata": {},
   "source": [
    "## Subsetting"
   ]
  },
  {
   "cell_type": "code",
   "execution_count": 4,
   "metadata": {},
   "outputs": [
    {
     "data": {
      "text/plain": [
       "['Xylose_Day06',\n",
       " 'Vanillin_Day48',\n",
       " 'PalmiticAcid_Day48',\n",
       " 'PalmiticAcid_Day30',\n",
       " 'Cellulose_Day30',\n",
       " 'Glucose_Day01',\n",
       " 'Glucose_Day14',\n",
       " 'Glycerol_Day14']"
      ]
     },
     "execution_count": 4,
     "metadata": {},
     "output_type": "execute_result"
    }
   ],
   "source": [
    "treatments = list(set(pd.read_csv(enr_contigs, sep='\\t')['Treatment']))\n",
    "treatments"
   ]
  },
  {
   "cell_type": "markdown",
   "metadata": {},
   "source": [
    "### Run refinement tool"
   ]
  },
  {
   "cell_type": "code",
   "execution_count": null,
   "metadata": {},
   "outputs": [
    {
     "name": "stdout",
     "output_type": "stream",
     "text": [
      "Running:   Xylose_Day06\n",
      "metawrap bin_refinement -o /home/sam/FullCyc_metagenome/enriched_binning/Xylose_Day06/Xylose_Day06_metaWRAP_refinement -t 20 -c 50 -x 10 -A /home/sam/FullCyc_metagenome/enriched_binning/Xylose_Day06/Xylose_Day06_metabat_binning -B /home/sam/FullCyc_metagenome/enriched_binning/Xylose_Day06/Xylose_Day06_maxbin_binning/fasta_bins -C /home/sam/FullCyc_metagenome/enriched_binning/Xylose_Day06/Xylose_Day06_concoct_binning/fasta_bins\n",
      "\n",
      "------------------------------------------------------------------------------------------------------------------------\n",
      "-----            There is 40 RAM and 20 threads available, and each pplacer thread uses >40GB, so I will           -----\n",
      "-----                                          use 1 threads for pplacer                                           -----\n",
      "------------------------------------------------------------------------------------------------------------------------\n",
      "\n",
      "\n",
      "########################################################################################################################\n",
      "#####                                                BEGIN PIPELINE!                                               #####\n",
      "########################################################################################################################\n",
      "\n",
      "\n",
      "------------------------------------------------------------------------------------------------------------------------\n",
      "-----                               setting up output folder and copying over bins...                              -----\n",
      "------------------------------------------------------------------------------------------------------------------------\n",
      "\n",
      "\n",
      "------------------------------------------------------------------------------------------------------------------------\n",
      "-----                                          there are 20 bins in binsA                                          -----\n",
      "------------------------------------------------------------------------------------------------------------------------\n",
      "\n",
      "\n",
      "------------------------------------------------------------------------------------------------------------------------\n",
      "-----                                          there are 10 bins in binsB                                          -----\n",
      "------------------------------------------------------------------------------------------------------------------------\n",
      "\n",
      "Skipping /home/sam/FullCyc_metagenome/enriched_binning/Xylose_Day06/Xylose_Day06_concoct_binning/fasta_bins/11.fa because the bin size is not between 50kb and 20Mb\n",
      "Skipping /home/sam/FullCyc_metagenome/enriched_binning/Xylose_Day06/Xylose_Day06_concoct_binning/fasta_bins/12.fa because the bin size is not between 50kb and 20Mb\n",
      "Skipping /home/sam/FullCyc_metagenome/enriched_binning/Xylose_Day06/Xylose_Day06_concoct_binning/fasta_bins/13.fa because the bin size is not between 50kb and 20Mb\n",
      "Skipping /home/sam/FullCyc_metagenome/enriched_binning/Xylose_Day06/Xylose_Day06_concoct_binning/fasta_bins/14.fa because the bin size is not between 50kb and 20Mb\n",
      "Skipping /home/sam/FullCyc_metagenome/enriched_binning/Xylose_Day06/Xylose_Day06_concoct_binning/fasta_bins/15.fa because the bin size is not between 50kb and 20Mb\n",
      "Skipping /home/sam/FullCyc_metagenome/enriched_binning/Xylose_Day06/Xylose_Day06_concoct_binning/fasta_bins/18.fa because the bin size is not between 50kb and 20Mb\n",
      "Skipping /home/sam/FullCyc_metagenome/enriched_binning/Xylose_Day06/Xylose_Day06_concoct_binning/fasta_bins/1.fa because the bin size is not between 50kb and 20Mb\n",
      "Skipping /home/sam/FullCyc_metagenome/enriched_binning/Xylose_Day06/Xylose_Day06_concoct_binning/fasta_bins/20.fa because the bin size is not between 50kb and 20Mb\n",
      "Skipping /home/sam/FullCyc_metagenome/enriched_binning/Xylose_Day06/Xylose_Day06_concoct_binning/fasta_bins/22.fa because the bin size is not between 50kb and 20Mb\n",
      "Skipping /home/sam/FullCyc_metagenome/enriched_binning/Xylose_Day06/Xylose_Day06_concoct_binning/fasta_bins/23.fa because the bin size is not between 50kb and 20Mb\n",
      "Skipping /home/sam/FullCyc_metagenome/enriched_binning/Xylose_Day06/Xylose_Day06_concoct_binning/fasta_bins/27.fa because the bin size is not between 50kb and 20Mb\n",
      "Skipping /home/sam/FullCyc_metagenome/enriched_binning/Xylose_Day06/Xylose_Day06_concoct_binning/fasta_bins/28.fa because the bin size is not between 50kb and 20Mb\n",
      "Skipping /home/sam/FullCyc_metagenome/enriched_binning/Xylose_Day06/Xylose_Day06_concoct_binning/fasta_bins/2.fa because the bin size is not between 50kb and 20Mb\n",
      "Skipping /home/sam/FullCyc_metagenome/enriched_binning/Xylose_Day06/Xylose_Day06_concoct_binning/fasta_bins/30.fa because the bin size is not between 50kb and 20Mb\n",
      "Skipping /home/sam/FullCyc_metagenome/enriched_binning/Xylose_Day06/Xylose_Day06_concoct_binning/fasta_bins/32.fa because the bin size is not between 50kb and 20Mb\n",
      "Skipping /home/sam/FullCyc_metagenome/enriched_binning/Xylose_Day06/Xylose_Day06_concoct_binning/fasta_bins/33.fa because the bin size is not between 50kb and 20Mb\n",
      "Skipping /home/sam/FullCyc_metagenome/enriched_binning/Xylose_Day06/Xylose_Day06_concoct_binning/fasta_bins/37.fa because the bin size is not between 50kb and 20Mb\n",
      "Skipping /home/sam/FullCyc_metagenome/enriched_binning/Xylose_Day06/Xylose_Day06_concoct_binning/fasta_bins/40.fa because the bin size is not between 50kb and 20Mb\n",
      "Skipping /home/sam/FullCyc_metagenome/enriched_binning/Xylose_Day06/Xylose_Day06_concoct_binning/fasta_bins/41.fa because the bin size is not between 50kb and 20Mb\n",
      "Skipping /home/sam/FullCyc_metagenome/enriched_binning/Xylose_Day06/Xylose_Day06_concoct_binning/fasta_bins/42.fa because the bin size is not between 50kb and 20Mb\n",
      "Skipping /home/sam/FullCyc_metagenome/enriched_binning/Xylose_Day06/Xylose_Day06_concoct_binning/fasta_bins/45.fa because the bin size is not between 50kb and 20Mb\n",
      "Skipping /home/sam/FullCyc_metagenome/enriched_binning/Xylose_Day06/Xylose_Day06_concoct_binning/fasta_bins/47.fa because the bin size is not between 50kb and 20Mb\n",
      "Skipping /home/sam/FullCyc_metagenome/enriched_binning/Xylose_Day06/Xylose_Day06_concoct_binning/fasta_bins/48.fa because the bin size is not between 50kb and 20Mb\n",
      "Skipping /home/sam/FullCyc_metagenome/enriched_binning/Xylose_Day06/Xylose_Day06_concoct_binning/fasta_bins/49.fa because the bin size is not between 50kb and 20Mb\n",
      "Skipping /home/sam/FullCyc_metagenome/enriched_binning/Xylose_Day06/Xylose_Day06_concoct_binning/fasta_bins/4.fa because the bin size is not between 50kb and 20Mb\n",
      "Skipping /home/sam/FullCyc_metagenome/enriched_binning/Xylose_Day06/Xylose_Day06_concoct_binning/fasta_bins/52.fa because the bin size is not between 50kb and 20Mb\n",
      "Skipping /home/sam/FullCyc_metagenome/enriched_binning/Xylose_Day06/Xylose_Day06_concoct_binning/fasta_bins/53.fa because the bin size is not between 50kb and 20Mb\n",
      "Skipping /home/sam/FullCyc_metagenome/enriched_binning/Xylose_Day06/Xylose_Day06_concoct_binning/fasta_bins/54.fa because the bin size is not between 50kb and 20Mb\n",
      "Skipping /home/sam/FullCyc_metagenome/enriched_binning/Xylose_Day06/Xylose_Day06_concoct_binning/fasta_bins/6.fa because the bin size is not between 50kb and 20Mb\n",
      "Skipping /home/sam/FullCyc_metagenome/enriched_binning/Xylose_Day06/Xylose_Day06_concoct_binning/fasta_bins/7.fa because the bin size is not between 50kb and 20Mb\n",
      "Skipping /home/sam/FullCyc_metagenome/enriched_binning/Xylose_Day06/Xylose_Day06_concoct_binning/fasta_bins/8.fa because the bin size is not between 50kb and 20Mb\n",
      "Skipping /home/sam/FullCyc_metagenome/enriched_binning/Xylose_Day06/Xylose_Day06_concoct_binning/fasta_bins/9.fa because the bin size is not between 50kb and 20Mb\n",
      "\n",
      "------------------------------------------------------------------------------------------------------------------------\n",
      "-----                                          there are 23 bins in binsC                                          -----\n",
      "------------------------------------------------------------------------------------------------------------------------\n",
      "\n",
      "\n",
      "------------------------------------------------------------------------------------------------------------------------\n",
      "-----                                             There are 3 bin sets!                                            -----\n",
      "------------------------------------------------------------------------------------------------------------------------\n",
      "\n",
      "\n",
      "------------------------------------------------------------------------------------------------------------------------\n",
      "-----                              Fix contig naming by removing special characters...                             -----\n",
      "------------------------------------------------------------------------------------------------------------------------\n",
      "\n"
     ]
    },
    {
     "name": "stdout",
     "output_type": "stream",
     "text": [
      "\n",
      "########################################################################################################################\n",
      "#####                                             BEGIN BIN REFINEMENT                                             #####\n",
      "########################################################################################################################\n",
      "\n",
      "\n",
      "------------------------------------------------------------------------------------------------------------------------\n",
      "-----              There are three bin folders, so there 4 ways we can refine the bins (A+B, B+C, A+C,             -----\n",
      "-----                                    A+B+C). Will try all four in parallel!                                    -----\n",
      "------------------------------------------------------------------------------------------------------------------------\n",
      "\n",
      "Specified 3 input bin sets: -1 binsA -2 binsB -3 binsC\n",
      "Specified 2 input bin sets: -1 binsA -2 binsB\n",
      "Specified 2 input bin sets: -1 binsA -2 binsC\n",
      "Specified 2 input bin sets: -1 binsC -2 binsB\n",
      "Add folder/bin name to contig name for binsA bins\n",
      "Add folder/bin name to contig name for binsA bins\n",
      "Add folder/bin name to contig name for binsA bins\n",
      "Add folder/bin name to contig name for binsC bins\n"
     ]
    }
   ],
   "source": [
    "for treat in treatments:\n",
    "    print('Running:   ' + treat)\n",
    "    workDir = os.path.join(baseDir, treat)\n",
    "    outDir = os.path.join(workDir, treat+'_metaWRAP_refinement')\n",
    "    cmd = ' '.join(['metawrap bin_refinement',\n",
    "                    '-o', outDir,\n",
    "                    '-t', str(ncores),\n",
    "                    '-c 50',\n",
    "                    '-x 10',\n",
    "                    '-A', os.path.join(workDir, treat+'_metabat_binning'),\n",
    "                    '-B', os.path.join(workDir, treat+'_maxbin_binning', 'fasta_bins'),\n",
    "                    '-C', os.path.join(workDir, treat+'_concoct_binning', 'fasta_bins')])\n",
    "    !$cmd\n",
    "    print('\\n-----\\n\\n')"
   ]
  },
  {
   "cell_type": "code",
   "execution_count": 12,
   "metadata": {},
   "outputs": [
    {
     "name": "stdout",
     "output_type": "stream",
     "text": [
      "Done!\n"
     ]
    }
   ],
   "source": [
    "print('Done!')"
   ]
  },
  {
   "cell_type": "code",
   "execution_count": 22,
   "metadata": {},
   "outputs": [
    {
     "name": "stdout",
     "output_type": "stream",
     "text": [
      "There are 1 bins from Xylose_Day06\n",
      "\n",
      "     bin  completeness  contamination     GC   lineage   N50     size binner\n",
      "0  bin.1         62.04          1.754  0.626  Bacteria  2359  3937790  binsC\n",
      "\n",
      "\n",
      "-----\n",
      "\n",
      "\n",
      "There are 1 bins from Vanillin_Day48\n",
      "\n",
      "     bin  completeness  contamination     GC              lineage   N50  \\\n",
      "0  bin.1         52.77          0.974  0.674  Deltaproteobacteria  3185   \n",
      "\n",
      "      size binner  \n",
      "0  7050262  binsC  \n",
      "\n",
      "\n",
      "-----\n",
      "\n",
      "\n",
      "There are 5 bins from PalmiticAcid_Day48\n",
      "\n",
      "     bin  completeness  contamination     GC          lineage   N50     size  \\\n",
      "0  bin.4         70.58          2.492  0.685  Burkholderiales  4886  3420765   \n",
      "1  bin.5         62.17          6.837  0.647         Bacteria  5998  3630963   \n",
      "2  bin.3         52.79          8.771  0.687         Bacteria  4151  3861705   \n",
      "3  bin.1         51.72          1.136  0.684         Bacteria  5636  4356492   \n",
      "4  bin.2         50.35          6.666  0.646         Bacteria  2943  4343714   \n",
      "\n",
      "    binner  \n",
      "0   binsAC  \n",
      "1  binsABC  \n",
      "2  binsABC  \n",
      "3   binsAC  \n",
      "4   binsBC  \n",
      "\n",
      "\n",
      "-----\n",
      "\n",
      "\n",
      "There are 7 bins from PalmiticAcid_Day30\n",
      "\n",
      "     bin  completeness  contamination     GC              lineage   N50  \\\n",
      "0  bin.1         82.04          2.954  0.690  Alphaproteobacteria  4254   \n",
      "1  bin.7         81.73          3.925  0.686      Burkholderiales  4407   \n",
      "2  bin.3         66.94          1.120  0.567             Bacteria  5962   \n",
      "3  bin.9         63.84          2.427  0.515  Alphaproteobacteria  2531   \n",
      "4  bin.6         52.34          1.602  0.488         Cytophagales  4169   \n",
      "5  bin.4         52.29          2.599  0.479        Bacteroidetes  4953   \n",
      "6  bin.5         50.86          2.222  0.643             Bacteria  3498   \n",
      "\n",
      "      size  binner  \n",
      "0  4366217   binsA  \n",
      "1  4075940   binsA  \n",
      "2  2371627   binsA  \n",
      "3  1828537   binsC  \n",
      "4  3140435  binsBC  \n",
      "5  2915177  binsBC  \n",
      "6  4546373  binsBC  \n",
      "\n",
      "\n",
      "-----\n",
      "\n",
      "\n",
      "There are 9 bins from Cellulose_Day30\n",
      "\n",
      "      bin  completeness  contamination     GC              lineage   N50  \\\n",
      "0   bin.5         73.62          2.088  0.692  Alphaproteobacteria  4430   \n",
      "1   bin.8         70.96          2.239  0.483         Cytophagales  3661   \n",
      "2   bin.4         65.29          0.445  0.687             Bacteria  4960   \n",
      "3   bin.2         63.29          1.778  0.476        Bacteroidetes  5042   \n",
      "4   bin.9         62.08          1.689  0.593             Bacteria  4706   \n",
      "5   bin.6         59.80          1.754  0.733             Bacteria  3138   \n",
      "6  bin.10         54.70          0.000  0.641             Bacteria  3760   \n",
      "7   bin.1         52.37          1.072  0.727    Streptomycetaceae  3398   \n",
      "8   bin.7         52.09          3.636  0.678             Bacteria  2710   \n",
      "\n",
      "      size   binner  \n",
      "0  3859047   binsAB  \n",
      "1  4434296    binsC  \n",
      "2  5752728   binsBC  \n",
      "3  3297795   binsAC  \n",
      "4  3323408   binsAC  \n",
      "5  4907122   binsAB  \n",
      "6  3490843  binsABC  \n",
      "7  4045674    binsA  \n",
      "8  8217000    binsB  \n",
      "\n",
      "\n",
      "-----\n",
      "\n",
      "\n",
      "There are 1 bins from Glucose_Day01\n",
      "\n",
      "     bin  completeness  contamination     GC       lineage   N50     size  \\\n",
      "0  bin.1         58.17          2.891  0.652  Burkholderia  1790  4164767   \n",
      "\n",
      "  binner  \n",
      "0  binsC  \n",
      "\n",
      "\n",
      "-----\n",
      "\n",
      "\n",
      "There are 2 bins from Glucose_Day14\n",
      "\n",
      "     bin  completeness  contamination     GC              lineage   N50  \\\n",
      "0  bin.1         67.50          0.429  0.723    Streptomycetaceae  3397   \n",
      "1  bin.2         52.04          6.451  0.699  Deltaproteobacteria  2716   \n",
      "\n",
      "      size  binner  \n",
      "0  5070684   binsA  \n",
      "1  5409766  binsAB  \n",
      "\n",
      "\n",
      "-----\n",
      "\n",
      "\n",
      "There are 1 bins from Glycerol_Day14\n",
      "\n",
      "     bin  completeness  contamination    GC            lineage   N50     size  \\\n",
      "0  bin.1         64.24          0.429  0.72  Streptomycetaceae  3424  4879381   \n",
      "\n",
      "  binner  \n",
      "0  binsA  \n",
      "\n",
      "\n",
      "-----\n",
      "\n",
      "\n"
     ]
    }
   ],
   "source": [
    "for treat in treatments:\n",
    "    binstats = pd.read_csv(os.path.join(baseDir, treat, treat+'_metaWRAP_refinement', 'metawrap_50_10_bins.stats'), sep='\\t')\n",
    "    print('There are ' + str(len(binstats['bin'])) + ' bins from ' + treat + '\\n')\n",
    "    print(binstats)\n",
    "    print('\\n\\n-----\\n\\n')\n"
   ]
  }
 ],
 "metadata": {
  "kernelspec": {
   "display_name": "Python 2",
   "language": "python",
   "name": "python2"
  },
  "language_info": {
   "codemirror_mode": {
    "name": "ipython",
    "version": 2
   },
   "file_extension": ".py",
   "mimetype": "text/x-python",
   "name": "python",
   "nbconvert_exporter": "python",
   "pygments_lexer": "ipython2",
   "version": "2.7.17"
  }
 },
 "nbformat": 4,
 "nbformat_minor": 4
}
