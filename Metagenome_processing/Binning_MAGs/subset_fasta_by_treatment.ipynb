{
 "cells": [
  {
   "cell_type": "markdown",
   "metadata": {},
   "source": [
    "# Subsetting contig FASTA file\n",
    "\n",
    "Now I'll try binning just contigs that are enriched and have high coverage in the treatment samples."
   ]
  },
  {
   "cell_type": "code",
   "execution_count": 1,
   "metadata": {},
   "outputs": [],
   "source": [
    "import os\n",
    "import pandas as pd\n",
    "from Bio import SeqIO"
   ]
  },
  {
   "cell_type": "code",
   "execution_count": 7,
   "metadata": {},
   "outputs": [],
   "source": [
    "workDir = '/home/sam/FullCyc_metagenome/enriched_binning'\n",
    "orig_fasta = '/home/sam/FullCyc_metagenome/contigs/assembly.contigs.1000.fasta'\n",
    "enr_contigs = '/home/sam/FullCyc_metagenome/enriched_binning/enriched_contigs_per_treatment.txt'"
   ]
  },
  {
   "cell_type": "markdown",
   "metadata": {},
   "source": [
    "## Subsetting"
   ]
  },
  {
   "cell_type": "code",
   "execution_count": 15,
   "metadata": {},
   "outputs": [
    {
     "data": {
      "text/html": [
       "<div>\n",
       "<style scoped>\n",
       "    .dataframe tbody tr th:only-of-type {\n",
       "        vertical-align: middle;\n",
       "    }\n",
       "\n",
       "    .dataframe tbody tr th {\n",
       "        vertical-align: top;\n",
       "    }\n",
       "\n",
       "    .dataframe thead th {\n",
       "        text-align: right;\n",
       "    }\n",
       "</style>\n",
       "<table border=\"1\" class=\"dataframe\">\n",
       "  <thead>\n",
       "    <tr style=\"text-align: right;\">\n",
       "      <th></th>\n",
       "      <th>contigName</th>\n",
       "      <th>Treatment</th>\n",
       "      <th>Control</th>\n",
       "      <th>Treatment_cov</th>\n",
       "      <th>Control_cov</th>\n",
       "    </tr>\n",
       "  </thead>\n",
       "  <tbody>\n",
       "    <tr>\n",
       "      <th>1</th>\n",
       "      <td>scaffold_7_c1</td>\n",
       "      <td>Glucose_Day01</td>\n",
       "      <td>Control_Day01</td>\n",
       "      <td>6.822905</td>\n",
       "      <td>0.101410</td>\n",
       "    </tr>\n",
       "    <tr>\n",
       "      <th>2</th>\n",
       "      <td>scaffold_8_c1</td>\n",
       "      <td>Glucose_Day01</td>\n",
       "      <td>Control_Day01</td>\n",
       "      <td>9.139460</td>\n",
       "      <td>0.225249</td>\n",
       "    </tr>\n",
       "    <tr>\n",
       "      <th>3</th>\n",
       "      <td>scaffold_22_c1</td>\n",
       "      <td>Glucose_Day01</td>\n",
       "      <td>Control_Day01</td>\n",
       "      <td>7.231701</td>\n",
       "      <td>0.158839</td>\n",
       "    </tr>\n",
       "    <tr>\n",
       "      <th>4</th>\n",
       "      <td>scaffold_23_c1</td>\n",
       "      <td>Glucose_Day01</td>\n",
       "      <td>Control_Day01</td>\n",
       "      <td>7.332756</td>\n",
       "      <td>0.074734</td>\n",
       "    </tr>\n",
       "    <tr>\n",
       "      <th>5</th>\n",
       "      <td>scaffold_27_c1</td>\n",
       "      <td>Glucose_Day01</td>\n",
       "      <td>Control_Day01</td>\n",
       "      <td>6.605592</td>\n",
       "      <td>0.229707</td>\n",
       "    </tr>\n",
       "  </tbody>\n",
       "</table>\n",
       "</div>"
      ],
      "text/plain": [
       "       contigName      Treatment        Control  Treatment_cov  Control_cov\n",
       "1   scaffold_7_c1  Glucose_Day01  Control_Day01       6.822905     0.101410\n",
       "2   scaffold_8_c1  Glucose_Day01  Control_Day01       9.139460     0.225249\n",
       "3  scaffold_22_c1  Glucose_Day01  Control_Day01       7.231701     0.158839\n",
       "4  scaffold_23_c1  Glucose_Day01  Control_Day01       7.332756     0.074734\n",
       "5  scaffold_27_c1  Glucose_Day01  Control_Day01       6.605592     0.229707"
      ]
     },
     "execution_count": 15,
     "metadata": {},
     "output_type": "execute_result"
    }
   ],
   "source": [
    "enr_contigs_df = pd.read_csv(enr_contigs, sep='\\t')\n",
    "enr_contigs_df.head()"
   ]
  },
  {
   "cell_type": "code",
   "execution_count": null,
   "metadata": {},
   "outputs": [],
   "source": [
    "for treat in list(set(enr_contigs_df['Treatment'])):\n",
    "    os.makedirs(os.path.join(workDir, treat))\n",
    "    subcontigs = list(enr_contigs_df[enr_contigs_df['Treatment'] == treat]['contigName'])\n",
    "    with open(os.path.join(workDir, treat, treat+'.enr.contigs.1000.fasta'), 'w') as newfasta:\n",
    "        for record in SeqIO.parse(orig_fasta, 'fasta'):\n",
    "            if record.id in subcontigs:\n",
    "                newfasta.write('>' + record.id + '\\n' + str(record.seq) + '\\n')\n",
    "            "
   ]
  },
  {
   "cell_type": "code",
   "execution_count": 19,
   "metadata": {},
   "outputs": [
    {
     "name": "stdout",
     "output_type": "stream",
     "text": [
      "Done!\n"
     ]
    }
   ],
   "source": [
    "print('Done!')"
   ]
  },
  {
   "cell_type": "code",
   "execution_count": null,
   "metadata": {},
   "outputs": [],
   "source": []
  }
 ],
 "metadata": {
  "kernelspec": {
   "display_name": "Python 2",
   "language": "python",
   "name": "python2"
  },
  "language_info": {
   "codemirror_mode": {
    "name": "ipython",
    "version": 2
   },
   "file_extension": ".py",
   "mimetype": "text/x-python",
   "name": "python",
   "nbconvert_exporter": "python",
   "pygments_lexer": "ipython2",
   "version": "2.7.17"
  }
 },
 "nbformat": 4,
 "nbformat_minor": 4
}
