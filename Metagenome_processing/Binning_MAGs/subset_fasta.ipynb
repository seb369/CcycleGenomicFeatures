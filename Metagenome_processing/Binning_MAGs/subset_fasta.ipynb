{
 "cells": [
  {
   "cell_type": "markdown",
   "metadata": {},
   "source": [
    "# Subsetting contig FASTA file\n",
    "\n",
    "Now I'll try binning just contigs that are enriched and have high coverage in the treatment samples."
   ]
  },
  {
   "cell_type": "code",
   "execution_count": 1,
   "metadata": {},
   "outputs": [],
   "source": [
    "import os\n",
    "import pandas as pd\n",
    "from Bio import SeqIO"
   ]
  },
  {
   "cell_type": "code",
   "execution_count": 2,
   "metadata": {},
   "outputs": [],
   "source": [
    "orig_fasta = '/home/sam/FullCyc_metagenome/contigs/assembly.contigs.1000.fasta'\n",
    "enr_contigs = '/home/sam/FullCyc_metagenome/enriched_binning/enriched_contigs.txt'\n",
    "subset_fasta = '/home/sam/FullCyc_metagenome/enriched_binning/enriched_contigs.fasta'"
   ]
  },
  {
   "cell_type": "markdown",
   "metadata": {},
   "source": [
    "## Subsetting"
   ]
  },
  {
   "cell_type": "code",
   "execution_count": 3,
   "metadata": {},
   "outputs": [
    {
     "data": {
      "text/html": [
       "<div>\n",
       "<style scoped>\n",
       "    .dataframe tbody tr th:only-of-type {\n",
       "        vertical-align: middle;\n",
       "    }\n",
       "\n",
       "    .dataframe tbody tr th {\n",
       "        vertical-align: top;\n",
       "    }\n",
       "\n",
       "    .dataframe thead th {\n",
       "        text-align: right;\n",
       "    }\n",
       "</style>\n",
       "<table border=\"1\" class=\"dataframe\">\n",
       "  <thead>\n",
       "    <tr style=\"text-align: right;\">\n",
       "      <th></th>\n",
       "      <th>contigName</th>\n",
       "      <th>Substrate</th>\n",
       "      <th>Day</th>\n",
       "      <th>Treatment_coverage</th>\n",
       "      <th>Control_coverage</th>\n",
       "      <th>FC_cov</th>\n",
       "    </tr>\n",
       "  </thead>\n",
       "  <tbody>\n",
       "    <tr>\n",
       "      <th>0</th>\n",
       "      <td>scaffold_29_c1</td>\n",
       "      <td>Glucose</td>\n",
       "      <td>1</td>\n",
       "      <td>48.431687</td>\n",
       "      <td>1.254475</td>\n",
       "      <td>38.607150</td>\n",
       "    </tr>\n",
       "    <tr>\n",
       "      <th>1</th>\n",
       "      <td>scaffold_38_c1</td>\n",
       "      <td>Glucose</td>\n",
       "      <td>1</td>\n",
       "      <td>82.827881</td>\n",
       "      <td>0.000000</td>\n",
       "      <td>inf</td>\n",
       "    </tr>\n",
       "    <tr>\n",
       "      <th>2</th>\n",
       "      <td>scaffold_43_c1</td>\n",
       "      <td>Glucose</td>\n",
       "      <td>1</td>\n",
       "      <td>22.594457</td>\n",
       "      <td>0.435200</td>\n",
       "      <td>51.917419</td>\n",
       "    </tr>\n",
       "    <tr>\n",
       "      <th>3</th>\n",
       "      <td>scaffold_58_c2</td>\n",
       "      <td>Glucose</td>\n",
       "      <td>1</td>\n",
       "      <td>163.100400</td>\n",
       "      <td>9.184229</td>\n",
       "      <td>17.758747</td>\n",
       "    </tr>\n",
       "    <tr>\n",
       "      <th>4</th>\n",
       "      <td>scaffold_60_c1</td>\n",
       "      <td>Glucose</td>\n",
       "      <td>1</td>\n",
       "      <td>47.679245</td>\n",
       "      <td>0.151701</td>\n",
       "      <td>314.297830</td>\n",
       "    </tr>\n",
       "  </tbody>\n",
       "</table>\n",
       "</div>"
      ],
      "text/plain": [
       "       contigName Substrate  Day  Treatment_coverage  Control_coverage  \\\n",
       "0  scaffold_29_c1   Glucose    1           48.431687          1.254475   \n",
       "1  scaffold_38_c1   Glucose    1           82.827881          0.000000   \n",
       "2  scaffold_43_c1   Glucose    1           22.594457          0.435200   \n",
       "3  scaffold_58_c2   Glucose    1          163.100400          9.184229   \n",
       "4  scaffold_60_c1   Glucose    1           47.679245          0.151701   \n",
       "\n",
       "       FC_cov  \n",
       "0   38.607150  \n",
       "1         inf  \n",
       "2   51.917419  \n",
       "3   17.758747  \n",
       "4  314.297830  "
      ]
     },
     "execution_count": 3,
     "metadata": {},
     "output_type": "execute_result"
    }
   ],
   "source": [
    "enr_contigs_df = pd.read_csv(enr_contigs, sep='\\t')\n",
    "enr_contigs_df.head()"
   ]
  },
  {
   "cell_type": "code",
   "execution_count": null,
   "metadata": {},
   "outputs": [],
   "source": [
    "with open(subset_fasta, 'w') as output_fasta:\n",
    "    for record in SeqIO.parse(orig_fasta, 'fasta'):\n",
    "        if record.id in list(set(enr_contigs_df['contigName'])):\n",
    "            output_fasta.write('>' + record.id + '\\n' + str(record.seq) + '\\n')"
   ]
  },
  {
   "cell_type": "code",
   "execution_count": 9,
   "metadata": {},
   "outputs": [
    {
     "name": "stdout",
     "output_type": "stream",
     "text": [
      "Done!\n"
     ]
    }
   ],
   "source": [
    "print('Done!')"
   ]
  },
  {
   "cell_type": "code",
   "execution_count": null,
   "metadata": {},
   "outputs": [],
   "source": []
  }
 ],
 "metadata": {
  "kernelspec": {
   "display_name": "Python 3",
   "language": "python",
   "name": "python3"
  },
  "language_info": {
   "codemirror_mode": {
    "name": "ipython",
    "version": 3
   },
   "file_extension": ".py",
   "mimetype": "text/x-python",
   "name": "python",
   "nbconvert_exporter": "python",
   "pygments_lexer": "ipython3",
   "version": "3.7.6"
  }
 },
 "nbformat": 4,
 "nbformat_minor": 4
}
