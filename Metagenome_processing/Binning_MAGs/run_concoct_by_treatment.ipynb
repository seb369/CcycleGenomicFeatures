{
 "cells": [
  {
   "cell_type": "markdown",
   "metadata": {},
   "source": [
    "# Running CONCOCT to make bins within each treatment\n"
   ]
  },
  {
   "cell_type": "code",
   "execution_count": 1,
   "metadata": {},
   "outputs": [],
   "source": [
    "import os\n",
    "import pandas as pd\n",
    "from Bio import SeqIO"
   ]
  },
  {
   "cell_type": "code",
   "execution_count": 2,
   "metadata": {},
   "outputs": [],
   "source": [
    "baseDir = '/home/sam/FullCyc_metagenome/enriched_binning'\n",
    "enr_contigs = '/home/sam/FullCyc_metagenome/enriched_binning/enriched_contigs_per_treatment.txt'\n",
    "alignDir = '/home/sam/FullCyc_metagenome/alignments_1000k'\n",
    "\n",
    "ncores = 30"
   ]
  },
  {
   "cell_type": "markdown",
   "metadata": {},
   "source": [
    "## Subsetting"
   ]
  },
  {
   "cell_type": "code",
   "execution_count": 3,
   "metadata": {},
   "outputs": [
    {
     "data": {
      "text/plain": [
       "['Xylose_Day06',\n",
       " 'Vanillin_Day48',\n",
       " 'Glycerol_Day14',\n",
       " 'Glucose_Day01',\n",
       " 'Glucose_Day14',\n",
       " 'PalmiticAcid_Day30',\n",
       " 'PalmiticAcid_Day48',\n",
       " 'Cellulose_Day30']"
      ]
     },
     "execution_count": 3,
     "metadata": {},
     "output_type": "execute_result"
    }
   ],
   "source": [
    "treatments = list(set(pd.read_csv(enr_contigs, sep='\\t')['Treatment']))\n",
    "treatments"
   ]
  },
  {
   "cell_type": "markdown",
   "metadata": {},
   "source": [
    "### Cut contigs into smaller parts"
   ]
  },
  {
   "cell_type": "code",
   "execution_count": 4,
   "metadata": {},
   "outputs": [
    {
     "name": "stdout",
     "output_type": "stream",
     "text": [
      "Running:   Xylose_Day06\n",
      "total 156M\n",
      "-rw-r--r-- 1 sam buckley  77M Jul  7 17:49 Xylose_Day06.enr.contigs.1000.fasta\n",
      "-rw-r--r-- 1 sam buckley 2.7M Jul  7 21:46 Xylose_Day06.split_contigs_10k.bed\n",
      "-rw-r--r-- 1 sam buckley  77M Jul  7 21:46 Xylose_Day06.split_contigs_10k.fa\n",
      "\n",
      "-----\n",
      "\n",
      "\n",
      "Running:   Vanillin_Day48\n",
      "total 409M\n",
      "-rw-r--r-- 1 sam buckley 200M Jul  7 19:47 Vanillin_Day48.enr.contigs.1000.fasta\n",
      "-rw-r--r-- 1 sam buckley 7.3M Jul  7 21:47 Vanillin_Day48.split_contigs_10k.bed\n",
      "-rw-r--r-- 1 sam buckley 202M Jul  7 21:47 Vanillin_Day48.split_contigs_10k.fa\n",
      "\n",
      "-----\n",
      "\n",
      "\n",
      "Running:   Glycerol_Day14\n",
      "total 320M\n",
      "-rw-r--r-- 1 sam buckley 157M Jul  7 20:09 Glycerol_Day14.enr.contigs.1000.fasta\n",
      "-rw-r--r-- 1 sam buckley 5.4M Jul  7 21:47 Glycerol_Day14.split_contigs_10k.bed\n",
      "-rw-r--r-- 1 sam buckley 158M Jul  7 21:47 Glycerol_Day14.split_contigs_10k.fa\n",
      "\n",
      "-----\n",
      "\n",
      "\n",
      "Running:   Glucose_Day01\n",
      "total 239M\n",
      "-rw-r--r-- 1 sam buckley 117M Jul  7 17:36 Glucose_Day01.enr.contigs.1000.fasta\n",
      "-rw-r--r-- 1 sam buckley 4.1M Jul  7 21:47 Glucose_Day01.split_contigs_10k.bed\n",
      "-rw-r--r-- 1 sam buckley 118M Jul  7 21:47 Glucose_Day01.split_contigs_10k.fa\n",
      "\n",
      "-----\n",
      "\n",
      "\n",
      "Running:   Glucose_Day14\n",
      "total 404M\n",
      "-rw-r--r-- 1 sam buckley 198M Jul  7 16:44 Glucose_Day14.enr.contigs.1000.fasta\n",
      "-rw-r--r-- 1 sam buckley 6.9M Jul  7 21:47 Glucose_Day14.split_contigs_10k.bed\n",
      "-rw-r--r-- 1 sam buckley 200M Jul  7 21:47 Glucose_Day14.split_contigs_10k.fa\n",
      "\n",
      "-----\n",
      "\n",
      "\n",
      "Running:   PalmiticAcid_Day30\n",
      "total 702M\n",
      "-rw-r--r-- 1 sam buckley 344M Jul  7 19:18 PalmiticAcid_Day30.enr.contigs.1000.fasta\n",
      "-rw-r--r-- 1 sam buckley  12M Jul  7 21:47 PalmiticAcid_Day30.split_contigs_10k.bed\n",
      "-rw-r--r-- 1 sam buckley 347M Jul  7 21:47 PalmiticAcid_Day30.split_contigs_10k.fa\n",
      "\n",
      "-----\n",
      "\n",
      "\n",
      "Running:   PalmiticAcid_Day48\n",
      "total 575M\n",
      "-rw-r--r-- 1 sam buckley 282M Jul  7 17:19 PalmiticAcid_Day48.enr.contigs.1000.fasta\n",
      "-rw-r--r-- 1 sam buckley 9.1M Jul  7 21:47 PalmiticAcid_Day48.split_contigs_10k.bed\n",
      "-rw-r--r-- 1 sam buckley 285M Jul  7 21:47 PalmiticAcid_Day48.split_contigs_10k.fa\n",
      "\n",
      "-----\n",
      "\n",
      "\n",
      "Running:   Cellulose_Day30\n",
      "total 763M\n",
      "-rw-r--r-- 1 sam buckley 374M Jul  7 18:35 Cellulose_Day30.enr.contigs.1000.fasta\n",
      "-rw-r--r-- 1 sam buckley  13M Jul  7 21:47 Cellulose_Day30.split_contigs_10k.bed\n",
      "-rw-r--r-- 1 sam buckley 377M Jul  7 21:47 Cellulose_Day30.split_contigs_10k.fa\n",
      "\n",
      "-----\n",
      "\n",
      "\n"
     ]
    }
   ],
   "source": [
    "for treat in treatments:\n",
    "    print('Running:   ' + treat)\n",
    "    workDir = os.path.join(baseDir, treat)\n",
    "    cmd = ' '.join(['cut_up_fasta.py', \n",
    "                    os.path.join(workDir, treat+'.enr.contigs.1000.fasta'),\n",
    "                    '-c 10000',\n",
    "                    '-o 0', \n",
    "                    '--merge_last',\n",
    "                    '-b', os.path.join(workDir, treat+'.split_contigs_10k.bed'),\n",
    "                    '>', os.path.join(workDir, treat+'.split_contigs_10k.fa')])\n",
    "    !$cmd\n",
    "    !ls -lh $workDir\n",
    "    print('\\n-----\\n\\n')"
   ]
  },
  {
   "cell_type": "markdown",
   "metadata": {},
   "source": [
    "### Generate coverage tables"
   ]
  },
  {
   "cell_type": "code",
   "execution_count": null,
   "metadata": {},
   "outputs": [
    {
     "name": "stdout",
     "output_type": "stream",
     "text": [
      "Running:   Xylose_Day06\n",
      "[W::hts_idx_load2] The index file is older than the data file: /home/sam/FullCyc_metagenome/alignments_1000k/Xylose_Day6_mapped.sorted.bam.bai\n"
     ]
    }
   ],
   "source": [
    "for treat in treatments:\n",
    "    print('Running:   ' + treat)\n",
    "    workDir = os.path.join(baseDir, treat)\n",
    "    day = int(treat.split('_Day')[1])\n",
    "    substrate = treat.split('_Day')[0]\n",
    "    cmd = ' '.join(['concoct_coverage_table.py',\n",
    "                    os.path.join(workDir, treat+'.split_contigs_10k.bed'),\n",
    "                    os.path.join(alignDir, substrate+'_Day'+str(day)+'_mapped.sorted.bam'),\n",
    "                    os.path.join(alignDir, 'Control_Day'+str(day)+'_mapped.sorted.bam'),\n",
    "                    '>', os.path.join(workDir, treat+'.cov_table.tsv')])\n",
    "    !$cmd\n",
    "    !ls -lh $workDir\n",
    "    print('\\n-----\\n\\n')"
   ]
  },
  {
   "cell_type": "markdown",
   "metadata": {},
   "source": [
    "### Run CONCOCT"
   ]
  },
  {
   "cell_type": "code",
   "execution_count": null,
   "metadata": {},
   "outputs": [],
   "source": [
    "for treat in treatments:\n",
    "    print('Running:   ' + treat)\n",
    "    workDir = os.path.join(baseDir, treat)\n",
    "    cmd = ' '.join(['concoct',\n",
    "                    '--coverage_file', os.path.join(workDir, treat+'.cov_table.tsv'),\n",
    "                    '--composition_file', os.path.join(workDir, treat+'.split_contigs_10k.fa'),\n",
    "                    '-k 4', \n",
    "                    '-c 400',\n",
    "                    '-t', str(ncores),\n",
    "                    '-r 150',\n",
    "                    '-s 7242',\n",
    "                    '-i 500',\n",
    "                    '--converge_out',\n",
    "                    '-b', os.path.join(workDir, treat+'_concoct_binning/')])\n",
    "    \n",
    "    !$cmd               \n",
    "    print('\\n-----\\n\\n')"
   ]
  },
  {
   "cell_type": "markdown",
   "metadata": {},
   "source": [
    "### Merge subcontig clustering into original contig clusters"
   ]
  },
  {
   "cell_type": "code",
   "execution_count": null,
   "metadata": {},
   "outputs": [],
   "source": [
    "for treat in treatments:\n",
    "    print('Running:   ' + treat)\n",
    "    workDir = os.path.join(baseDir, treat, treat+'_concoct_binning')\n",
    "    cmd = ' '.join(['merge_cutup_clustering.py',\n",
    "                    os.path.join(workDir, 'clustering_gt1000.csv'),\n",
    "                    '>', os.path.join(workDir, 'clustering_merged.csv')])\n",
    "    !$cmd\n",
    "    print('\\n-----\\n\\n')"
   ]
  },
  {
   "cell_type": "code",
   "execution_count": 8,
   "metadata": {},
   "outputs": [
    {
     "name": "stdout",
     "output_type": "stream",
     "text": [
      "Done!\n"
     ]
    }
   ],
   "source": [
    "print('Done!')"
   ]
  },
  {
   "cell_type": "markdown",
   "metadata": {},
   "source": [
    "### Make bin fasta files"
   ]
  },
  {
   "cell_type": "code",
   "execution_count": 11,
   "metadata": {},
   "outputs": [
    {
     "name": "stdout",
     "output_type": "stream",
     "text": [
      "Running:   Xylose_Day06\n",
      "\n",
      "-----\n",
      "\n",
      "\n",
      "Running:   Vanillin_Day48\n",
      "\n",
      "-----\n",
      "\n",
      "\n",
      "Running:   Glycerol_Day14\n",
      "\n",
      "-----\n",
      "\n",
      "\n",
      "Running:   Glucose_Day01\n",
      "\n",
      "-----\n",
      "\n",
      "\n",
      "Running:   Glucose_Day14\n",
      "\n",
      "-----\n",
      "\n",
      "\n",
      "Running:   PalmiticAcid_Day30\n",
      "\n",
      "-----\n",
      "\n",
      "\n",
      "Running:   PalmiticAcid_Day48\n",
      "\n",
      "-----\n",
      "\n",
      "\n",
      "Running:   Cellulose_Day30\n",
      "\n",
      "-----\n",
      "\n",
      "\n"
     ]
    }
   ],
   "source": [
    "for treat in treatments:\n",
    "    print('Running:   ' + treat)\n",
    "    workDir = os.path.join(baseDir, treat, treat+'_concoct_binning', 'fasta_bins')\n",
    "    os.makedirs(workDir)\n",
    "    cmd = ' '.join(['extract_fasta_bins.py',\n",
    "                    os.path.join(baseDir, treat, treat+'.enr.contigs.1000.fasta'),\n",
    "                    os.path.join(baseDir, treat, treat+'_concoct_binning', 'clustering_merged.csv'),\n",
    "                    '--output_path', workDir])\n",
    "    !$cmd\n",
    "    print('\\n-----\\n\\n')"
   ]
  },
  {
   "cell_type": "code",
   "execution_count": null,
   "metadata": {},
   "outputs": [],
   "source": []
  }
 ],
 "metadata": {
  "kernelspec": {
   "display_name": "Python 3",
   "language": "python",
   "name": "python3"
  },
  "language_info": {
   "codemirror_mode": {
    "name": "ipython",
    "version": 3
   },
   "file_extension": ".py",
   "mimetype": "text/x-python",
   "name": "python",
   "nbconvert_exporter": "python",
   "pygments_lexer": "ipython3",
   "version": "3.7.6"
  }
 },
 "nbformat": 4,
 "nbformat_minor": 4
}
