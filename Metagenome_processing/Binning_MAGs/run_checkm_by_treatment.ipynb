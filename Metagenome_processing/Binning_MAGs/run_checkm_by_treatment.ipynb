{
 "cells": [
  {
   "cell_type": "markdown",
   "metadata": {},
   "source": [
    "# Running CONCOCT to make bins within each treatment\n"
   ]
  },
  {
   "cell_type": "code",
   "execution_count": 1,
   "metadata": {},
   "outputs": [],
   "source": [
    "import os\n",
    "import pandas as pd\n",
    "from Bio import SeqIO"
   ]
  },
  {
   "cell_type": "code",
   "execution_count": 2,
   "metadata": {},
   "outputs": [],
   "source": [
    "baseDir = '/home/sam/FullCyc_metagenome/enriched_binning'\n",
    "enr_contigs = '/home/sam/FullCyc_metagenome/enriched_binning/enriched_contigs_per_treatment.txt'\n",
    "alignDir = '/home/sam/FullCyc_metagenome/alignments_1000k'\n",
    "\n",
    "ncores = 30"
   ]
  },
  {
   "cell_type": "markdown",
   "metadata": {},
   "source": [
    "## Run checkm"
   ]
  },
  {
   "cell_type": "code",
   "execution_count": 3,
   "metadata": {},
   "outputs": [
    {
     "data": {
      "text/plain": [
       "['Xylose_Day06',\n",
       " 'Vanillin_Day48',\n",
       " 'PalmiticAcid_Day48',\n",
       " 'PalmiticAcid_Day30',\n",
       " 'Cellulose_Day30',\n",
       " 'Glucose_Day01',\n",
       " 'Glucose_Day14',\n",
       " 'Glycerol_Day14']"
      ]
     },
     "execution_count": 3,
     "metadata": {},
     "output_type": "execute_result"
    }
   ],
   "source": [
    "treatments = list(set(pd.read_csv(enr_contigs, sep='\\t')['Treatment']))\n",
    "treatments"
   ]
  },
  {
   "cell_type": "code",
   "execution_count": null,
   "metadata": {},
   "outputs": [
    {
     "name": "stdout",
     "output_type": "stream",
     "text": [
      "Running:   Xylose_Day06\n",
      "[2020-07-08 15:14:09] INFO: CheckM v1.0.18\n",
      "[2020-07-08 15:14:09] INFO: checkm lineage_wf -t 30 -x fa -f /home/sam/FullCyc_metagenome/enriched_binning/Xylose_Day06/Xylose_Day06_checkm_output/checkm_results.txt --tab_table --pplacer_threads 10 /home/sam/FullCyc_metagenome/enriched_binning/Xylose_Day06/Xylose_Day06_concoct_binning/fasta_bins /home/sam/FullCyc_metagenome/enriched_binning/Xylose_Day06/Xylose_Day06_checkm_output\n",
      "[2020-07-08 15:14:09] INFO: [CheckM - tree] Placing bins in reference genome tree.\n",
      "[2020-07-08 15:14:10] INFO: Identifying marker genes in 56 bins with 30 threads:\n",
      "    Finished processing 56 of 56 (100.00%) bins.\n",
      "[2020-07-08 15:14:40] INFO: Saving HMM info to file.\n",
      "[2020-07-08 15:14:40] INFO: Calculating genome statistics for 56 bins with 30 threads:\n",
      "    Finished processing 56 of 56 (100.00%) bins.\n",
      "[2020-07-08 15:14:41] INFO: Extracting marker genes to align.\n",
      "[2020-07-08 15:14:41] INFO: Parsing HMM hits to marker genes:\n",
      "    Finished parsing hits for 56 of 56 (100.00%) bins.\n",
      "[2020-07-08 15:14:43] INFO: Extracting 43 HMMs with 30 threads:\n",
      "    Finished extracting 43 of 43 (100.00%) HMMs.\n",
      "[2020-07-08 15:14:43] INFO: Aligning 43 marker genes with 30 threads:\n",
      "    Finished aligning 43 of 43 (100.00%) marker genes.\n",
      "[2020-07-08 15:14:43] INFO: Reading marker alignment files.\n",
      "[2020-07-08 15:14:43] INFO: Concatenating alignments.\n",
      "[2020-07-08 15:14:43] INFO: Placing 56 bins into the genome tree with pplacer (be patient).\n"
     ]
    }
   ],
   "source": [
    "for treat in treatments:\n",
    "    print('Running:   ' + treat)\n",
    "    workDir = os.path.join(baseDir, treat)\n",
    "    cmd = ' '.join(['checkm lineage_wf',\n",
    "                    '-t', str(ncores),\n",
    "                    '-x fa',\n",
    "                    '-f', os.path.join(workDir, treat+'_checkm_output', 'checkm_results.txt'),\n",
    "                    '--tab_table',\n",
    "                    '--pplacer_threads', str(ncores/3),\n",
    "                    os.path.join(workDir, treat+'_concoct_binning', 'fasta_bins'),\n",
    "                    os.path.join(workDir, treat+'_checkm_output')])\n",
    "    !$cmd\n",
    "    print('\\n-----\\n\\n')"
   ]
  },
  {
   "cell_type": "code",
   "execution_count": 8,
   "metadata": {},
   "outputs": [
    {
     "name": "stdout",
     "output_type": "stream",
     "text": [
      "Done!\n"
     ]
    }
   ],
   "source": [
    "print('Done!')"
   ]
  },
  {
   "cell_type": "code",
   "execution_count": null,
   "metadata": {},
   "outputs": [],
   "source": []
  }
 ],
 "metadata": {
  "kernelspec": {
   "display_name": "Python 2",
   "language": "python",
   "name": "python2"
  },
  "language_info": {
   "codemirror_mode": {
    "name": "ipython",
    "version": 2
   },
   "file_extension": ".py",
   "mimetype": "text/x-python",
   "name": "python",
   "nbconvert_exporter": "python",
   "pygments_lexer": "ipython2",
   "version": "2.7.17"
  }
 },
 "nbformat": 4,
 "nbformat_minor": 4
}
