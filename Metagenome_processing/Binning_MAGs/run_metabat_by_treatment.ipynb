{
 "cells": [
  {
   "cell_type": "markdown",
   "metadata": {},
   "source": [
    "# Running MetaBAT2 to make bins within each treatment\n"
   ]
  },
  {
   "cell_type": "code",
   "execution_count": 1,
   "metadata": {},
   "outputs": [],
   "source": [
    "import os\n",
    "import pandas as pd\n",
    "from Bio import SeqIO"
   ]
  },
  {
   "cell_type": "code",
   "execution_count": 16,
   "metadata": {},
   "outputs": [],
   "source": [
    "baseDir = '/home/sam/FullCyc_metagenome/enriched_binning'\n",
    "enr_contigs = '/home/sam/FullCyc_metagenome/enriched_binning/enriched_contigs_per_treatment.txt'\n",
    "alignDir = '/home/sam/FullCyc_metagenome/alignments_1000k'\n",
    "\n",
    "ncores = 20"
   ]
  },
  {
   "cell_type": "code",
   "execution_count": 3,
   "metadata": {},
   "outputs": [
    {
     "data": {
      "text/plain": [
       "['Xylose_Day06',\n",
       " 'Vanillin_Day48',\n",
       " 'PalmiticAcid_Day48',\n",
       " 'PalmiticAcid_Day30',\n",
       " 'Cellulose_Day30',\n",
       " 'Glucose_Day01',\n",
       " 'Glucose_Day14',\n",
       " 'Glycerol_Day14']"
      ]
     },
     "execution_count": 3,
     "metadata": {},
     "output_type": "execute_result"
    }
   ],
   "source": [
    "treatments = list(set(pd.read_csv(enr_contigs, sep='\\t')['Treatment']))\n",
    "treatments"
   ]
  },
  {
   "cell_type": "markdown",
   "metadata": {},
   "source": [
    "### Getting contig coverages"
   ]
  },
  {
   "cell_type": "code",
   "execution_count": 7,
   "metadata": {},
   "outputs": [
    {
     "name": "stdout",
     "output_type": "stream",
     "text": [
      "Running:   Xylose_Day06\n",
      "Output depth matrix to /home/sam/FullCyc_metagenome/enriched_binning/Xylose_Day06/full_metabat_depths.txt\n",
      "Output matrix to /home/sam/FullCyc_metagenome/enriched_binning/Xylose_Day06/full_metabat_depths.txt\n",
      "Opening 2 bams\n",
      "Consolidating headers\n",
      "Processing bam files\n",
      "Thread 1 finished: Control_Day6_mapped.sorted.bam with 202765028 reads and 60704134 readsWellMapped\n",
      "Thread 0 finished: Xylose_Day6_mapped.sorted.bam with 366186976 reads and 143481492 readsWellMapped\n",
      "Creating depth matrix file: /home/sam/FullCyc_metagenome/enriched_binning/Xylose_Day06/full_metabat_depths.txt\n",
      "Closing most bam files\n",
      "Closing last bam file\n",
      "Finished\n",
      "Running:   Vanillin_Day48\n",
      "Output depth matrix to /home/sam/FullCyc_metagenome/enriched_binning/Vanillin_Day48/full_metabat_depths.txt\n",
      "Output matrix to /home/sam/FullCyc_metagenome/enriched_binning/Vanillin_Day48/full_metabat_depths.txt\n",
      "Opening 2 bams\n",
      "Consolidating headers\n",
      "Processing bam files\n",
      "Thread 0 finished: Vanillin_Day48_mapped.sorted.bam with 235055426 reads and 82159036 readsWellMapped\n",
      "Thread 1 finished: Control_Day48_mapped.sorted.bam with 470686044 reads and 157436682 readsWellMapped\n",
      "Creating depth matrix file: /home/sam/FullCyc_metagenome/enriched_binning/Vanillin_Day48/full_metabat_depths.txt\n",
      "Closing most bam files\n",
      "Closing last bam file\n",
      "Finished\n",
      "Running:   PalmiticAcid_Day48\n",
      "Output depth matrix to /home/sam/FullCyc_metagenome/enriched_binning/PalmiticAcid_Day48/full_metabat_depths.txt\n",
      "Output matrix to /home/sam/FullCyc_metagenome/enriched_binning/PalmiticAcid_Day48/full_metabat_depths.txt\n",
      "Opening 2 bams\n",
      "Consolidating headers\n",
      "Processing bam files\n",
      "Thread 0 finished: PalmiticAcid_Day48_mapped.sorted.bam with 233792730 reads and 96512586 readsWellMapped\n",
      "Thread 1 finished: Control_Day48_mapped.sorted.bam with 470686044 reads and 157436682 readsWellMapped\n",
      "Creating depth matrix file: /home/sam/FullCyc_metagenome/enriched_binning/PalmiticAcid_Day48/full_metabat_depths.txt\n",
      "Closing most bam files\n",
      "Closing last bam file\n",
      "Finished\n",
      "Running:   PalmiticAcid_Day30\n",
      "Output depth matrix to /home/sam/FullCyc_metagenome/enriched_binning/PalmiticAcid_Day30/full_metabat_depths.txt\n",
      "Output matrix to /home/sam/FullCyc_metagenome/enriched_binning/PalmiticAcid_Day30/full_metabat_depths.txt\n",
      "Opening 2 bams\n",
      "Consolidating headers\n",
      "Processing bam files\n",
      "Thread 0 finished: PalmiticAcid_Day30_mapped.sorted.bam with 303570170 reads and 139619410 readsWellMapped\n",
      "Thread 1 finished: Control_Day30_mapped.sorted.bam with 474684452 reads and 147789198 readsWellMapped\n",
      "Creating depth matrix file: /home/sam/FullCyc_metagenome/enriched_binning/PalmiticAcid_Day30/full_metabat_depths.txt\n",
      "Closing most bam files\n",
      "Closing last bam file\n",
      "Finished\n",
      "Running:   Cellulose_Day30\n",
      "Output depth matrix to /home/sam/FullCyc_metagenome/enriched_binning/Cellulose_Day30/full_metabat_depths.txt\n",
      "Output matrix to /home/sam/FullCyc_metagenome/enriched_binning/Cellulose_Day30/full_metabat_depths.txt\n",
      "Opening 2 bams\n",
      "Consolidating headers\n",
      "Processing bam files\n",
      "Thread 0 finished: Cellulose_Day30_mapped.sorted.bam with 287983798 reads and 110286836 readsWellMapped\n",
      "Thread 1 finished: Control_Day30_mapped.sorted.bam with 474684452 reads and 147789198 readsWellMapped\n",
      "Creating depth matrix file: /home/sam/FullCyc_metagenome/enriched_binning/Cellulose_Day30/full_metabat_depths.txt\n",
      "Closing most bam files\n",
      "Closing last bam file\n",
      "Finished\n",
      "Running:   Glucose_Day01\n",
      "Output depth matrix to /home/sam/FullCyc_metagenome/enriched_binning/Glucose_Day01/full_metabat_depths.txt\n",
      "Output matrix to /home/sam/FullCyc_metagenome/enriched_binning/Glucose_Day01/full_metabat_depths.txt\n",
      "Opening 2 bams\n",
      "Consolidating headers\n",
      "Processing bam files\n",
      "Thread 1 finished: Control_Day1_mapped.sorted.bam with 213609794 reads and 52755483 readsWellMapped\n",
      "Thread 0 finished: Glucose_Day1_mapped.sorted.bam with 374836102 reads and 93638322 readsWellMapped\n",
      "Creating depth matrix file: /home/sam/FullCyc_metagenome/enriched_binning/Glucose_Day01/full_metabat_depths.txt\n",
      "Closing most bam files\n",
      "Closing last bam file\n",
      "Finished\n",
      "Running:   Glucose_Day14\n",
      "Output depth matrix to /home/sam/FullCyc_metagenome/enriched_binning/Glucose_Day14/full_metabat_depths.txt\n",
      "Output matrix to /home/sam/FullCyc_metagenome/enriched_binning/Glucose_Day14/full_metabat_depths.txt\n",
      "Opening 2 bams\n",
      "Consolidating headers\n",
      "Processing bam files\n",
      "Thread 1 finished: Control_Day14_mapped.sorted.bam with 279108278 reads and 86360960 readsWellMapped\n",
      "Thread 0 finished: Glucose_Day14_mapped.sorted.bam with 312110680 reads and 120692714 readsWellMapped\n",
      "Creating depth matrix file: /home/sam/FullCyc_metagenome/enriched_binning/Glucose_Day14/full_metabat_depths.txt\n",
      "Closing most bam files\n",
      "Closing last bam file\n",
      "Finished\n",
      "Running:   Glycerol_Day14\n",
      "Output depth matrix to /home/sam/FullCyc_metagenome/enriched_binning/Glycerol_Day14/full_metabat_depths.txt\n",
      "Output matrix to /home/sam/FullCyc_metagenome/enriched_binning/Glycerol_Day14/full_metabat_depths.txt\n",
      "Opening 2 bams\n",
      "Consolidating headers\n",
      "Processing bam files\n",
      "Thread 1 finished: Control_Day14_mapped.sorted.bam with 279108278 reads and 86360960 readsWellMapped\n",
      "Thread 0 finished: Glycerol_Day14_mapped.sorted.bam with 336430478 reads and 134946600 readsWellMapped\n",
      "Creating depth matrix file: /home/sam/FullCyc_metagenome/enriched_binning/Glycerol_Day14/full_metabat_depths.txt\n",
      "Closing most bam files\n",
      "Closing last bam file\n",
      "Finished\n"
     ]
    }
   ],
   "source": [
    "for treat in treatments:\n",
    "    print('Running:   ' + treat)\n",
    "    workDir = os.path.join(baseDir, treat)\n",
    "    day = int(treat.split('_Day')[1])\n",
    "    substrate = treat.split('_Day')[0]\n",
    "    cmd = ' '.join(['jgi_summarize_bam_contig_depths', \n",
    "                    '--outputDepth', os.path.join(workDir, 'full_metabat_depths.txt'),\n",
    "                    os.path.join(alignDir, substrate+'_Day'+str(day)+'_mapped.sorted.bam'),\n",
    "                    os.path.join(alignDir, 'Control_Day'+str(day)+'_mapped.sorted.bam')])\n",
    "    !$cmd"
   ]
  },
  {
   "cell_type": "markdown",
   "metadata": {},
   "source": [
    "Need to remove the contigs that we dont want to bin from this coverage file"
   ]
  },
  {
   "cell_type": "code",
   "execution_count": 9,
   "metadata": {},
   "outputs": [
    {
     "name": "stdout",
     "output_type": "stream",
     "text": [
      "Running:   Xylose_Day06\n",
      "Running:   Vanillin_Day48\n",
      "Running:   PalmiticAcid_Day48\n",
      "Running:   PalmiticAcid_Day30\n",
      "Running:   Cellulose_Day30\n",
      "Running:   Glucose_Day01\n",
      "Running:   Glucose_Day14\n",
      "Running:   Glycerol_Day14\n"
     ]
    }
   ],
   "source": [
    "contigs_by_treat = pd.read_csv(enr_contigs, sep='\\t')\n",
    "\n",
    "for treat in treatments:\n",
    "    print('Running:   ' + treat)\n",
    "    workDir = os.path.join(baseDir, treat)\n",
    "    full_cov_df = pd.read_csv(os.path.join(workDir, 'full_metabat_depths.txt'), sep='\\t')\n",
    "    full_cov_df = full_cov_df[full_cov_df.contigName.isin(contigs_by_treat[contigs_by_treat['Treatment'] == treat]['contigName'])]\n",
    "    full_cov_df.to_csv(os.path.join(workDir, treat+'_metabat_depths.txt'), sep='\\t', header=True, index=False)\n",
    "    full_cov_df = None\n",
    "    \n",
    "contigs_by_treat = None"
   ]
  },
  {
   "cell_type": "markdown",
   "metadata": {},
   "source": [
    "### Run MetaBAT"
   ]
  },
  {
   "cell_type": "code",
   "execution_count": 17,
   "metadata": {},
   "outputs": [
    {
     "name": "stdout",
     "output_type": "stream",
     "text": [
      "Running:   Xylose_Day06\n",
      "MetaBAT 2 (v2.12.1) using minContig 1500, minCV 1.0, minCVSum 1.0, maxP 95%, minS 60, and maxEdges 500. \n",
      "20 bins (30147006 bases in total) formed.\n",
      "\n",
      "-----\n",
      "\n",
      "\n",
      "Running:   Vanillin_Day48\n",
      "MetaBAT 2 (v2.12.1) using minContig 1500, minCV 1.0, minCVSum 1.0, maxP 95%, minS 60, and maxEdges 500. \n",
      "42 bins (82120772 bases in total) formed.\n",
      "\n",
      "-----\n",
      "\n",
      "\n",
      "Running:   PalmiticAcid_Day48\n",
      "MetaBAT 2 (v2.12.1) using minContig 1500, minCV 1.0, minCVSum 1.0, maxP 95%, minS 60, and maxEdges 500. \n",
      "33 bins (151968670 bases in total) formed.\n",
      "\n",
      "-----\n",
      "\n",
      "\n",
      "Running:   PalmiticAcid_Day30\n",
      "MetaBAT 2 (v2.12.1) using minContig 1500, minCV 1.0, minCVSum 1.0, maxP 95%, minS 60, and maxEdges 500. \n",
      "66 bins (145889853 bases in total) formed.\n",
      "\n",
      "-----\n",
      "\n",
      "\n",
      "Running:   Cellulose_Day30\n",
      "MetaBAT 2 (v2.12.1) using minContig 1500, minCV 1.0, minCVSum 1.0, maxP 95%, minS 60, and maxEdges 500. \n",
      "55 bins (179634796 bases in total) formed.\n",
      "\n",
      "-----\n",
      "\n",
      "\n",
      "Running:   Glucose_Day01\n",
      "MetaBAT 2 (v2.12.1) using minContig 1500, minCV 1.0, minCVSum 1.0, maxP 95%, minS 60, and maxEdges 500. \n",
      "25 bins (40100008 bases in total) formed.\n",
      "\n",
      "-----\n",
      "\n",
      "\n",
      "Running:   Glucose_Day14\n",
      "MetaBAT 2 (v2.12.1) using minContig 1500, minCV 1.0, minCVSum 1.0, maxP 95%, minS 60, and maxEdges 500. \n",
      "38 bins (87292000 bases in total) formed.\n",
      "\n",
      "-----\n",
      "\n",
      "\n",
      "Running:   Glycerol_Day14\n",
      "MetaBAT 2 (v2.12.1) using minContig 1500, minCV 1.0, minCVSum 1.0, maxP 95%, minS 60, and maxEdges 500. \n",
      "26 bins (67398051 bases in total) formed.\n",
      "\n",
      "-----\n",
      "\n",
      "\n"
     ]
    }
   ],
   "source": [
    "for treat in treatments:\n",
    "    print('Running:   ' + treat)\n",
    "    workDir = os.path.join(baseDir, treat)\n",
    "    outDir = os.path.join(baseDir, treat, treat+'_metabat_binning')\n",
    "    os.makedirs(outDir)\n",
    "    cmd = ' '.join(['metabat',\n",
    "                    '-i', os.path.join(workDir, treat+'.enr.contigs.1000.fasta'),\n",
    "                    '-a', os.path.join(workDir, treat+'_metabat_depths.txt'),\n",
    "                    '-o', os.path.join(outDir, treat+'_bin'),\n",
    "                    '--saveTNF', os.path.join(outDir, treat+'_TNF.txt'),\n",
    "                    '--saveDistance', os.path.join(outDir, 'metabat_distances.txt'),\n",
    "                    '--minContig 1500',\n",
    "                    '--maxEdges 500',\n",
    "                    '-t', str(ncores),\n",
    "                    '--seed 42'])\n",
    "    \n",
    "    !$cmd              \n",
    "    print('\\n-----\\n\\n')"
   ]
  },
  {
   "cell_type": "code",
   "execution_count": 19,
   "metadata": {},
   "outputs": [
    {
     "name": "stdout",
     "output_type": "stream",
     "text": [
      "Done!\n"
     ]
    }
   ],
   "source": [
    "print(\"Done!\")"
   ]
  },
  {
   "cell_type": "code",
   "execution_count": null,
   "metadata": {},
   "outputs": [],
   "source": []
  }
 ],
 "metadata": {
  "kernelspec": {
   "display_name": "Python 2",
   "language": "python",
   "name": "python2"
  },
  "language_info": {
   "codemirror_mode": {
    "name": "ipython",
    "version": 2
   },
   "file_extension": ".py",
   "mimetype": "text/x-python",
   "name": "python",
   "nbconvert_exporter": "python",
   "pygments_lexer": "ipython2",
   "version": "2.7.17"
  }
 },
 "nbformat": 4,
 "nbformat_minor": 4
}
