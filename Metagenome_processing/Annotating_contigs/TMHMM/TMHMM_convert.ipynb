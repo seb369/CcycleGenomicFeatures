{
 "cells": [
  {
   "cell_type": "markdown",
   "metadata": {},
   "source": [
    "# Converting TMHMM output into a table\n",
    "\n",
    "The TMHMM output is a weird format that cannot be easily uploaded into R. Here I will convert that output into a table."
   ]
  },
  {
   "cell_type": "code",
   "execution_count": 1,
   "metadata": {},
   "outputs": [],
   "source": [
    "import os\n",
    "\n",
    "workDir = '/home/sam/FullCyc_metagenome/annotation/transmembrane'\n",
    "TMHMM_output = 'TMHMM_output_10_20_20.txt'\n",
    "TMHMM_table = 'TMHMM_table_10_20_20.txt'\n",
    "\n",
    "gene_fasta = '/home/sam/FullCyc_metagenome/annotation/IMG/Ga0334612_proteins.faa'"
   ]
  },
  {
   "cell_type": "code",
   "execution_count": 2,
   "metadata": {},
   "outputs": [],
   "source": [
    "# Make very short TMHMM output with just the number of predicted TMHs\n",
    "inputfile = os.path.join(workDir, TMHMM_output)\n",
    "outputfile = os.path.join(workDir, TMHMM_output.replace('.txt', '_short.txt'))\n",
    "!grep \"Number of predicted TMHs:\" $inputfile > $outputfile"
   ]
  },
  {
   "cell_type": "code",
   "execution_count": 3,
   "metadata": {},
   "outputs": [
    {
     "name": "stdout",
     "output_type": "stream",
     "text": [
      "12864924\n",
      "12864924 /home/sam/FullCyc_metagenome/annotation/transmembrane/TMHMM_output_10_20_20_short.txt\n"
     ]
    }
   ],
   "source": [
    "# Check the number of annotations with the original gene fasta\n",
    "!grep -c \">\" $gene_fasta\n",
    "!wc -l $outputfile"
   ]
  },
  {
   "cell_type": "code",
   "execution_count": 4,
   "metadata": {},
   "outputs": [],
   "source": [
    "# Convert the short TMHMM output into a table\n",
    "with open(os.path.join(workDir, TMHMM_output.replace('.txt', '_short.txt')), 'r') as inputfile:\n",
    "    with open(os.path.join(workDir, TMHMM_table), 'w') as outputfile:\n",
    "        outputfile.write('geneID\\tpredicted_TMHs\\n')\n",
    "        for line in inputfile:\n",
    "            if 'Number of predicted TMHs:  0' not in line:\n",
    "                outputfile.write(line.replace('# ', '').replace(' Number of predicted TMHs:  ', '\\t'))\n",
    "                \n",
    "                "
   ]
  },
  {
   "cell_type": "code",
   "execution_count": 5,
   "metadata": {},
   "outputs": [
    {
     "name": "stdout",
     "output_type": "stream",
     "text": [
      "2193785 /home/sam/FullCyc_metagenome/annotation/transmembrane/TMHMM_table_10_20_20.txt\r\n"
     ]
    }
   ],
   "source": [
    "outputfile = os.path.join(workDir, TMHMM_table)\n",
    "!wc -l $outputfile"
   ]
  },
  {
   "cell_type": "code",
   "execution_count": null,
   "metadata": {},
   "outputs": [],
   "source": []
  }
 ],
 "metadata": {
  "kernelspec": {
   "display_name": "Python 2",
   "language": "python",
   "name": "python2"
  },
  "language_info": {
   "codemirror_mode": {
    "name": "ipython",
    "version": 2
   },
   "file_extension": ".py",
   "mimetype": "text/x-python",
   "name": "python",
   "nbconvert_exporter": "python",
   "pygments_lexer": "ipython2",
   "version": "2.7.17"
  }
 },
 "nbformat": 4,
 "nbformat_minor": 4
}
