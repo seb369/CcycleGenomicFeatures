{
 "cells": [
  {
   "cell_type": "markdown",
   "metadata": {},
   "source": [
    "# Further annotating secreted proteins\n",
    "\n",
    "We want to see what types of proteins are secreted by the cell so lets further annotate them.\n",
    "\n",
    "We will do this using:\n",
    "dbCAN: CAZymes\n",
    "MEROPS: Proteases\n",
    "LED: Lipases"
   ]
  },
  {
   "cell_type": "code",
   "execution_count": 53,
   "metadata": {},
   "outputs": [],
   "source": [
    "import os\n",
    "\n",
    "workDir = '/home/sam/FullCyc_metagenome/annotation/secreted_protein_annotations'\n",
    "\n",
    "gram_neg_signalp = '/home/sam/FullCyc_metagenome/annotation/signalp_annotation/Ga0334612_proteins_gram_neg_summary.signalp5'\n",
    "gram_pos_signalp = '/home/sam/FullCyc_metagenome/annotation/signalp_annotation/Ga0334612_proteins_gram_pos_summary.signalp5'\n",
    "\n",
    "gene_protein_fasta = '/home/sam/FullCyc_metagenome/annotation/IMG/Ga0334612_proteins.faa'\n",
    "\n",
    "dbCAN_db = '/home/sam/new_databases/dbCAN/HMM/dbCAN-fam-HMMs.txt'\n",
    "MEROPS_db = '/home/sam/new_databases/MEROPS/peptidase3/MEROPS_protease.dmnd'\n",
    "ESTHER_db = '/home/sam/new_databases/ESTHER/HMMs/hydrolaseDB'\n",
    "\n",
    "nproc = 40\n"
   ]
  },
  {
   "cell_type": "code",
   "execution_count": 7,
   "metadata": {},
   "outputs": [],
   "source": [
    "from Bio import SeqIO\n",
    "import pandas as pd"
   ]
  },
  {
   "cell_type": "markdown",
   "metadata": {},
   "source": [
    "## Get fasta of just secreted proteins"
   ]
  },
  {
   "cell_type": "code",
   "execution_count": 17,
   "metadata": {},
   "outputs": [],
   "source": [
    "gram_neg_signalp_df = pd.read_csv(gram_neg_signalp, sep='\\t')\n",
    "gram_neg_signalp_df = gram_neg_signalp_df[gram_neg_signalp_df['Prediction'] != 'OTHER']\n",
    "gram_neg_signalp_list = list(gram_neg_signalp_df['# ID'])\n",
    "\n",
    "gram_pos_signalp_df = pd.read_csv(gram_pos_signalp, sep='\\t')\n",
    "gram_pos_signalp_df = gram_pos_signalp_df[gram_pos_signalp_df['Prediction'] != 'OTHER']\n",
    "gram_pos_signalp_list = list(gram_pos_signalp_df['# ID'])\n",
    "\n",
    "gram_neg_signalp_df = None\n",
    "gram_pos_signalp_df = None"
   ]
  },
  {
   "cell_type": "code",
   "execution_count": 19,
   "metadata": {},
   "outputs": [
    {
     "data": {
      "text/plain": [
       "1297704"
      ]
     },
     "execution_count": 19,
     "metadata": {},
     "output_type": "execute_result"
    }
   ],
   "source": [
    "signalp_list = list(set(gram_neg_signalp_list + gram_pos_signalp_list))\n",
    "len(signalp_list)"
   ]
  },
  {
   "cell_type": "code",
   "execution_count": 27,
   "metadata": {},
   "outputs": [],
   "source": [
    "with open(os.path.join(workDir, 'secreted_proteins.txt'), 'w') as outfile:\n",
    "    for gene in signalp_list:\n",
    "        outfile.write(gene + '\\n')\n"
   ]
  },
  {
   "cell_type": "markdown",
   "metadata": {},
   "source": [
    "Now subset the fasta file using awk:\n",
    "\n",
    "awk 'BEGIN{while((getline<\"secreted_proteins.txt\")>0)l[\">\"$1]=1}/^>/{f=l[$1]}f' /home/sam/FullCyc_metagenome/annotation/IMG/Ga0334612_proteins.faa > secreted_proteins.faa"
   ]
  },
  {
   "cell_type": "markdown",
   "metadata": {},
   "source": [
    "## CAZymes annotation with dbCAN\n",
    "I'll use HHMER to compare the secreted protein genes to the CAZy HMM database"
   ]
  },
  {
   "cell_type": "code",
   "execution_count": null,
   "metadata": {},
   "outputs": [],
   "source": [
    "cmd = ' '.join(['hmmscan',\n",
    "                '--cpu', str(nproc),\n",
    "                '--domtblout', os.path.join(workDir, 'secreted_CAZymes.out.dm'),\n",
    "                dbCAN_db, os.path.join(workDir, 'secreted_proteins.faa'),\n",
    "                '>', os.path.join(workDir, 'secreted_CAZymes.out')])\n",
    "!$cmd"
   ]
  },
  {
   "cell_type": "code",
   "execution_count": 46,
   "metadata": {},
   "outputs": [],
   "source": [
    "cmd = ' '.join(['sh /home/sam/new_databases/dbCAN/HMM/hmmscan-parser.sh',\n",
    "                os.path.join(workDir, 'secreted_CAZymes.out.dm'),\n",
    "                '>', os.path.join(workDir, 'secreted_CAZymes.out.dm.ps')])\n",
    "!$cmd"
   ]
  },
  {
   "cell_type": "code",
   "execution_count": 48,
   "metadata": {},
   "outputs": [],
   "source": [
    "cmd = ' '.join(['cat', os.path.join(workDir, 'secreted_CAZymes.out.dm.ps'),\n",
    "                \"| awk '$5<1e-15&&$10>0.35'\",\n",
    "                '>', os.path.join(workDir, 'secreted_CAZymes.out.dm.ps.stringent')])\n",
    "!$cmd"
   ]
  },
  {
   "cell_type": "markdown",
   "metadata": {},
   "source": [
    "## Protease annotation with MEROPS\n",
    "I'll use DIAMOND blastp to compare secreted protein genes with the MEROPS protease database"
   ]
  },
  {
   "cell_type": "code",
   "execution_count": 51,
   "metadata": {},
   "outputs": [
    {
     "name": "stdout",
     "output_type": "stream",
     "text": [
      "diamond v0.9.14.115 | by Benjamin Buchfink <buchfink@gmail.com>\n",
      "Licensed under the GNU AGPL <https://www.gnu.org/licenses/agpl.txt>\n",
      "Check http://github.com/bbuchfink/diamond for updates.\n",
      "\n",
      "#CPU threads: 40\n",
      "Scoring parameters: (Matrix=BLOSUM62 Lambda=0.267 K=0.041 Penalties=11/1)\n",
      "#Target sequences to report alignments for: 25\n",
      "Temporary directory: /home/sam/FullCyc_metagenome/annotation/secreted_protein_annotations\n",
      "Opening the database...  [1.8e-05s]\n",
      "Opening the input file...  [2.2e-05s]\n",
      "Opening the output file...  [0.015974s]\n",
      "Loading query sequences...  [1.67843s]\n",
      "Masking queries...  [2.41377s]\n",
      "Building query seed set...  [0.038319s]\n",
      "Algorithm: Double-indexed\n",
      "Building query histograms...  [0.316532s]\n",
      "Allocating buffers...  [0.00024s]\n",
      "Loading reference sequences...  [0.783136s]\n",
      "Building reference histograms...  [0.411098s]\n",
      "Allocating buffers...  [0.000196s]\n",
      "Initializing temporary storage...  [0.011199s]\n",
      "Processing query chunk 0, reference chunk 0, shape 0, index chunk 0.\n",
      "Building reference index...  [0.546706s]\n",
      "Building query index...  [0.39095s]\n",
      "Building seed filter...  [0.059734s]\n",
      "Searching alignments...  [1.36014s]\n",
      "Processing query chunk 0, reference chunk 0, shape 0, index chunk 1.\n",
      "Building reference index...  [0.601629s]\n",
      "Building query index...  [0.358311s]\n",
      "Building seed filter...  [0.048211s]\n",
      "Searching alignments...  [1.25354s]\n",
      "Processing query chunk 0, reference chunk 0, shape 0, index chunk 2.\n",
      "Building reference index...  [0.630701s]\n",
      "Building query index...  [0.376584s]\n",
      "Building seed filter...  [0.050778s]\n",
      "Searching alignments...  [1.23725s]\n",
      "Processing query chunk 0, reference chunk 0, shape 0, index chunk 3.\n",
      "Building reference index...  [0.459942s]\n",
      "Building query index...  [0.328634s]\n",
      "Building seed filter...  [0.048021s]\n",
      "Searching alignments...  [1.15325s]\n",
      "Processing query chunk 0, reference chunk 0, shape 1, index chunk 0.\n",
      "Building reference index...  [0.433731s]\n",
      "Building query index...  [0.351819s]\n",
      "Building seed filter...  [0.050022s]\n",
      "Searching alignments...  [1.0232s]\n",
      "Processing query chunk 0, reference chunk 0, shape 1, index chunk 1.\n",
      "Building reference index...  [0.485644s]\n",
      "Building query index...  [0.374786s]\n",
      "Building seed filter...  [0.050127s]\n",
      "Searching alignments...  [1.00291s]\n",
      "Processing query chunk 0, reference chunk 0, shape 1, index chunk 2.\n",
      "Building reference index...  [0.481022s]\n",
      "Building query index...  [0.341057s]\n",
      "Building seed filter...  [0.048295s]\n",
      "Searching alignments...  [1.00976s]\n",
      "Processing query chunk 0, reference chunk 0, shape 1, index chunk 3.\n",
      "Building reference index...  [0.413846s]\n",
      "Building query index...  [0.308224s]\n",
      "Building seed filter...  [0.04751s]\n",
      "Searching alignments...  [1.00224s]\n",
      "Deallocating buffers...  [0.042313s]\n",
      "Computing alignments...  [15.3225s]\n",
      "Deallocating reference...  [0.024003s]\n",
      "Loading reference sequences...  [2.3e-05s]\n",
      "Deallocating buffers...  [0.02095s]\n",
      "Deallocating queries...  [0.023608s]\n",
      "Loading query sequences...  [1e-05s]\n",
      "Closing the input file...  [8e-06s]\n",
      "Closing the output file...  [0.007142s]\n",
      "Closing the database file...  [4e-06s]\n",
      "Total time = 37.4397s\n",
      "Reported 947370 pairwise alignments, 947374 HSPs.\n",
      "53263 queries aligned.\n"
     ]
    }
   ],
   "source": [
    "cmd = ' '.join(['diamond blastp',\n",
    "                '--threads', str(nproc),\n",
    "                '--evalue 0.0000000001',\n",
    "                '-d', MEROPS_db,\n",
    "                '-q', os.path.join(workDir, 'secreted_proteins.faa'),\n",
    "                '-o', os.path.join(workDir, 'secreted_proteases.txt')])\n",
    "!$cmd"
   ]
  },
  {
   "cell_type": "markdown",
   "metadata": {},
   "source": [
    "## Lipase (alpha/beta hydrolysis unit) annotation with ESTHER\n",
    "http://bioweb.supagro.inra.fr/ESTHER/definition"
   ]
  },
  {
   "cell_type": "code",
   "execution_count": null,
   "metadata": {},
   "outputs": [],
   "source": [
    "cmd = ' '.join(['hmmscan',\n",
    "                '--cpu', str(nproc),\n",
    "                '--domtblout', os.path.join(workDir, 'secreted_ABhydro.out.dm'),\n",
    "                ESTHER_db, os.path.join(workDir, 'secreted_proteins.faa'),\n",
    "                '>', os.path.join(workDir, 'secreted_ABhydro.out')])\n",
    "!$cmd"
   ]
  },
  {
   "cell_type": "code",
   "execution_count": 56,
   "metadata": {},
   "outputs": [
    {
     "name": "stdout",
     "output_type": "stream",
     "text": [
      "Done!\n"
     ]
    }
   ],
   "source": [
    "print('Done!')"
   ]
  },
  {
   "cell_type": "code",
   "execution_count": 57,
   "metadata": {},
   "outputs": [],
   "source": [
    "cmd = ' '.join(['sh /home/sam/new_databases/dbCAN/HMM/hmmscan-parser.sh',\n",
    "                os.path.join(workDir, 'secreted_ABhydro.out.dm'),\n",
    "                '>', os.path.join(workDir, 'secreted_ABhydro.out.dm.ps')])\n",
    "!$cmd"
   ]
  },
  {
   "cell_type": "code",
   "execution_count": 58,
   "metadata": {},
   "outputs": [],
   "source": [
    "cmd = ' '.join(['cat', os.path.join(workDir, 'secreted_ABhydro.out.dm.ps'),\n",
    "                \"| awk '$5<1e-15&&$10>0.35'\",\n",
    "                '>', os.path.join(workDir, 'secreted_ABhydro.out.dm.ps.stringent')])\n",
    "!$cmd"
   ]
  },
  {
   "cell_type": "code",
   "execution_count": null,
   "metadata": {},
   "outputs": [],
   "source": []
  }
 ],
 "metadata": {
  "kernelspec": {
   "display_name": "Python 3",
   "language": "python",
   "name": "python3"
  },
  "language_info": {
   "codemirror_mode": {
    "name": "ipython",
    "version": 3
   },
   "file_extension": ".py",
   "mimetype": "text/x-python",
   "name": "python",
   "nbconvert_exporter": "python",
   "pygments_lexer": "ipython3",
   "version": "3.7.8"
  }
 },
 "nbformat": 4,
 "nbformat_minor": 2
}
