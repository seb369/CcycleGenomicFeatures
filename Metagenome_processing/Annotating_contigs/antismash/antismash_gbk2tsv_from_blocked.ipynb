{
 "cells": [
  {
   "cell_type": "markdown",
   "metadata": {},
   "source": [
    "# Converting antismash GBK output into a TSV\n",
    "\n",
    "Antismash was run in a blocked design."
   ]
  },
  {
   "cell_type": "code",
   "execution_count": 1,
   "metadata": {},
   "outputs": [],
   "source": [
    "import os\n",
    "import pandas as pd\n",
    "from Bio import SeqIO"
   ]
  },
  {
   "cell_type": "code",
   "execution_count": 2,
   "metadata": {},
   "outputs": [],
   "source": [
    "workDir = '/home/sam/FullCyc_metagenome/annotation/antismash'\n",
    "outputDir = os.path.join(workDir, 'blocked_data')\n",
    "table_output = os.path.join(workDir, 'antismash_BCGtable.tsv')\n",
    "\n",
    "n_blocks = 100"
   ]
  },
  {
   "cell_type": "markdown",
   "metadata": {},
   "source": [
    "## Read in the antismash output"
   ]
  },
  {
   "cell_type": "code",
   "execution_count": 3,
   "metadata": {},
   "outputs": [],
   "source": [
    "gbk_files = []\n",
    "for i in range(0, n_blocks):\n",
    "    gbk_files = gbk_files + [os.path.join(outputDir, 'chunk_'+str(i)+'_output', f) for f in os.listdir(os.path.join(outputDir, 'chunk_'+str(i)+'_output')) if f.endswith('region001.gbk')]\n",
    "    "
   ]
  },
  {
   "cell_type": "code",
   "execution_count": 4,
   "metadata": {},
   "outputs": [],
   "source": [
    "n_BGC = 0\n",
    "with open(table_output, 'w') as outfile:\n",
    "    outfile.write('Scaffold\\tproduct\\n')\n",
    "    for gbk in gbk_files:\n",
    "        BCG_records = SeqIO.parse(gbk, 'genbank')\n",
    "        for record in BCG_records:\n",
    "            for feature in record.features:\n",
    "                if feature.type == 'region':\n",
    "                    outfile.write(record.description + '\\t' + feature.qualifiers['product'][0] + '\\n')\n",
    "                    n_BGC += 1"
   ]
  },
  {
   "cell_type": "code",
   "execution_count": 5,
   "metadata": {},
   "outputs": [
    {
     "data": {
      "text/plain": [
       "2199"
      ]
     },
     "execution_count": 5,
     "metadata": {},
     "output_type": "execute_result"
    }
   ],
   "source": [
    "n_BGC"
   ]
  },
  {
   "cell_type": "code",
   "execution_count": null,
   "metadata": {},
   "outputs": [],
   "source": []
  }
 ],
 "metadata": {
  "kernelspec": {
   "display_name": "Python 3",
   "language": "python",
   "name": "python3"
  },
  "language_info": {
   "codemirror_mode": {
    "name": "ipython",
    "version": 3
   },
   "file_extension": ".py",
   "mimetype": "text/x-python",
   "name": "python",
   "nbconvert_exporter": "python",
   "pygments_lexer": "ipython3",
   "version": "3.7.8"
  }
 },
 "nbformat": 4,
 "nbformat_minor": 4
}
