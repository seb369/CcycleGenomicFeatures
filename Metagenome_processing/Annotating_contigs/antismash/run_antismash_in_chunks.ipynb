{
 "cells": [
  {
   "cell_type": "markdown",
   "metadata": {},
   "source": [
    "# Running antismash in chunks"
   ]
  },
  {
   "cell_type": "code",
   "execution_count": 1,
   "metadata": {},
   "outputs": [],
   "source": [
    "import os\n",
    "import pandas as pd\n",
    "import numpy as np\n",
    "\n",
    "workDir = '/home/sam/FullCyc_metagenome/annotation/antismash'\n",
    "enr_gene_gff = os.path.join(workDir, 'blocked_data', 'enr_genes_n1.gff')\n",
    "contig_fasta = os.path.join(workDir, 'IMG_contigs.fasta')\n",
    "\n",
    "chunks = 100\n",
    "cpus = 20"
   ]
  },
  {
   "cell_type": "markdown",
   "metadata": {},
   "source": [
    "## Split up gff and contigs"
   ]
  },
  {
   "cell_type": "code",
   "execution_count": 2,
   "metadata": {},
   "outputs": [],
   "source": [
    "enr_gene_gff_gf = pd.read_csv(enr_gene_gff, sep='\\t', header = None)"
   ]
  },
  {
   "cell_type": "code",
   "execution_count": 3,
   "metadata": {},
   "outputs": [],
   "source": [
    "enr_gene_gff_gf_split = np.array_split(enr_gene_gff_gf, chunks)"
   ]
  },
  {
   "cell_type": "markdown",
   "metadata": {},
   "source": [
    "### Split up the GFF3 file"
   ]
  },
  {
   "cell_type": "code",
   "execution_count": 4,
   "metadata": {},
   "outputs": [],
   "source": [
    "for i in range(0, len(enr_gene_gff_gf_split)):\n",
    "    enr_gene_gff_gf_split[i].to_csv(os.path.join(workDir, 'blocked_data', 'tmp_blocked_data.gff'), \n",
    "                                    header=False, index=False, sep='\\t')\n",
    "    cmd = 'cat ' + os.path.join(workDir, 'blocked_data', 'gffheader.txt') + ' > ' + os.path.join(workDir, 'blocked_data', 'chunk_' + str(i) + '.gff')\n",
    "    os.system(cmd)\n",
    "    cmd = 'cat ' + os.path.join(workDir, 'blocked_data', 'tmp_blocked_data.gff') + ' >> ' + os.path.join(workDir, 'blocked_data', 'chunk_' + str(i) + '.gff')\n",
    "    os.system(cmd)"
   ]
  },
  {
   "cell_type": "markdown",
   "metadata": {},
   "source": [
    "### Split up the contig fasta file"
   ]
  },
  {
   "cell_type": "code",
   "execution_count": 5,
   "metadata": {},
   "outputs": [],
   "source": [
    "for i in range(0, len(enr_gene_gff_gf_split)):\n",
    "    contig_list = list(set(enr_gene_gff_gf_split[i][0]))\n",
    "    with open(os.path.join(workDir, 'blocked_data', 'temp_contig_list.txt'), 'w') as temp_file:\n",
    "        for contig in contig_list:\n",
    "            temp_file.write('>' + contig + '$\\n')\n",
    "    cmd = 'grep -A 1 -f ' + os.path.join(workDir, 'blocked_data', 'temp_contig_list.txt') + ' ' + contig_fasta + ' > ' + os.path.join(workDir, 'blocked_data', 'chunk_' + str(i) + '.fasta')\n",
    "    os.system(cmd)\n",
    "    "
   ]
  },
  {
   "cell_type": "markdown",
   "metadata": {},
   "source": [
    "## Run Antismash for each chunk"
   ]
  },
  {
   "cell_type": "code",
   "execution_count": null,
   "metadata": {},
   "outputs": [],
   "source": [
    "for i in range(0, len(enr_gene_gff_gf_split)):\n",
    "    print('Running chunk ' + str(i) + '\\n')\n",
    "    outdir = os.path.join(workDir, 'blocked_data', 'chunk_' + str(i) + '_output')\n",
    "    if not os.path.exists(outdir):\n",
    "        cmd = 'mkdir ' + outdir\n",
    "        os.system(cmd)\n",
    "        cmd = ' '. join(['antismash --taxon bacteria', \n",
    "                         '--cpus', str(cpus), \n",
    "                         '--genefinding-gff3', os.path.join(workDir, 'blocked_data', 'chunk_' + str(i) + '.gff'), \n",
    "                         '--output-dir', outdir,\n",
    "                         os.path.join(workDir, 'blocked_data', 'chunk_' + str(i) + '.fasta')])\n",
    "        os.system(cmd)\n",
    "    else:\n",
    "        print(outdir + '   EXISTS!!!!!')\n",
    "    print('\\n---\\n')"
   ]
  }
 ],
 "metadata": {
  "kernelspec": {
   "display_name": "Python 3",
   "language": "python",
   "name": "python3"
  },
  "language_info": {
   "codemirror_mode": {
    "name": "ipython",
    "version": 3
   },
   "file_extension": ".py",
   "mimetype": "text/x-python",
   "name": "python",
   "nbconvert_exporter": "python",
   "pygments_lexer": "ipython3",
   "version": "3.6.12"
  }
 },
 "nbformat": 4,
 "nbformat_minor": 4
}
