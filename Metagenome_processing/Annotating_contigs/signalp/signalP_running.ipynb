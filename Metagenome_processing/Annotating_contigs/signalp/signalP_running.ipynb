{
 "cells": [
  {
   "cell_type": "markdown",
   "metadata": {},
   "source": [
    "# Running SignalP"
   ]
  },
  {
   "cell_type": "code",
   "execution_count": 1,
   "metadata": {},
   "outputs": [],
   "source": [
    "import sys\n",
    "import os\n",
    "import glob\n",
    "import re\n",
    "import pandas as pd\n",
    "import time\n"
   ]
  },
  {
   "cell_type": "code",
   "execution_count": 2,
   "metadata": {},
   "outputs": [],
   "source": [
    "#threads = 20\n",
    "number_of_seqs = 5000\n",
    "faa_dir = '/home/sam/FullCyc_metagenome/annotation/IMG/'\n",
    "faa_file_prefix = 'Ga0334612_proteins'\n",
    "\n",
    "#gram_type = 'gram_neg'\n",
    "gram_type = 'gram_pos'\n",
    "\n",
    "gram_dic = {'gram_neg': 'gram-', 'gram_pos': 'gram+'}"
   ]
  },
  {
   "cell_type": "code",
   "execution_count": 3,
   "metadata": {},
   "outputs": [],
   "source": [
    "def signalP(fasta_chunk):\n",
    "    print('Running ' + fasta_chunk)\n",
    "    os.system(' '.join(['signalp', \n",
    "                        '-fasta', fasta_chunk, \n",
    "                        '-org', gram_dic[gram_type], \n",
    "                        '-prefix', re.sub('.faa', gram_type, fasta_chunk)]))"
   ]
  },
  {
   "cell_type": "markdown",
   "metadata": {},
   "source": [
    "## Split up fasta chunks"
   ]
  },
  {
   "cell_type": "code",
   "execution_count": 4,
   "metadata": {},
   "outputs": [
    {
     "data": {
      "text/plain": [
       "0"
      ]
     },
     "execution_count": 4,
     "metadata": {},
     "output_type": "execute_result"
    }
   ],
   "source": [
    "os.system(' '.join(['./fasta-splitter.pl', \n",
    "                    '--part-size', str(number_of_seqs), \n",
    "                    '--line-length 0', \n",
    "                    '--measure count', \n",
    "                    faa_dir + faa_file_prefix + '.faa']))"
   ]
  },
  {
   "cell_type": "markdown",
   "metadata": {},
   "source": [
    "## Running signalP"
   ]
  },
  {
   "cell_type": "code",
   "execution_count": null,
   "metadata": {},
   "outputs": [
    {
     "name": "stdout",
     "output_type": "stream",
     "text": [
      "Running Ga0334612_proteins.part-1307.faa\n",
      "--- 69.60917448997498 seconds ---\n",
      "Running Ga0334612_proteins.part-0096.faa\n",
      "--- 66.10990142822266 seconds ---\n",
      "Running Ga0334612_proteins.part-1482.faa\n",
      "--- 68.8041501045227 seconds ---\n",
      "Running Ga0334612_proteins.part-1170.faa\n",
      "--- 67.70571708679199 seconds ---\n",
      "Running Ga0334612_proteins.part-1452.faa\n",
      "--- 68.18277192115784 seconds ---\n",
      "Running Ga0334612_proteins.part-1975.faa\n",
      "--- 67.14843249320984 seconds ---\n",
      "Running Ga0334612_proteins.part-1839.faa\n",
      "--- 68.35281682014465 seconds ---\n",
      "Running Ga0334612_proteins.part-0571.faa\n",
      "--- 68.47309708595276 seconds ---\n",
      "Running Ga0334612_proteins.part-1593.faa\n",
      "--- 70.62147617340088 seconds ---\n",
      "Running Ga0334612_proteins.part-0893.faa\n",
      "--- 68.70286917686462 seconds ---\n",
      "Running Ga0334612_proteins.part-0981.faa\n",
      "--- 68.73582887649536 seconds ---\n",
      "Running Ga0334612_proteins.part-1657.faa\n",
      "--- 69.2870569229126 seconds ---\n",
      "Running Ga0334612_proteins.part-0209.faa\n",
      "--- 68.70362162590027 seconds ---\n",
      "Running Ga0334612_proteins.part-1010.faa\n",
      "--- 67.56240653991699 seconds ---\n",
      "Running Ga0334612_proteins.part-0904.faa\n",
      "--- 67.9320650100708 seconds ---\n",
      "Running Ga0334612_proteins.part-0132.faa\n",
      "--- 70.98611092567444 seconds ---\n",
      "Running Ga0334612_proteins.part-1696.faa\n",
      "--- 72.11538076400757 seconds ---\n",
      "Running Ga0334612_proteins.part-1844.faa\n",
      "--- 70.20132946968079 seconds ---\n",
      "Running Ga0334612_proteins.part-1315.faa\n",
      "--- 71.83351254463196 seconds ---\n",
      "Running Ga0334612_proteins.part-1382.faa\n",
      "--- 69.85783314704895 seconds ---\n",
      "Running Ga0334612_proteins.part-2302.faa\n",
      "--- 67.90652847290039 seconds ---\n",
      "Running Ga0334612_proteins.part-1991.faa\n",
      "--- 68.17211651802063 seconds ---\n",
      "Running Ga0334612_proteins.part-0172.faa\n",
      "--- 69.04953265190125 seconds ---\n",
      "Running Ga0334612_proteins.part-0938.faa\n",
      "--- 67.4638774394989 seconds ---\n",
      "Running Ga0334612_proteins.part-2361.faa\n",
      "--- 71.9819347858429 seconds ---\n",
      "Running Ga0334612_proteins.part-1866.faa\n",
      "--- 73.5531816482544 seconds ---\n",
      "Running Ga0334612_proteins.part-0045.faa\n",
      "--- 69.21287035942078 seconds ---\n",
      "Running Ga0334612_proteins.part-0203.faa\n",
      "--- 69.07730317115784 seconds ---\n",
      "Running Ga0334612_proteins.part-2125.faa\n",
      "--- 69.099764585495 seconds ---\n",
      "Running Ga0334612_proteins.part-0184.faa\n"
     ]
    }
   ],
   "source": [
    "for fasta in glob.glob(faa_file_prefix + '.part*.faa'):\n",
    "    start_time = time.time()\n",
    "    signalP(fasta)\n",
    "    print('--- %s seconds ---' % (time.time() - start_time))\n"
   ]
  },
  {
   "cell_type": "markdown",
   "metadata": {},
   "source": [
    "## Merge all signalP output files"
   ]
  },
  {
   "cell_type": "code",
   "execution_count": null,
   "metadata": {},
   "outputs": [],
   "source": [
    "output_merge = pd.DataFrame()\n",
    "for output in glob.glob(faa_file_prefix + '.part*' + gram_type + '_summary.signalp5'):\n",
    "    output_df = pd.read_csv(output, sep='\\t', skiprows=[0], header=None)\n",
    "    new_header = output_df.iloc[0] \n",
    "    output_df = output_df[1:]\n",
    "    output_df.columns = new_header\n",
    "    output_merge = output_merge.append(output_df)\n",
    "    output_df = None"
   ]
  },
  {
   "cell_type": "code",
   "execution_count": null,
   "metadata": {},
   "outputs": [],
   "source": [
    "output_merge_name = faa_file_prefix + '_' + gram_type + '_summary.signalp5'\n",
    "output_merge.to_csv(output_merge_name, index=False, sep='\\t')"
   ]
  },
  {
   "cell_type": "code",
   "execution_count": 9,
   "metadata": {},
   "outputs": [
    {
     "name": "stdout",
     "output_type": "stream",
     "text": [
      "Done!\n"
     ]
    }
   ],
   "source": [
    "print(\"Done!\")"
   ]
  },
  {
   "cell_type": "code",
   "execution_count": null,
   "metadata": {},
   "outputs": [],
   "source": []
  }
 ],
 "metadata": {
  "kernelspec": {
   "display_name": "Python 3",
   "language": "python",
   "name": "python3"
  },
  "language_info": {
   "codemirror_mode": {
    "name": "ipython",
    "version": 3
   },
   "file_extension": ".py",
   "mimetype": "text/x-python",
   "name": "python",
   "nbconvert_exporter": "python",
   "pygments_lexer": "ipython3",
   "version": "3.7.8"
  }
 },
 "nbformat": 4,
 "nbformat_minor": 4
}
