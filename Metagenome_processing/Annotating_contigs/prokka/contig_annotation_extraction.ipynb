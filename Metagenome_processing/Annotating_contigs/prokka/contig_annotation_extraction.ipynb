{
 "cells": [
  {
   "cell_type": "markdown",
   "metadata": {},
   "source": [
    "# Getting annotations for contigs from PROKKA results"
   ]
  },
  {
   "cell_type": "code",
   "execution_count": 1,
   "metadata": {},
   "outputs": [],
   "source": [
    "import os\n",
    "import pandas as pd"
   ]
  },
  {
   "cell_type": "code",
   "execution_count": 2,
   "metadata": {},
   "outputs": [],
   "source": [
    "work_dir = '/home/sam/FullCyc_metagenome/annotation/prokka_annotation/'\n",
    "prokka_dir = '/home/sam/FullCyc_metagenome/annotation/prokka_annotation/prokka_output_nogbk/'\n",
    "\n",
    "annotation_file = 'PROKKA_03262020.tbl'"
   ]
  },
  {
   "cell_type": "markdown",
   "metadata": {},
   "source": [
    "## Read feature table"
   ]
  },
  {
   "cell_type": "code",
   "execution_count": 3,
   "metadata": {},
   "outputs": [],
   "source": [
    "contig = 'NA'\n",
    "contig_list = []\n",
    "start_list = []\n",
    "end_list = []\n",
    "ftype_list = []\n",
    "locus_tag_list = []\n",
    "product_list = []\n",
    "with open(os.path.join(prokka_dir, annotation_file), 'r') as file:\n",
    "    for line in file:\n",
    "        if line.startswith('>'):\n",
    "            contig = line.replace('>Feature ', '').replace('\\n', '')\n",
    "        elif line.startswith(tuple('0123456789')):\n",
    "            positions = line.split('\\t')\n",
    "            contig_list.append(contig)\n",
    "            start_list.append(positions[0])\n",
    "            end_list.append(positions[1])\n",
    "            ftype_list.append(positions[2].replace('\\n', ''))\n",
    "        elif line.startswith('\\t\\t\\tlocus_tag'):\n",
    "            locus_tag = line.replace('\\t\\t\\tlocus_tag\\t', '').replace('\\n', '')\n",
    "            locus_tag_list.append(locus_tag)\n",
    "        elif line.startswith('\\t\\t\\tproduct'):\n",
    "            product = line.replace('\\t\\t\\tproduct\\t', '').replace('\\n', '')\n",
    "            product_list.append(product)"
   ]
  },
  {
   "cell_type": "code",
   "execution_count": 5,
   "metadata": {},
   "outputs": [
    {
     "name": "stdout",
     "output_type": "stream",
     "text": [
      "2102748\n",
      "2102748\n",
      "2102748\n",
      "2102748\n",
      "2102748\n",
      "2102748\n"
     ]
    }
   ],
   "source": [
    "print(len(contig_list))\n",
    "print(len(locus_tag_list))\n",
    "print(len(start_list))\n",
    "print(len(end_list))\n",
    "print(len(ftype_list))\n",
    "print(len(product_list))"
   ]
  },
  {
   "cell_type": "code",
   "execution_count": 7,
   "metadata": {},
   "outputs": [],
   "source": [
    "annotation_df = pd.DataFrame({'contig': contig_list, \n",
    "                              'locus_tag': locus_tag_list, \n",
    "                              'ftype': ftype_list,\n",
    "                              'start': start_list, \n",
    "                              'end': end_list, \n",
    "                              'product': product_list})"
   ]
  },
  {
   "cell_type": "code",
   "execution_count": 9,
   "metadata": {},
   "outputs": [],
   "source": [
    "annotation_df.to_csv(os.path.join(prokka_dir, 'annotation_tbl.txt'), sep='\\t', index=False)"
   ]
  },
  {
   "cell_type": "code",
   "execution_count": null,
   "metadata": {},
   "outputs": [],
   "source": []
  }
 ],
 "metadata": {
  "kernelspec": {
   "display_name": "Python 3",
   "language": "python",
   "name": "python3"
  },
  "language_info": {
   "codemirror_mode": {
    "name": "ipython",
    "version": 3
   },
   "file_extension": ".py",
   "mimetype": "text/x-python",
   "name": "python",
   "nbconvert_exporter": "python",
   "pygments_lexer": "ipython3",
   "version": "3.7.4"
  }
 },
 "nbformat": 4,
 "nbformat_minor": 2
}
