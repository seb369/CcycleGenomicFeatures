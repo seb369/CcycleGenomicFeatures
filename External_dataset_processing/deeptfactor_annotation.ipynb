{
 "cells": [
  {
   "cell_type": "markdown",
   "metadata": {},
   "source": [
    "# Running deeptfactor on MAGs and Genomes from other studies"
   ]
  },
  {
   "cell_type": "code",
   "execution_count": 1,
   "metadata": {},
   "outputs": [],
   "source": [
    "import os\n",
    "\n",
    "workdir = '/home/sam/FullCyc_metagenome/Other_studies_comp/redo_analysis/deepTfactor_output'"
   ]
  },
  {
   "cell_type": "code",
   "execution_count": 2,
   "metadata": {},
   "outputs": [],
   "source": [
    "import pandas as pd\n",
    "import multiprocessing\n",
    "import time\n",
    "from Bio import SeqIO\n",
    "import re\n"
   ]
  },
  {
   "cell_type": "code",
   "execution_count": 3,
   "metadata": {},
   "outputs": [],
   "source": [
    "def run_deeptfactor(inputfile):\n",
    "    print(inputfile)\n",
    "    outputfile = os.path.join(outdir, os.path.split(inputfile)[1]+'.TF_results') \n",
    "    cmd = ' '.join(['python /home/sam/new_repo/deeptfactor/tf_running.py',\n",
    "                    '-i', inputfile,\n",
    "                    '-o', outputfile,\n",
    "                    '-ckpt /home/sam/new_repo/deeptfactor/trained_model/DeepTFactor_ckpt.pt',\n",
    "                    '-cpu 1'])\n",
    "    os.system(cmd)"
   ]
  },
  {
   "cell_type": "markdown",
   "metadata": {},
   "source": [
    "## RefSoil dataset"
   ]
  },
  {
   "cell_type": "code",
   "execution_count": 4,
   "metadata": {},
   "outputs": [
    {
     "name": "stdout",
     "output_type": "stream",
     "text": [
      "1015\n"
     ]
    }
   ],
   "source": [
    "prokka_dir = '/home/sam/FullCyc_metagenome/Other_studies_comp/redo_analysis/prokka_output/RefSoil'\n",
    "faa_list = [os.path.join(prokka_dir, genome, genome + '.prokka.faa') for genome in os.listdir(prokka_dir)]\n",
    "\n",
    "outdir = os.path.join(workdir, 'RefSoil')\n",
    "\n",
    "if len(faa_list) < 70:\n",
    "    nproc = len(faa_list)\n",
    "else:\n",
    "    nproc = 70\n",
    "        \n",
    "print(len(faa_list))"
   ]
  },
  {
   "cell_type": "code",
   "execution_count": 6,
   "metadata": {},
   "outputs": [
    {
     "name": "stdout",
     "output_type": "stream",
     "text": [
      "/home/sam/new_databases/RefSoil/refsoil_protein_fasta/NC_010943.1.fa/home/sam/new_databases/RefSoil/refsoil_protein_fasta/NC_021172.1.fa/home/sam/new_databases/RefSoil/refsoil_protein_fasta/NC_016779.1.fa/home/sam/new_databases/RefSoil/refsoil_protein_fasta/NC_008541.1.fa/home/sam/new_databases/RefSoil/refsoil_protein_fasta/NC_018140.1.fa\n",
      "/home/sam/new_databases/RefSoil/refsoil_protein_fasta/NC_006831.1.fa\n",
      "\n",
      "/home/sam/new_databases/RefSoil/refsoil_protein_fasta/NC_014816.1.fa/home/sam/new_databases/RefSoil/refsoil_protein_fasta/NZ_CP007786.1.fa/home/sam/new_databases/RefSoil/refsoil_protein_fasta/NC_018150.2.fa/home/sam/new_databases/RefSoil/refsoil_protein_fasta/NC_007880.1.fa\n"
     ]
    }
   ],
   "source": [
    "start_time = time.time()\n",
    "pool = multiprocessing.Pool(processes=nproc)\n",
    "pool.map(run_deeptfactor, faa_list)\n",
    "run_time = time.time()-start_time"
   ]
  },
  {
   "cell_type": "code",
   "execution_count": 7,
   "metadata": {},
   "outputs": [
    {
     "name": "stdout",
     "output_type": "stream",
     "text": [
      "Ran for  133.226 minutes\n",
      "There should be: 1015\n",
      "There are: 1015\n"
     ]
    }
   ],
   "source": [
    "print('Ran for ', str(round(run_time/60, 3)) + ' minutes')\n",
    "print('There should be: ' + str(len(faa_list)))\n",
    "print('There are: ' + str(len(os.listdir(outdir))))"
   ]
  },
  {
   "cell_type": "markdown",
   "metadata": {},
   "source": [
    "## Rainfall"
   ]
  },
  {
   "cell_type": "code",
   "execution_count": 4,
   "metadata": {},
   "outputs": [
    {
     "name": "stdout",
     "output_type": "stream",
     "text": [
      "897\n"
     ]
    }
   ],
   "source": [
    "prokka_dir = '/home/sam/FullCyc_metagenome/Other_studies_comp/redo_analysis/prokka_output/rainfall'\n",
    "faa_list = [os.path.join(prokka_dir, genome, genome + '.prokka.faa') for genome in os.listdir(prokka_dir)]\n",
    "\n",
    "outdir = os.path.join(workdir, 'rainfall')\n",
    "\n",
    "if len(faa_list) < 70:\n",
    "    nproc = len(faa_list)\n",
    "else:\n",
    "    nproc = 70\n",
    "        \n",
    "print(len(faa_list))"
   ]
  },
  {
   "cell_type": "code",
   "execution_count": null,
   "metadata": {},
   "outputs": [
    {
     "name": "stdout",
     "output_type": "stream",
     "text": [
      "/home/sam/FullCyc_metagenome/Other_studies_comp/redo_analysis/prokka_output/rainfall/GCA_005882995.1_ASM588299v1_genomic.fna/GCA_005882995.1_ASM588299v1_genomic.fna.prokka.faa/home/sam/FullCyc_metagenome/Other_studies_comp/redo_analysis/prokka_output/rainfall/GCA_005893195.1_ASM589319v1_genomic.fna/GCA_005893195.1_ASM589319v1_genomic.fna.prokka.faa/home/sam/FullCyc_metagenome/Other_studies_comp/redo_analysis/prokka_output/rainfall/GCA_003221355.1_ASM322135v1_genomic.fna/GCA_003221355.1_ASM322135v1_genomic.fna.prokka.faa/home/sam/FullCyc_metagenome/Other_studies_comp/redo_analysis/prokka_output/rainfall/GCA_005881025.1_ASM588102v1_genomic.fna/GCA_005881025.1_ASM588102v1_genomic.fna.prokka.faa/home/sam/FullCyc_metagenome/Other_studies_comp/redo_analysis/prokka_output/rainfall/GCA_003218655.1_ASM321865v1_genomic.fna/GCA_003218655.1_ASM321865v1_genomic.fna.prokka.faa\n",
      "/home/sam/FullCyc_metagenome/Other_studies_comp/redo_analysis/prokka_output/rainfall/GCA_003224725.1_ASM322472v1_genomic.fna/GCA_003224725.1_ASM322472v1_genomic.fna.prokka.faa/home/sam/FullCyc_metagenome/Other_studies_comp/redo_analysis/prokka_output/rainfall/GCA_003218035.1_ASM321803v1_genomic.fna/GCA_003218035.1_ASM321803v1_genomic.fna.prokka.faa\n",
      "/home/sam/FullCyc_metagenome/Other_studies_comp/redo_analysis/prokka_output/rainfall/GCA_003224015.1_ASM322401v1_genomic.fna/GCA_003224015.1_ASM322401v1_genomic.fna.prokka.faa\n",
      "/home/sam/FullCyc_metagenome/Other_studies_comp/redo_analysis/prokka_output/rainfall/GCA_005893305.1_ASM589330v1_genomic.fna/GCA_005893305.1_ASM589330v1_genomic.fna.prokka.faa\n",
      "\n",
      "\n",
      "/home/sam/FullCyc_metagenome/Other_studies_comp/redo_analysis/prokka_output/rainfall/GCA_005893175.1_ASM589317v1_genomic.fna/GCA_005893175.1_ASM589317v1_genomic.fna.prokka.faa\n",
      "/home/sam/FullCyc_metagenome/Other_studies_comp/redo_analysis/prokka_output/rainfall/GCA_005882955.1_ASM588295v1_genomic.fna/GCA_005882955.1_ASM588295v1_genomic.fna.prokka.faa/home/sam/FullCyc_metagenome/Other_studies_comp/redo_analysis/prokka_output/rainfall/GCA_005878585.1_ASM587858v1_genomic.fna/GCA_005878585.1_ASM587858v1_genomic.fna.prokka.faa\n",
      "/home/sam/FullCyc_metagenome/Other_studies_comp/redo_analysis/prokka_output/rainfall/GCA_003224895.1_ASM322489v1_genomic.fna/GCA_003224895.1_ASM322489v1_genomic.fna.prokka.faa/home/sam/FullCyc_metagenome/Other_studies_comp/redo_analysis/prokka_output/rainfall/GCA_005881935.1_ASM588193v1_genomic.fna/GCA_005881935.1_ASM588193v1_genomic.fna.prokka.faa/home/sam/FullCyc_metagenome/Other_studies_comp/redo_analysis/prokka_output/rainfall/GCA_005879585.1_ASM587958v1_genomic.fna/GCA_005879585.1_ASM587958v1_genomic.fna.prokka.faa/home/sam/FullCyc_metagenome/Other_studies_comp/redo_analysis/prokka_output/rainfall/GCA_003223645.1_ASM322364v1_genomic.fna/GCA_003223645.1_ASM322364v1_genomic.fna.prokka.faa\n",
      "/home/sam/FullCyc_metagenome/Other_studies_comp/redo_analysis/prokka_output/rainfall/GCA_003221975.1_ASM322197v1_genomic.fna/GCA_003221975.1_ASM322197v1_genomic.fna.prokka.faa/home/sam/FullCyc_metagenome/Other_studies_comp/redo_analysis/prokka_output/rainfall/GCA_005880535.1_ASM588053v1_genomic.fna/GCA_005880535.1_ASM588053v1_genomic.fna.prokka.faa\n",
      "\n",
      "/home/sam/FullCyc_metagenome/Other_studies_comp/redo_analysis/prokka_output/rainfall/GCA_003221435.1_ASM322143v1_genomic.fna/GCA_003221435.1_ASM322143v1_genomic.fna.prokka.faa/home/sam/FullCyc_metagenome/Other_studies_comp/redo_analysis/prokka_output/rainfall/GCA_003218265.1_ASM321826v1_genomic.fna/GCA_003218265.1_ASM321826v1_genomic.fna.prokka.faa\n",
      "/home/sam/FullCyc_metagenome/Other_studies_comp/redo_analysis/prokka_output/rainfall/GCA_005879205.1_ASM587920v1_genomic.fna/GCA_005879205.1_ASM587920v1_genomic.fna.prokka.faa/home/sam/FullCyc_metagenome/Other_studies_comp/redo_analysis/prokka_output/rainfall/GCA_005888495.1_ASM588849v1_genomic.fna/GCA_005888495.1_ASM588849v1_genomic.fna.prokka.faa/home/sam/FullCyc_metagenome/Other_studies_comp/redo_analysis/prokka_output/rainfall/GCA_003223245.1_ASM322324v1_genomic.fna/GCA_003223245.1_ASM322324v1_genomic.fna.prokka.faa/home/sam/FullCyc_metagenome/Other_studies_comp/redo_analysis/prokka_output/rainfall/GCA_005882485.1_ASM588248v1_genomic.fna/GCA_005882485.1_ASM588248v1_genomic.fna.prokka.faa/home/sam/FullCyc_metagenome/Other_studies_comp/redo_analysis/prokka_output/rainfall/GCA_003224775.1_ASM322477v1_genomic.fna/GCA_003224775.1_ASM322477v1_genomic.fna.prokka.faa/home/sam/FullCyc_metagenome/Other_studies_comp/redo_analysis/prokka_output/rainfall/GCA_003218445.1_ASM321844v1_genomic.fna/GCA_003218445.1_ASM321844v1_genomic.fna.prokka.faa/home/sam/FullCyc_metagenome/Other_studies_comp/redo_analysis/prokka_output/rainfall/GCA_003221375.1_ASM322137v1_genomic.fna/GCA_003221375.1_ASM322137v1_genomic.fna.prokka.faa\n",
      "/home/sam/FullCyc_metagenome/Other_studies_comp/redo_analysis/prokka_output/rainfall/GCA_005888295.1_ASM588829v1_genomic.fna/GCA_005888295.1_ASM588829v1_genomic.fna.prokka.faa\n",
      "/home/sam/FullCyc_metagenome/Other_studies_comp/redo_analysis/prokka_output/rainfall/GCA_005879575.1_ASM587957v1_genomic.fna/GCA_005879575.1_ASM587957v1_genomic.fna.prokka.faa\n",
      "/home/sam/FullCyc_metagenome/Other_studies_comp/redo_analysis/prokka_output/rainfall/GCA_005879295.1_ASM587929v1_genomic.fna/GCA_005879295.1_ASM587929v1_genomic.fna.prokka.faa\n",
      "/home/sam/FullCyc_metagenome/Other_studies_comp/redo_analysis/prokka_output/rainfall/GCA_003223375.1_ASM322337v1_genomic.fna/GCA_003223375.1_ASM322337v1_genomic.fna.prokka.faa\n",
      "/home/sam/FullCyc_metagenome/Other_studies_comp/redo_analysis/prokka_output/rainfall/GCA_005881155.1_ASM588115v1_genomic.fna/GCA_005881155.1_ASM588115v1_genomic.fna.prokka.faa/home/sam/FullCyc_metagenome/Other_studies_comp/redo_analysis/prokka_output/rainfall/GCA_003222845.1_ASM322284v1_genomic.fna/GCA_003222845.1_ASM322284v1_genomic.fna.prokka.faa\n",
      "/home/sam/FullCyc_metagenome/Other_studies_comp/redo_analysis/prokka_output/rainfall/GCA_005881895.1_ASM588189v1_genomic.fna/GCA_005881895.1_ASM588189v1_genomic.fna.prokka.faa\n",
      "/home/sam/FullCyc_metagenome/Other_studies_comp/redo_analysis/prokka_output/rainfall/GCA_003224585.1_ASM322458v1_genomic.fna/GCA_003224585.1_ASM322458v1_genomic.fna.prokka.faa/home/sam/FullCyc_metagenome/Other_studies_comp/redo_analysis/prokka_output/rainfall/GCA_003223935.1_ASM322393v1_genomic.fna/GCA_003223935.1_ASM322393v1_genomic.fna.prokka.faa/home/sam/FullCyc_metagenome/Other_studies_comp/redo_analysis/prokka_output/rainfall/GCA_003219095.1_ASM321909v1_genomic.fna/GCA_003219095.1_ASM321909v1_genomic.fna.prokka.faa\n",
      "/home/sam/FullCyc_metagenome/Other_studies_comp/redo_analysis/prokka_output/rainfall/GCA_003218615.1_ASM321861v1_genomic.fna/GCA_003218615.1_ASM321861v1_genomic.fna.prokka.faa/home/sam/FullCyc_metagenome/Other_studies_comp/redo_analysis/prokka_output/rainfall/GCA_003218155.1_ASM321815v1_genomic.fna/GCA_003218155.1_ASM321815v1_genomic.fna.prokka.faa/home/sam/FullCyc_metagenome/Other_studies_comp/redo_analysis/prokka_output/rainfall/GCA_005889395.1_ASM588939v1_genomic.fna/GCA_005889395.1_ASM588939v1_genomic.fna.prokka.faa/home/sam/FullCyc_metagenome/Other_studies_comp/redo_analysis/prokka_output/rainfall/GCA_005879405.1_ASM587940v1_genomic.fna/GCA_005879405.1_ASM587940v1_genomic.fna.prokka.faa/home/sam/FullCyc_metagenome/Other_studies_comp/redo_analysis/prokka_output/rainfall/GCA_003218575.1_ASM321857v1_genomic.fna/GCA_003218575.1_ASM321857v1_genomic.fna.prokka.faa/home/sam/FullCyc_metagenome/Other_studies_comp/redo_analysis/prokka_output/rainfall/GCA_003218345.1_ASM321834v1_genomic.fna/GCA_003218345.1_ASM321834v1_genomic.fna.prokka.faa/home/sam/FullCyc_metagenome/Other_studies_comp/redo_analysis/prokka_output/rainfall/GCA_005881995.1_ASM588199v1_genomic.fna/GCA_005881995.1_ASM588199v1_genomic.fna.prokka.faa/home/sam/FullCyc_metagenome/Other_studies_comp/redo_analysis/prokka_output/rainfall/GCA_005889345.1_ASM588934v1_genomic.fna/GCA_005889345.1_ASM588934v1_genomic.fna.prokka.faa/home/sam/FullCyc_metagenome/Other_studies_comp/redo_analysis/prokka_output/rainfall/GCA_005880895.1_ASM588089v1_genomic.fna/GCA_005880895.1_ASM588089v1_genomic.fna.prokka.faa/home/sam/FullCyc_metagenome/Other_studies_comp/redo_analysis/prokka_output/rainfall/GCA_003225115.1_ASM322511v1_genomic.fna/GCA_003225115.1_ASM322511v1_genomic.fna.prokka.faa/home/sam/FullCyc_metagenome/Other_studies_comp/redo_analysis/prokka_output/rainfall/GCA_003221515.1_ASM322151v1_genomic.fna/GCA_003221515.1_ASM322151v1_genomic.fna.prokka.faa/home/sam/FullCyc_metagenome/Other_studies_comp/redo_analysis/prokka_output/rainfall/GCA_005881355.1_ASM588135v1_genomic.fna/GCA_005881355.1_ASM588135v1_genomic.fna.prokka.faa/home/sam/FullCyc_metagenome/Other_studies_comp/redo_analysis/prokka_output/rainfall/GCA_003219265.1_ASM321926v1_genomic.fna/GCA_003219265.1_ASM321926v1_genomic.fna.prokka.faa/home/sam/FullCyc_metagenome/Other_studies_comp/redo_analysis/prokka_output/rainfall/GCA_003219005.1_ASM321900v1_genomic.fna/GCA_003219005.1_ASM321900v1_genomic.fna.prokka.faa/home/sam/FullCyc_metagenome/Other_studies_comp/redo_analysis/prokka_output/rainfall/GCA_005878965.1_ASM587896v1_genomic.fna/GCA_005878965.1_ASM587896v1_genomic.fna.prokka.faa/home/sam/FullCyc_metagenome/Other_studies_comp/redo_analysis/prokka_output/rainfall/GCA_005889415.1_ASM588941v1_genomic.fna/GCA_005889415.1_ASM588941v1_genomic.fna.prokka.faa/home/sam/FullCyc_metagenome/Other_studies_comp/redo_analysis/prokka_output/rainfall/GCA_005880205.1_ASM588020v1_genomic.fna/GCA_005880205.1_ASM588020v1_genomic.fna.prokka.faa/home/sam/FullCyc_metagenome/Other_studies_comp/redo_analysis/prokka_output/rainfall/GCA_005881825.1_ASM588182v1_genomic.fna/GCA_005881825.1_ASM588182v1_genomic.fna.prokka.faa/home/sam/FullCyc_metagenome/Other_studies_comp/redo_analysis/prokka_output/rainfall/GCA_005877795.1_ASM587779v1_genomic.fna/GCA_005877795.1_ASM587779v1_genomic.fna.prokka.faa/home/sam/FullCyc_metagenome/Other_studies_comp/redo_analysis/prokka_output/rainfall/GCA_003225635.1_ASM322563v1_genomic.fna/GCA_003225635.1_ASM322563v1_genomic.fna.prokka.faa/home/sam/FullCyc_metagenome/Other_studies_comp/redo_analysis/prokka_output/rainfall/GCA_003221395.1_ASM322139v1_genomic.fna/GCA_003221395.1_ASM322139v1_genomic.fna.prokka.faa/home/sam/FullCyc_metagenome/Other_studies_comp/redo_analysis/prokka_output/rainfall/GCA_005880735.1_ASM588073v1_genomic.fna/GCA_005880735.1_ASM588073v1_genomic.fna.prokka.faa/home/sam/FullCyc_metagenome/Other_studies_comp/redo_analysis/prokka_output/rainfall/GCA_005877525.1_ASM587752v1_genomic.fna/GCA_005877525.1_ASM587752v1_genomic.fna.prokka.faa/home/sam/FullCyc_metagenome/Other_studies_comp/redo_analysis/prokka_output/rainfall/GCA_005881535.1_ASM588153v1_genomic.fna/GCA_005881535.1_ASM588153v1_genomic.fna.prokka.faa/home/sam/FullCyc_metagenome/Other_studies_comp/redo_analysis/prokka_output/rainfall/GCA_005882985.1_ASM588298v1_genomic.fna/GCA_005882985.1_ASM588298v1_genomic.fna.prokka.faa/home/sam/FullCyc_metagenome/Other_studies_comp/redo_analysis/prokka_output/rainfall/GCA_005883865.1_ASM588386v1_genomic.fna/GCA_005883865.1_ASM588386v1_genomic.fna.prokka.faa/home/sam/FullCyc_metagenome/Other_studies_comp/redo_analysis/prokka_output/rainfall/GCA_005888365.1_ASM588836v1_genomic.fna/GCA_005888365.1_ASM588836v1_genomic.fna.prokka.faa/home/sam/FullCyc_metagenome/Other_studies_comp/redo_analysis/prokka_output/rainfall/GCA_005881655.1_ASM588165v1_genomic.fna/GCA_005881655.1_ASM588165v1_genomic.fna.prokka.faa/home/sam/FullCyc_metagenome/Other_studies_comp/redo_analysis/prokka_output/rainfall/GCA_003223495.1_ASM322349v1_genomic.fna/GCA_003223495.1_ASM322349v1_genomic.fna.prokka.faa/home/sam/FullCyc_metagenome/Other_studies_comp/redo_analysis/prokka_output/rainfall/GCA_005888845.1_ASM588884v1_genomic.fna/GCA_005888845.1_ASM588884v1_genomic.fna.prokka.faa/home/sam/FullCyc_metagenome/Other_studies_comp/redo_analysis/prokka_output/rainfall/GCA_005878245.1_ASM587824v1_genomic.fna/GCA_005878245.1_ASM587824v1_genomic.fna.prokka.faa/home/sam/FullCyc_metagenome/Other_studies_comp/redo_analysis/prokka_output/rainfall/GCA_005885305.1_ASM588530v1_genomic.fna/GCA_005885305.1_ASM588530v1_genomic.fna.prokka.faa\n",
      "\n",
      "\n",
      "\n",
      "\n",
      "\n",
      "\n",
      "\n",
      "\n",
      "\n",
      "\n",
      "\n",
      "\n",
      "\n",
      "\n",
      "\n",
      "\n",
      "\n",
      "\n",
      "\n",
      "\n",
      "\n",
      "\n",
      "\n",
      "\n",
      "/home/sam/FullCyc_metagenome/Other_studies_comp/redo_analysis/prokka_output/rainfall/GCA_005879485.1_ASM587948v1_genomic.fna/GCA_005879485.1_ASM587948v1_genomic.fna.prokka.faa\n",
      "\n",
      "\n",
      "\n",
      "\n",
      "\n",
      "\n",
      "\n",
      "\n",
      "\n",
      "\n",
      "\n",
      "\n",
      "\n",
      "\n",
      "\n",
      "\n",
      "\n",
      "\n",
      "\n",
      "\n",
      "\n",
      "\n",
      "\n",
      "\n"
     ]
    }
   ],
   "source": [
    "start_time = time.time()\n",
    "pool = multiprocessing.Pool(processes=nproc)\n",
    "pool.map(run_deeptfactor, faa_list)\n",
    "run_time = time.time()-start_time"
   ]
  },
  {
   "cell_type": "code",
   "execution_count": 7,
   "metadata": {},
   "outputs": [
    {
     "name": "stdout",
     "output_type": "stream",
     "text": [
      "Ran for  105.594 minutes\n",
      "There should be: 897\n",
      "There are: 897\n"
     ]
    }
   ],
   "source": [
    "print('Ran for ', str(round(run_time/60, 3)) + ' minutes')\n",
    "print('There should be: ' + str(len(faa_list)))\n",
    "print('There are: ' + str(len(os.listdir(outdir))))"
   ]
  },
  {
   "cell_type": "markdown",
   "metadata": {},
   "source": [
    "## biocharSIP"
   ]
  },
  {
   "cell_type": "code",
   "execution_count": 4,
   "metadata": {},
   "outputs": [
    {
     "name": "stdout",
     "output_type": "stream",
     "text": [
      "84\n"
     ]
    }
   ],
   "source": [
    "prokka_dir = '/home/sam/FullCyc_metagenome/Other_studies_comp/redo_analysis/prokka_output/biocharSIP'\n",
    "faa_list = [os.path.join(prokka_dir, genome, genome + '.prokka.faa') for genome in os.listdir(prokka_dir)]\n",
    "\n",
    "outdir = os.path.join(workdir, 'biocharSIP')\n",
    "\n",
    "if len(faa_list) < 70:\n",
    "    nproc = len(faa_list)\n",
    "else:\n",
    "    nproc = 70\n",
    "        \n",
    "print(len(faa_list))"
   ]
  },
  {
   "cell_type": "code",
   "execution_count": null,
   "metadata": {},
   "outputs": [
    {
     "name": "stdout",
     "output_type": "stream",
     "text": [
      "/home/sam/FullCyc_metagenome/Other_studies_comp/redo_analysis/prokka_output/biocharSIP/GCA_013361475.1_ASM1336147v1_genomic.fna/GCA_013361475.1_ASM1336147v1_genomic.fna.prokka.faa/home/sam/FullCyc_metagenome/Other_studies_comp/redo_analysis/prokka_output/biocharSIP/GCA_013361965.1_ASM1336196v1_genomic.fna/GCA_013361965.1_ASM1336196v1_genomic.fna.prokka.faa/home/sam/FullCyc_metagenome/Other_studies_comp/redo_analysis/prokka_output/biocharSIP/GCA_013361855.1_ASM1336185v1_genomic.fna/GCA_013361855.1_ASM1336185v1_genomic.fna.prokka.faa/home/sam/FullCyc_metagenome/Other_studies_comp/redo_analysis/prokka_output/biocharSIP/GCA_013362285.1_ASM1336228v1_genomic.fna/GCA_013362285.1_ASM1336228v1_genomic.fna.prokka.faa/home/sam/FullCyc_metagenome/Other_studies_comp/redo_analysis/prokka_output/biocharSIP/GCA_013362325.1_ASM1336232v1_genomic.fna/GCA_013362325.1_ASM1336232v1_genomic.fna.prokka.faa\n",
      "/home/sam/FullCyc_metagenome/Other_studies_comp/redo_analysis/prokka_output/biocharSIP/GCA_013362155.1_ASM1336215v1_genomic.fna/GCA_013362155.1_ASM1336215v1_genomic.fna.prokka.faa\n",
      "/home/sam/FullCyc_metagenome/Other_studies_comp/redo_analysis/prokka_output/biocharSIP/GCA_013361755.1_ASM1336175v1_genomic.fna/GCA_013361755.1_ASM1336175v1_genomic.fna.prokka.faa/home/sam/FullCyc_metagenome/Other_studies_comp/redo_analysis/prokka_output/biocharSIP/GCA_013361595.1_ASM1336159v1_genomic.fna/GCA_013361595.1_ASM1336159v1_genomic.fna.prokka.faa\n",
      "/home/sam/FullCyc_metagenome/Other_studies_comp/redo_analysis/prokka_output/biocharSIP/GCA_013362055.1_ASM1336205v1_genomic.fna/GCA_013362055.1_ASM1336205v1_genomic.fna.prokka.faa\n",
      "/home/sam/FullCyc_metagenome/Other_studies_comp/redo_analysis/prokka_output/biocharSIP/GCA_013361955.1_ASM1336195v1_genomic.fna/GCA_013361955.1_ASM1336195v1_genomic.fna.prokka.faa\n",
      "\n",
      "/home/sam/FullCyc_metagenome/Other_studies_comp/redo_analysis/prokka_output/biocharSIP/GCA_013361975.1_ASM1336197v1_genomic.fna/GCA_013361975.1_ASM1336197v1_genomic.fna.prokka.faa\n",
      "/home/sam/FullCyc_metagenome/Other_studies_comp/redo_analysis/prokka_output/biocharSIP/GCA_013361685.1_ASM1336168v1_genomic.fna/GCA_013361685.1_ASM1336168v1_genomic.fna.prokka.faa\n",
      "/home/sam/FullCyc_metagenome/Other_studies_comp/redo_analysis/prokka_output/biocharSIP/GCA_013368795.1_ASM1336879v1_genomic.fna/GCA_013368795.1_ASM1336879v1_genomic.fna.prokka.faa/home/sam/FullCyc_metagenome/Other_studies_comp/redo_analysis/prokka_output/biocharSIP/GCA_013361605.1_ASM1336160v1_genomic.fna/GCA_013361605.1_ASM1336160v1_genomic.fna.prokka.faa\n",
      "/home/sam/FullCyc_metagenome/Other_studies_comp/redo_analysis/prokka_output/biocharSIP/GCA_013362905.1_ASM1336290v1_genomic.fna/GCA_013362905.1_ASM1336290v1_genomic.fna.prokka.faa/home/sam/FullCyc_metagenome/Other_studies_comp/redo_analysis/prokka_output/biocharSIP/GCA_013362145.1_ASM1336214v1_genomic.fna/GCA_013362145.1_ASM1336214v1_genomic.fna.prokka.faa/home/sam/FullCyc_metagenome/Other_studies_comp/redo_analysis/prokka_output/biocharSIP/GCA_013362885.1_ASM1336288v1_genomic.fna/GCA_013362885.1_ASM1336288v1_genomic.fna.prokka.faa/home/sam/FullCyc_metagenome/Other_studies_comp/redo_analysis/prokka_output/biocharSIP/GCA_013361505.1_ASM1336150v1_genomic.fna/GCA_013361505.1_ASM1336150v1_genomic.fna.prokka.faa\n",
      "/home/sam/FullCyc_metagenome/Other_studies_comp/redo_analysis/prokka_output/biocharSIP/GCA_013361585.1_ASM1336158v1_genomic.fna/GCA_013361585.1_ASM1336158v1_genomic.fna.prokka.faa\n",
      "/home/sam/FullCyc_metagenome/Other_studies_comp/redo_analysis/prokka_output/biocharSIP/GCA_013362445.1_ASM1336244v1_genomic.fna/GCA_013362445.1_ASM1336244v1_genomic.fna.prokka.faa\n",
      "/home/sam/FullCyc_metagenome/Other_studies_comp/redo_analysis/prokka_output/biocharSIP/GCA_013362405.1_ASM1336240v1_genomic.fna/GCA_013362405.1_ASM1336240v1_genomic.fna.prokka.faa/home/sam/FullCyc_metagenome/Other_studies_comp/redo_analysis/prokka_output/biocharSIP/GCA_013361795.1_ASM1336179v1_genomic.fna/GCA_013361795.1_ASM1336179v1_genomic.fna.prokka.faa\n",
      "/home/sam/FullCyc_metagenome/Other_studies_comp/redo_analysis/prokka_output/biocharSIP/GCA_013362745.1_ASM1336274v1_genomic.fna/GCA_013362745.1_ASM1336274v1_genomic.fna.prokka.faa/home/sam/FullCyc_metagenome/Other_studies_comp/redo_analysis/prokka_output/biocharSIP/GCA_013361325.1_ASM1336132v1_genomic.fna/GCA_013361325.1_ASM1336132v1_genomic.fna.prokka.faa/home/sam/FullCyc_metagenome/Other_studies_comp/redo_analysis/prokka_output/biocharSIP/GCA_013362485.1_ASM1336248v1_genomic.fna/GCA_013362485.1_ASM1336248v1_genomic.fna.prokka.faa\n",
      "\n",
      "/home/sam/FullCyc_metagenome/Other_studies_comp/redo_analysis/prokka_output/biocharSIP/GCA_013362935.1_ASM1336293v1_genomic.fna/GCA_013362935.1_ASM1336293v1_genomic.fna.prokka.faa/home/sam/FullCyc_metagenome/Other_studies_comp/redo_analysis/prokka_output/biocharSIP/GCA_013362045.1_ASM1336204v1_genomic.fna/GCA_013362045.1_ASM1336204v1_genomic.fna.prokka.faa/home/sam/FullCyc_metagenome/Other_studies_comp/redo_analysis/prokka_output/biocharSIP/GCA_013362235.1_ASM1336223v1_genomic.fna/GCA_013362235.1_ASM1336223v1_genomic.fna.prokka.faa\n",
      "\n",
      "/home/sam/FullCyc_metagenome/Other_studies_comp/redo_analysis/prokka_output/biocharSIP/GCA_013361525.1_ASM1336152v1_genomic.fna/GCA_013361525.1_ASM1336152v1_genomic.fna.prokka.faa/home/sam/FullCyc_metagenome/Other_studies_comp/redo_analysis/prokka_output/biocharSIP/GCA_013362105.1_ASM1336210v1_genomic.fna/GCA_013362105.1_ASM1336210v1_genomic.fna.prokka.faa\n",
      "\n",
      "/home/sam/FullCyc_metagenome/Other_studies_comp/redo_analysis/prokka_output/biocharSIP/GCA_013362115.1_ASM1336211v1_genomic.fna/GCA_013362115.1_ASM1336211v1_genomic.fna.prokka.faa/home/sam/FullCyc_metagenome/Other_studies_comp/redo_analysis/prokka_output/biocharSIP/GCA_013361665.1_ASM1336166v1_genomic.fna/GCA_013361665.1_ASM1336166v1_genomic.fna.prokka.faa/home/sam/FullCyc_metagenome/Other_studies_comp/redo_analysis/prokka_output/biocharSIP/GCA_013362295.1_ASM1336229v1_genomic.fna/GCA_013362295.1_ASM1336229v1_genomic.fna.prokka.faa/home/sam/FullCyc_metagenome/Other_studies_comp/redo_analysis/prokka_output/biocharSIP/GCA_013362415.1_ASM1336241v1_genomic.fna/GCA_013362415.1_ASM1336241v1_genomic.fna.prokka.faa/home/sam/FullCyc_metagenome/Other_studies_comp/redo_analysis/prokka_output/biocharSIP/GCA_013362545.1_ASM1336254v1_genomic.fna/GCA_013362545.1_ASM1336254v1_genomic.fna.prokka.faa/home/sam/FullCyc_metagenome/Other_studies_comp/redo_analysis/prokka_output/biocharSIP/GCA_013362635.1_ASM1336263v1_genomic.fna/GCA_013362635.1_ASM1336263v1_genomic.fna.prokka.faa/home/sam/FullCyc_metagenome/Other_studies_comp/redo_analysis/prokka_output/biocharSIP/GCA_013362185.1_ASM1336218v1_genomic.fna/GCA_013362185.1_ASM1336218v1_genomic.fna.prokka.faa/home/sam/FullCyc_metagenome/Other_studies_comp/redo_analysis/prokka_output/biocharSIP/GCA_013362025.1_ASM1336202v1_genomic.fna/GCA_013362025.1_ASM1336202v1_genomic.fna.prokka.faa/home/sam/FullCyc_metagenome/Other_studies_comp/redo_analysis/prokka_output/biocharSIP/GCA_013362845.1_ASM1336284v1_genomic.fna/GCA_013362845.1_ASM1336284v1_genomic.fna.prokka.faa/home/sam/FullCyc_metagenome/Other_studies_comp/redo_analysis/prokka_output/biocharSIP/GCA_013362265.1_ASM1336226v1_genomic.fna/GCA_013362265.1_ASM1336226v1_genomic.fna.prokka.faa/home/sam/FullCyc_metagenome/Other_studies_comp/redo_analysis/prokka_output/biocharSIP/GCA_013362305.1_ASM1336230v1_genomic.fna/GCA_013362305.1_ASM1336230v1_genomic.fna.prokka.faa/home/sam/FullCyc_metagenome/Other_studies_comp/redo_analysis/prokka_output/biocharSIP/GCA_013362555.1_ASM1336255v1_genomic.fna/GCA_013362555.1_ASM1336255v1_genomic.fna.prokka.faa/home/sam/FullCyc_metagenome/Other_studies_comp/redo_analysis/prokka_output/biocharSIP/GCA_013362945.1_ASM1336294v1_genomic.fna/GCA_013362945.1_ASM1336294v1_genomic.fna.prokka.faa/home/sam/FullCyc_metagenome/Other_studies_comp/redo_analysis/prokka_output/biocharSIP/GCA_013361785.1_ASM1336178v1_genomic.fna/GCA_013361785.1_ASM1336178v1_genomic.fna.prokka.faa/home/sam/FullCyc_metagenome/Other_studies_comp/redo_analysis/prokka_output/biocharSIP/GCA_013362605.1_ASM1336260v1_genomic.fna/GCA_013362605.1_ASM1336260v1_genomic.fna.prokka.faa/home/sam/FullCyc_metagenome/Other_studies_comp/redo_analysis/prokka_output/biocharSIP/GCA_013362625.1_ASM1336262v1_genomic.fna/GCA_013362625.1_ASM1336262v1_genomic.fna.prokka.faa/home/sam/FullCyc_metagenome/Other_studies_comp/redo_analysis/prokka_output/biocharSIP/GCA_013361425.1_ASM1336142v1_genomic.fna/GCA_013361425.1_ASM1336142v1_genomic.fna.prokka.faa/home/sam/FullCyc_metagenome/Other_studies_comp/redo_analysis/prokka_output/biocharSIP/GCA_013361925.1_ASM1336192v1_genomic.fna/GCA_013361925.1_ASM1336192v1_genomic.fna.prokka.faa/home/sam/FullCyc_metagenome/Other_studies_comp/redo_analysis/prokka_output/biocharSIP/GCA_013361885.1_ASM1336188v1_genomic.fna/GCA_013361885.1_ASM1336188v1_genomic.fna.prokka.faa/home/sam/FullCyc_metagenome/Other_studies_comp/redo_analysis/prokka_output/biocharSIP/GCA_013362565.1_ASM1336256v1_genomic.fna/GCA_013362565.1_ASM1336256v1_genomic.fna.prokka.faa/home/sam/FullCyc_metagenome/Other_studies_comp/redo_analysis/prokka_output/biocharSIP/GCA_013361365.1_ASM1336136v1_genomic.fna/GCA_013361365.1_ASM1336136v1_genomic.fna.prokka.faa/home/sam/FullCyc_metagenome/Other_studies_comp/redo_analysis/prokka_output/biocharSIP/GCA_013361345.1_ASM1336134v1_genomic.fna/GCA_013361345.1_ASM1336134v1_genomic.fna.prokka.faa/home/sam/FullCyc_metagenome/Other_studies_comp/redo_analysis/prokka_output/biocharSIP/GCA_013362195.1_ASM1336219v1_genomic.fna/GCA_013362195.1_ASM1336219v1_genomic.fna.prokka.faa/home/sam/FullCyc_metagenome/Other_studies_comp/redo_analysis/prokka_output/biocharSIP/GCA_013361555.1_ASM1336155v1_genomic.fna/GCA_013361555.1_ASM1336155v1_genomic.fna.prokka.faa/home/sam/FullCyc_metagenome/Other_studies_comp/redo_analysis/prokka_output/biocharSIP/GCA_013362425.1_ASM1336242v1_genomic.fna/GCA_013362425.1_ASM1336242v1_genomic.fna.prokka.faa/home/sam/FullCyc_metagenome/Other_studies_comp/redo_analysis/prokka_output/biocharSIP/GCA_013361335.1_ASM1336133v1_genomic.fna/GCA_013361335.1_ASM1336133v1_genomic.fna.prokka.faa/home/sam/FullCyc_metagenome/Other_studies_comp/redo_analysis/prokka_output/biocharSIP/GCA_013361845.1_ASM1336184v1_genomic.fna/GCA_013361845.1_ASM1336184v1_genomic.fna.prokka.faa/home/sam/FullCyc_metagenome/Other_studies_comp/redo_analysis/prokka_output/biocharSIP/GCA_013361705.1_ASM1336170v1_genomic.fna/GCA_013361705.1_ASM1336170v1_genomic.fna.prokka.faa/home/sam/FullCyc_metagenome/Other_studies_comp/redo_analysis/prokka_output/biocharSIP/GCA_013361465.1_ASM1336146v1_genomic.fna/GCA_013361465.1_ASM1336146v1_genomic.fna.prokka.faa/home/sam/FullCyc_metagenome/Other_studies_comp/redo_analysis/prokka_output/biocharSIP/GCA_013362815.1_ASM1336281v1_genomic.fna/GCA_013362815.1_ASM1336281v1_genomic.fna.prokka.faa/home/sam/FullCyc_metagenome/Other_studies_comp/redo_analysis/prokka_output/biocharSIP/GCA_013362725.1_ASM1336272v1_genomic.fna/GCA_013362725.1_ASM1336272v1_genomic.fna.prokka.faa/home/sam/FullCyc_metagenome/Other_studies_comp/redo_analysis/prokka_output/biocharSIP/GCA_013361825.1_ASM1336182v1_genomic.fna/GCA_013361825.1_ASM1336182v1_genomic.fna.prokka.faa/home/sam/FullCyc_metagenome/Other_studies_comp/redo_analysis/prokka_output/biocharSIP/GCA_013361935.1_ASM1336193v1_genomic.fna/GCA_013361935.1_ASM1336193v1_genomic.fna.prokka.faa/home/sam/FullCyc_metagenome/Other_studies_comp/redo_analysis/prokka_output/biocharSIP/GCA_013361645.1_ASM1336164v1_genomic.fna/GCA_013361645.1_ASM1336164v1_genomic.fna.prokka.faa/home/sam/FullCyc_metagenome/Other_studies_comp/redo_analysis/prokka_output/biocharSIP/GCA_013362385.1_ASM1336238v1_genomic.fna/GCA_013362385.1_ASM1336238v1_genomic.fna.prokka.faa/home/sam/FullCyc_metagenome/Other_studies_comp/redo_analysis/prokka_output/biocharSIP/GCA_013361435.1_ASM1336143v1_genomic.fna/GCA_013361435.1_ASM1336143v1_genomic.fna.prokka.faa/home/sam/FullCyc_metagenome/Other_studies_comp/redo_analysis/prokka_output/biocharSIP/GCA_013362805.1_ASM1336280v1_genomic.fna/GCA_013362805.1_ASM1336280v1_genomic.fna.prokka.faa\n",
      "\n",
      "\n",
      "\n",
      "\n",
      "\n",
      "\n",
      "/home/sam/FullCyc_metagenome/Other_studies_comp/redo_analysis/prokka_output/biocharSIP/GCA_013362735.1_ASM1336273v1_genomic.fna/GCA_013362735.1_ASM1336273v1_genomic.fna.prokka.faa/home/sam/FullCyc_metagenome/Other_studies_comp/redo_analysis/prokka_output/biocharSIP/GCA_013362085.1_ASM1336208v1_genomic.fna/GCA_013362085.1_ASM1336208v1_genomic.fna.prokka.faa/home/sam/FullCyc_metagenome/Other_studies_comp/redo_analysis/prokka_output/biocharSIP/GCA_013362225.1_ASM1336222v1_genomic.fna/GCA_013362225.1_ASM1336222v1_genomic.fna.prokka.faa\n",
      "\n",
      "\n",
      "\n",
      "\n",
      "\n",
      "\n",
      "\n",
      "\n",
      "\n",
      "\n",
      "\n",
      "\n",
      "\n",
      "\n",
      "\n",
      "\n",
      "\n",
      "\n",
      "\n",
      "\n",
      "\n",
      "\n",
      "\n",
      "\n",
      "\n",
      "\n",
      "\n",
      "\n",
      "\n",
      "\n",
      "\n",
      "\n",
      "\n",
      "\n",
      "\n",
      "\n",
      "\n",
      "\n",
      "\n",
      "\n",
      "\n",
      "\n",
      "\n"
     ]
    }
   ],
   "source": [
    "start_time = time.time()\n",
    "pool = multiprocessing.Pool(processes=nproc)\n",
    "pool.map(run_deeptfactor, faa_list)\n",
    "run_time = time.time()-start_time"
   ]
  },
  {
   "cell_type": "code",
   "execution_count": 7,
   "metadata": {},
   "outputs": [
    {
     "name": "stdout",
     "output_type": "stream",
     "text": [
      "Ran for  15.845 minutes\n",
      "There should be: 84\n",
      "There are: 84\n"
     ]
    }
   ],
   "source": [
    "print('Ran for ', str(round(run_time/60, 3)) + ' minutes')\n",
    "print('There should be: ' + str(len(faa_list)))\n",
    "print('There are: ' + str(len(os.listdir(outdir))))"
   ]
  },
  {
   "cell_type": "markdown",
   "metadata": {},
   "source": [
    "## DeepSIP"
   ]
  },
  {
   "cell_type": "code",
   "execution_count": 4,
   "metadata": {},
   "outputs": [
    {
     "name": "stdout",
     "output_type": "stream",
     "text": [
      "87\n"
     ]
    }
   ],
   "source": [
    "prokka_dir = '/home/sam/FullCyc_metagenome/Other_studies_comp/redo_analysis/prokka_output/DeepSIP'\n",
    "faa_list = [os.path.join(prokka_dir, genome, genome + '.prokka.faa') for genome in os.listdir(prokka_dir)]\n",
    "\n",
    "outdir = os.path.join(workdir, 'DeepSIP')\n",
    "\n",
    "if len(faa_list) < 70:\n",
    "    nproc = len(faa_list)\n",
    "else:\n",
    "    nproc = 70\n",
    "        \n",
    "print(len(faa_list))"
   ]
  },
  {
   "cell_type": "code",
   "execution_count": null,
   "metadata": {},
   "outputs": [
    {
     "name": "stdout",
     "output_type": "stream",
     "text": [
      "/home/sam/FullCyc_metagenome/Other_studies_comp/redo_analysis/prokka_output/DeepSIP/Rhizobiales.unenriched.contigs.2500.fa/Rhizobiales.unenriched.contigs.2500.fa.prokka.faa/home/sam/FullCyc_metagenome/Other_studies_comp/redo_analysis/prokka_output/DeepSIP/Rhodobacterales.unenriched.contigs.2500.fa/Rhodobacterales.unenriched.contigs.2500.fa.prokka.faa/home/sam/FullCyc_metagenome/Other_studies_comp/redo_analysis/prokka_output/DeepSIP/Streptomycetales.enriched.contigs.2500.fa/Streptomycetales.enriched.contigs.2500.fa.prokka.faa/home/sam/FullCyc_metagenome/Other_studies_comp/redo_analysis/prokka_output/DeepSIP/Cytophagales.enriched.contigs.2500.fa/Cytophagales.enriched.contigs.2500.fa.prokka.faa/home/sam/FullCyc_metagenome/Other_studies_comp/redo_analysis/prokka_output/DeepSIP/Rhodobacterales.enriched.contigs.2500.fa/Rhodobacterales.enriched.contigs.2500.fa.prokka.faa/home/sam/FullCyc_metagenome/Other_studies_comp/redo_analysis/prokka_output/DeepSIP/unclassified_Proteobacteria.enriched.contigs.2500.fa/unclassified_Proteobacteria.enriched.contigs.2500.fa.prokka.faa\n",
      "/home/sam/FullCyc_metagenome/Other_studies_comp/redo_analysis/prokka_output/DeepSIP/Gemmatimonadales.unenriched.contigs.2500.fa/Gemmatimonadales.unenriched.contigs.2500.fa.prokka.faa\n",
      "/home/sam/FullCyc_metagenome/Other_studies_comp/redo_analysis/prokka_output/DeepSIP/Planctomycetales.contigs.unenr.2500.fa/Planctomycetales.contigs.unenr.2500.fa.prokka.faa/home/sam/FullCyc_metagenome/Other_studies_comp/redo_analysis/prokka_output/DeepSIP/Micrococcales.unenriched.contigs.2500.fa/Micrococcales.unenriched.contigs.2500.fa.prokka.faa\n",
      "/home/sam/FullCyc_metagenome/Other_studies_comp/redo_analysis/prokka_output/DeepSIP/Bacteroidales.enriched.contigs.2500.fa/Bacteroidales.enriched.contigs.2500.fa.prokka.faa/home/sam/FullCyc_metagenome/Other_studies_comp/redo_analysis/prokka_output/DeepSIP/Pseudonocardiales.unenriched.contigs.2500.fa/Pseudonocardiales.unenriched.contigs.2500.fa.prokka.faa\n",
      "/home/sam/FullCyc_metagenome/Other_studies_comp/redo_analysis/prokka_output/DeepSIP/unclassified_Gammaproteobacteria.unenriched.contigs.2500.fa/unclassified_Gammaproteobacteria.unenriched.contigs.2500.fa.prokka.faa\n",
      "\n",
      "/home/sam/FullCyc_metagenome/Other_studies_comp/redo_analysis/prokka_output/DeepSIP/Clostridiales.enriched.contigs.2500.fa/Clostridiales.enriched.contigs.2500.fa.prokka.faa\n",
      "\n",
      "\n",
      "/home/sam/FullCyc_metagenome/Other_studies_comp/redo_analysis/prokka_output/DeepSIP/Cytophagales.unenriched.contigs.2500.fa/Cytophagales.unenriched.contigs.2500.fa.prokka.faa/home/sam/FullCyc_metagenome/Other_studies_comp/redo_analysis/prokka_output/DeepSIP/Chitinophagales.unenriched.contigs.2500.fa/Chitinophagales.unenriched.contigs.2500.fa.prokka.faa/home/sam/FullCyc_metagenome/Other_studies_comp/redo_analysis/prokka_output/DeepSIP/Corynebacteriales.unenriched.contigs.2500.fa/Corynebacteriales.unenriched.contigs.2500.fa.prokka.faa\n",
      "/home/sam/FullCyc_metagenome/Other_studies_comp/redo_analysis/prokka_output/DeepSIP/Orbiliales.unenriched.contigs.2500.fa/Orbiliales.unenriched.contigs.2500.fa.prokka.faa\n",
      "/home/sam/FullCyc_metagenome/Other_studies_comp/redo_analysis/prokka_output/DeepSIP/Chromatiales.enriched.contigs.2500.fa/Chromatiales.enriched.contigs.2500.fa.prokka.faa\n",
      "\n",
      "/home/sam/FullCyc_metagenome/Other_studies_comp/redo_analysis/prokka_output/DeepSIP/unclassified_Verrucomicrobia.enriched.contigs.2500.fa/unclassified_Verrucomicrobia.enriched.contigs.2500.fa.prokka.faa/home/sam/FullCyc_metagenome/Other_studies_comp/redo_analysis/prokka_output/DeepSIP/Chromatiales.unenriched.contigs.2500.fa/Chromatiales.unenriched.contigs.2500.fa.prokka.faa/home/sam/FullCyc_metagenome/Other_studies_comp/redo_analysis/prokka_output/DeepSIP/Ktedonobacterales.enriched.contigs.2500.fa/Ktedonobacterales.enriched.contigs.2500.fa.prokka.faa/home/sam/FullCyc_metagenome/Other_studies_comp/redo_analysis/prokka_output/DeepSIP/Acidobacteriales.enriched.contigs.2500.fa/Acidobacteriales.enriched.contigs.2500.fa.prokka.faa/home/sam/FullCyc_metagenome/Other_studies_comp/redo_analysis/prokka_output/DeepSIP/Myxococcales.unenriched.contigs.2500.fa/Myxococcales.unenriched.contigs.2500.fa.prokka.faa/home/sam/FullCyc_metagenome/Other_studies_comp/redo_analysis/prokka_output/DeepSIP/Micrococcales.enriched.contigs.2500.fa/Micrococcales.enriched.contigs.2500.fa.prokka.faa/home/sam/FullCyc_metagenome/Other_studies_comp/redo_analysis/prokka_output/DeepSIP/unclassified_Betaproteobacteria.enriched.contigs.2500.fa/unclassified_Betaproteobacteria.enriched.contigs.2500.fa.prokka.faa/home/sam/FullCyc_metagenome/Other_studies_comp/redo_analysis/prokka_output/DeepSIP/Pseudomonadales.enriched.contigs.2500.fa/Pseudomonadales.enriched.contigs.2500.fa.prokka.faa/home/sam/FullCyc_metagenome/Other_studies_comp/redo_analysis/prokka_output/DeepSIP/Burkholderiales.unenriched.contigs.2500.fa/Burkholderiales.unenriched.contigs.2500.fa.prokka.faa/home/sam/FullCyc_metagenome/Other_studies_comp/redo_analysis/prokka_output/DeepSIP/Verrucomicrobiales.unenriched.contigs.2500.fa/Verrucomicrobiales.unenriched.contigs.2500.fa.prokka.faa\n",
      "/home/sam/FullCyc_metagenome/Other_studies_comp/redo_analysis/prokka_output/DeepSIP/Streptosporangiales.unenriched.contigs.2500.fa/Streptosporangiales.unenriched.contigs.2500.fa.prokka.faa/home/sam/FullCyc_metagenome/Other_studies_comp/redo_analysis/prokka_output/DeepSIP/unclassified_Cyanobacteria.unenriched.contigs.2500.fa/unclassified_Cyanobacteria.unenriched.contigs.2500.fa.prokka.faa/home/sam/FullCyc_metagenome/Other_studies_comp/redo_analysis/prokka_output/DeepSIP/Xanthomonadales.enriched.contigs.2500.fa/Xanthomonadales.enriched.contigs.2500.fa.prokka.faa\n",
      "\n",
      "\n",
      "/home/sam/FullCyc_metagenome/Other_studies_comp/redo_analysis/prokka_output/DeepSIP/Solirubrobacterales.unenriched.contigs.2500.fa/Solirubrobacterales.unenriched.contigs.2500.fa.prokka.faa/home/sam/FullCyc_metagenome/Other_studies_comp/redo_analysis/prokka_output/DeepSIP/Chloroflexales.enriched.contigs.2500.fa/Chloroflexales.enriched.contigs.2500.fa.prokka.faa/home/sam/FullCyc_metagenome/Other_studies_comp/redo_analysis/prokka_output/DeepSIP/Verrucomicrobiales.enriched.contigs.2500.fa/Verrucomicrobiales.enriched.contigs.2500.fa.prokka.faa\n",
      "/home/sam/FullCyc_metagenome/Other_studies_comp/redo_analysis/prokka_output/DeepSIP/Propionibacteriales.enriched.contigs.2500.fa/Propionibacteriales.enriched.contigs.2500.fa.prokka.faa\n",
      "/home/sam/FullCyc_metagenome/Other_studies_comp/redo_analysis/prokka_output/DeepSIP/unclassified_Alphaproteobacteria.unenriched.contigs.2500.fa/unclassified_Alphaproteobacteria.unenriched.contigs.2500.fa.prokka.faa/home/sam/FullCyc_metagenome/Other_studies_comp/redo_analysis/prokka_output/DeepSIP/Micromonosporales.unenriched.contigs.2500.fa/Micromonosporales.unenriched.contigs.2500.fa.prokka.faa/home/sam/FullCyc_metagenome/Other_studies_comp/redo_analysis/prokka_output/DeepSIP/Bacillales.unenriched.contigs.2500.fa/Bacillales.unenriched.contigs.2500.fa.prokka.faa/home/sam/FullCyc_metagenome/Other_studies_comp/redo_analysis/prokka_output/DeepSIP/Frankiales.unenriched.contigs.2500.fa/Frankiales.unenriched.contigs.2500.fa.prokka.faa/home/sam/FullCyc_metagenome/Other_studies_comp/redo_analysis/prokka_output/DeepSIP/Sphingomonadales.contigs.strong.2500.fa/Sphingomonadales.contigs.strong.2500.fa.prokka.faa/home/sam/FullCyc_metagenome/Other_studies_comp/redo_analysis/prokka_output/DeepSIP/Planctomycetales.contigs.weak.2500.fa/Planctomycetales.contigs.weak.2500.fa.prokka.faa\n",
      "/home/sam/FullCyc_metagenome/Other_studies_comp/redo_analysis/prokka_output/DeepSIP/Pseudonocardiales.enriched.contigs.2500.fa/Pseudonocardiales.enriched.contigs.2500.fa.prokka.faa\n",
      "/home/sam/FullCyc_metagenome/Other_studies_comp/redo_analysis/prokka_output/DeepSIP/Rhodospirillales.unenriched.contigs.2500.fa/Rhodospirillales.unenriched.contigs.2500.fa.prokka.faa/home/sam/FullCyc_metagenome/Other_studies_comp/redo_analysis/prokka_output/DeepSIP/unclassified_Betaproteobacteria.unenriched.contigs.2500.fa/unclassified_Betaproteobacteria.unenriched.contigs.2500.fa.prokka.faa/home/sam/FullCyc_metagenome/Other_studies_comp/redo_analysis/prokka_output/DeepSIP/Chthoniobacterales.enriched.contigs.2500.fa/Chthoniobacterales.enriched.contigs.2500.fa.prokka.faa/home/sam/FullCyc_metagenome/Other_studies_comp/redo_analysis/prokka_output/DeepSIP/unclassified_Spirochaetia.enriched.contigs.2500.fa/unclassified_Spirochaetia.enriched.contigs.2500.fa.prokka.faa/home/sam/FullCyc_metagenome/Other_studies_comp/redo_analysis/prokka_output/DeepSIP/Corynebacteriales.enriched.contigs.2500.fa/Corynebacteriales.enriched.contigs.2500.fa.prokka.faa/home/sam/FullCyc_metagenome/Other_studies_comp/redo_analysis/prokka_output/DeepSIP/unclassified_Candidatus_Tectomicrobia.unenriched.contigs.2500.fa/unclassified_Candidatus_Tectomicrobia.unenriched.contigs.2500.fa.prokka.faa/home/sam/FullCyc_metagenome/Other_studies_comp/redo_analysis/prokka_output/DeepSIP/unclassified_Actinobacteria.unenriched.contigs.2500.fa/unclassified_Actinobacteria.unenriched.contigs.2500.fa.prokka.faa/home/sam/FullCyc_metagenome/Other_studies_comp/redo_analysis/prokka_output/DeepSIP/Propionibacteriales.unenriched.contigs.2500.fa/Propionibacteriales.unenriched.contigs.2500.fa.prokka.faa/home/sam/FullCyc_metagenome/Other_studies_comp/redo_analysis/prokka_output/DeepSIP/Hydrogenophilales.unenriched.contigs.2500.fa/Hydrogenophilales.unenriched.contigs.2500.fa.prokka.faa/home/sam/FullCyc_metagenome/Other_studies_comp/redo_analysis/prokka_output/DeepSIP/unclassified_Bacteroidetes.enriched.contigs.2500.fa/unclassified_Bacteroidetes.enriched.contigs.2500.fa.prokka.faa/home/sam/FullCyc_metagenome/Other_studies_comp/redo_analysis/prokka_output/DeepSIP/Rhizobiales.enriched.contigs.2500.fa/Rhizobiales.enriched.contigs.2500.fa.prokka.faa/home/sam/FullCyc_metagenome/Other_studies_comp/redo_analysis/prokka_output/DeepSIP/unclassified_Firmicutes.enriched.contigs.2500.fa/unclassified_Firmicutes.enriched.contigs.2500.fa.prokka.faa/home/sam/FullCyc_metagenome/Other_studies_comp/redo_analysis/prokka_output/DeepSIP/Rhodocyclales.unenriched.contigs.2500.fa/Rhodocyclales.unenriched.contigs.2500.fa.prokka.faa/home/sam/FullCyc_metagenome/Other_studies_comp/redo_analysis/prokka_output/DeepSIP/Sphingomonadales.contigs.weak.2500.fa/Sphingomonadales.contigs.weak.2500.fa.prokka.faa/home/sam/FullCyc_metagenome/Other_studies_comp/redo_analysis/prokka_output/DeepSIP/unclassified_Alphaproteobacteria.enriched.contigs.2500.fa/unclassified_Alphaproteobacteria.enriched.contigs.2500.fa.prokka.faa/home/sam/FullCyc_metagenome/Other_studies_comp/redo_analysis/prokka_output/DeepSIP/Alteromonadales.unenriched.contigs.2500.fa/Alteromonadales.unenriched.contigs.2500.fa.prokka.faa/home/sam/FullCyc_metagenome/Other_studies_comp/redo_analysis/prokka_output/DeepSIP/Streptomycetales.unenriched.contigs.2500.fa/Streptomycetales.unenriched.contigs.2500.fa.prokka.faa/home/sam/FullCyc_metagenome/Other_studies_comp/redo_analysis/prokka_output/DeepSIP/Nitrosomonadales.unenriched.contigs.2500.fa/Nitrosomonadales.unenriched.contigs.2500.fa.prokka.faa/home/sam/FullCyc_metagenome/Other_studies_comp/redo_analysis/prokka_output/DeepSIP/Alteromonadales.enriched.contigs.2500.fa/Alteromonadales.enriched.contigs.2500.fa.prokka.faa/home/sam/FullCyc_metagenome/Other_studies_comp/redo_analysis/prokka_output/DeepSIP/Enterobacterales.enriched.contigs.2500.fa/Enterobacterales.enriched.contigs.2500.fa.prokka.faa/home/sam/FullCyc_metagenome/Other_studies_comp/redo_analysis/prokka_output/DeepSIP/Xanthomonadales.unenriched.contigs.2500.fa/Xanthomonadales.unenriched.contigs.2500.fa.prokka.faa/home/sam/FullCyc_metagenome/Other_studies_comp/redo_analysis/prokka_output/DeepSIP/Bacillales.enriched.contigs.2500.fa/Bacillales.enriched.contigs.2500.fa.prokka.faa/home/sam/FullCyc_metagenome/Other_studies_comp/redo_analysis/prokka_output/DeepSIP/Sphingomonadales.contigs.unenr.2500.fa/Sphingomonadales.contigs.unenr.2500.fa.prokka.faa/home/sam/FullCyc_metagenome/Other_studies_comp/redo_analysis/prokka_output/DeepSIP/unclassified_Bacteria.unenriched.contigs.2500.fa/unclassified_Bacteria.unenriched.contigs.2500.fa.prokka.faa/home/sam/FullCyc_metagenome/Other_studies_comp/redo_analysis/prokka_output/DeepSIP/Cellvibrionales.enriched.contigs.2500.fa/Cellvibrionales.enriched.contigs.2500.fa.prokka.faa/home/sam/FullCyc_metagenome/Other_studies_comp/redo_analysis/prokka_output/DeepSIP/unclassified_Gammaproteobacteria.enriched.contigs.2500.fa/unclassified_Gammaproteobacteria.enriched.contigs.2500.fa.prokka.faa/home/sam/FullCyc_metagenome/Other_studies_comp/redo_analysis/prokka_output/DeepSIP/unclassified_Bacteroidetes.unenriched.contigs.2500.fa/unclassified_Bacteroidetes.unenriched.contigs.2500.fa.prokka.faa\n",
      "\n",
      "\n",
      "\n",
      "\n",
      "\n",
      "\n",
      "\n",
      "\n"
     ]
    }
   ],
   "source": [
    "start_time = time.time()\n",
    "pool = multiprocessing.Pool(processes=nproc)\n",
    "pool.map(run_deeptfactor, faa_list)\n",
    "run_time = time.time()-start_time"
   ]
  },
  {
   "cell_type": "code",
   "execution_count": 7,
   "metadata": {},
   "outputs": [
    {
     "name": "stdout",
     "output_type": "stream",
     "text": [
      "Ran for  79.04 minutes\n",
      "There should be: 87\n",
      "There are: 87\n"
     ]
    }
   ],
   "source": [
    "print('Ran for ', str(round(run_time/60, 3)) + ' minutes')\n",
    "print('There should be: ' + str(len(faa_list)))\n",
    "print('There are: ' + str(len(os.listdir(outdir))))"
   ]
  },
  {
   "cell_type": "markdown",
   "metadata": {},
   "source": [
    "## SIPLigCel"
   ]
  },
  {
   "cell_type": "code",
   "execution_count": 4,
   "metadata": {},
   "outputs": [
    {
     "name": "stdout",
     "output_type": "stream",
     "text": [
      "235\n"
     ]
    }
   ],
   "source": [
    "prokka_dir = '/home/sam/FullCyc_metagenome/Other_studies_comp/redo_analysis/prokka_output/SIPLigCel'\n",
    "faa_list = [os.path.join(prokka_dir, genome, genome + '.prokka.faa') for genome in os.listdir(prokka_dir)]\n",
    "\n",
    "outdir = os.path.join(workdir, 'SIPLigCel')\n",
    "\n",
    "if len(faa_list) < 70:\n",
    "    nproc = len(faa_list)\n",
    "else:\n",
    "    nproc = 70\n",
    "        \n",
    "print(len(faa_list))"
   ]
  },
  {
   "cell_type": "code",
   "execution_count": 5,
   "metadata": {},
   "outputs": [
    {
     "name": "stdout",
     "output_type": "stream",
     "text": [
      "/home/sam/FullCyc_metagenome/Other_studies_comp/redo_analysis/prokka_output/SIPLigCel/GCA_900153615.1_CALIFORNIA_MINERAL_Bin.35.fa/GCA_900153615.1_CALIFORNIA_MINERAL_Bin.35.fa.prokka.faa/home/sam/FullCyc_metagenome/Other_studies_comp/redo_analysis/prokka_output/SIPLigCel/GCA_900151965.1_ONTARIO_JACKPINE_MINERAL_Bin.4.fa/GCA_900151965.1_ONTARIO_JACKPINE_MINERAL_Bin.4.fa.prokka.faa/home/sam/FullCyc_metagenome/Other_studies_comp/redo_analysis/prokka_output/SIPLigCel/GCA_900152105.1_ONTARIO_JACKPINE_ORGANIC_Bin.18.fa/GCA_900152105.1_ONTARIO_JACKPINE_ORGANIC_Bin.18.fa.prokka.faa/home/sam/FullCyc_metagenome/Other_studies_comp/redo_analysis/prokka_output/SIPLigCel/GCA_900150215.1_BC_LODGEPOLE_MINERAL_Bin.5.fa/GCA_900150215.1_BC_LODGEPOLE_MINERAL_Bin.5.fa.prokka.faa/home/sam/FullCyc_metagenome/Other_studies_comp/redo_analysis/prokka_output/SIPLigCel/GCA_900153395.1_CALIFORNIA_MINERAL_Bin.15.fa/GCA_900153395.1_CALIFORNIA_MINERAL_Bin.15.fa.prokka.faa\n",
      "/home/sam/FullCyc_metagenome/Other_studies_comp/redo_analysis/prokka_output/SIPLigCel/GCA_900149975.1_BC_LODGEPOLE_ORGANIC_Bin.13.fa/GCA_900149975.1_BC_LODGEPOLE_ORGANIC_Bin.13.fa.prokka.faa/home/sam/FullCyc_metagenome/Other_studies_comp/redo_analysis/prokka_output/SIPLigCel/GCA_900153165.1_TEXAS_LOBLOLLY_ORGANIC_Bin.2.fa/GCA_900153165.1_TEXAS_LOBLOLLY_ORGANIC_Bin.2.fa.prokka.faa\n",
      "/home/sam/FullCyc_metagenome/Other_studies_comp/redo_analysis/prokka_output/SIPLigCel/GCA_900152565.1_TEXAS_LOBLOLLY_MINERAL_Bin.25.fa/GCA_900152565.1_TEXAS_LOBLOLLY_MINERAL_Bin.25.fa.prokka.faa/home/sam/FullCyc_metagenome/Other_studies_comp/redo_analysis/prokka_output/SIPLigCel/GCA_900154155.1_ONTARIO_MINERAL_Bin.9.fa/GCA_900154155.1_ONTARIO_MINERAL_Bin.9.fa.prokka.faa\n",
      "\n",
      "\n",
      "\n",
      "/home/sam/FullCyc_metagenome/Other_studies_comp/redo_analysis/prokka_output/SIPLigCel/GCA_900153665.1_CALIFORNIA_MINERAL_Bin.3.fa/GCA_900153665.1_CALIFORNIA_MINERAL_Bin.3.fa.prokka.faa/home/sam/FullCyc_metagenome/Other_studies_comp/redo_analysis/prokka_output/SIPLigCel/GCA_900151755.1_ONTARIO_JACKPINE_MINERAL_Bin.16.fa/GCA_900151755.1_ONTARIO_JACKPINE_MINERAL_Bin.16.fa.prokka.faa\n",
      "\n",
      "/home/sam/FullCyc_metagenome/Other_studies_comp/redo_analysis/prokka_output/SIPLigCel/GCA_900153795.1_CALIFORNIA_ORGANIC_Bin.7.fa/GCA_900153795.1_CALIFORNIA_ORGANIC_Bin.7.fa.prokka.faa/home/sam/FullCyc_metagenome/Other_studies_comp/redo_analysis/prokka_output/SIPLigCel/GCA_900150375.1_BC_LODGEPOLE_MINERAL_Bin.14.fa/GCA_900150375.1_BC_LODGEPOLE_MINERAL_Bin.14.fa.prokka.faa\n",
      "/home/sam/FullCyc_metagenome/Other_studies_comp/redo_analysis/prokka_output/SIPLigCel/GCA_900153755.1_CALIFORNIA_ORGANIC_Bin.3.fa/GCA_900153755.1_CALIFORNIA_ORGANIC_Bin.3.fa.prokka.faa/home/sam/FullCyc_metagenome/Other_studies_comp/redo_analysis/prokka_output/SIPLigCel/GCA_900150745.1_CALIFORNIA_PONDEROSA_ORGANIC_Bin.1.fa/GCA_900150745.1_CALIFORNIA_PONDEROSA_ORGANIC_Bin.1.fa.prokka.faa/home/sam/FullCyc_metagenome/Other_studies_comp/redo_analysis/prokka_output/SIPLigCel/GCA_900153405.1_CALIFORNIA_MINERAL_Bin.16.fa/GCA_900153405.1_CALIFORNIA_MINERAL_Bin.16.fa.prokka.faa/home/sam/FullCyc_metagenome/Other_studies_comp/redo_analysis/prokka_output/SIPLigCel/GCA_900153635.1_CALIFORNIA_MINERAL_Bin.37.fa/GCA_900153635.1_CALIFORNIA_MINERAL_Bin.37.fa.prokka.faa/home/sam/FullCyc_metagenome/Other_studies_comp/redo_analysis/prokka_output/SIPLigCel/GCA_900150325.1_BC_LODGEPOLE_ORGANIC_Bin.3.fa/GCA_900150325.1_BC_LODGEPOLE_ORGANIC_Bin.3.fa.prokka.faa/home/sam/FullCyc_metagenome/Other_studies_comp/redo_analysis/prokka_output/SIPLigCel/GCA_900150345.1_BC_LODGEPOLE_MINERAL_Bin.3.fa/GCA_900150345.1_BC_LODGEPOLE_MINERAL_Bin.3.fa.prokka.faa\n",
      "\n",
      "\n",
      "/home/sam/FullCyc_metagenome/Other_studies_comp/redo_analysis/prokka_output/SIPLigCel/GCA_900151465.1_ONTARIO_BLACK_SPRUCE_ORGANIC_Bin.39.fa/GCA_900151465.1_ONTARIO_BLACK_SPRUCE_ORGANIC_Bin.39.fa.prokka.faa/home/sam/FullCyc_metagenome/Other_studies_comp/redo_analysis/prokka_output/SIPLigCel/GCA_900151795.1_ONTARIO_JACKPINE_MINERAL_Bin.19.fa/GCA_900151795.1_ONTARIO_JACKPINE_MINERAL_Bin.19.fa.prokka.faa\n",
      "/home/sam/FullCyc_metagenome/Other_studies_comp/redo_analysis/prokka_output/SIPLigCel/GCA_900153875.1_ONTARIO_MINERAL_Bin.16.fa/GCA_900153875.1_ONTARIO_MINERAL_Bin.16.fa.prokka.faa\n",
      "/home/sam/FullCyc_metagenome/Other_studies_comp/redo_analysis/prokka_output/SIPLigCel/GCA_900149995.1_CALIFORNIA_PONDEROSA_MINERAL_Bin.18.fa/GCA_900149995.1_CALIFORNIA_PONDEROSA_MINERAL_Bin.18.fa.prokka.faa\n",
      "/home/sam/FullCyc_metagenome/Other_studies_comp/redo_analysis/prokka_output/SIPLigCel/GCA_900154325.1_TEXAS_MINERAL_Bin.1.fa/GCA_900154325.1_TEXAS_MINERAL_Bin.1.fa.prokka.faa\n",
      "/home/sam/FullCyc_metagenome/Other_studies_comp/redo_analysis/prokka_output/SIPLigCel/GCA_900153945.1_ONTARIO_MINERAL_Bin.22.fa/GCA_900153945.1_ONTARIO_MINERAL_Bin.22.fa.prokka.faa/home/sam/FullCyc_metagenome/Other_studies_comp/redo_analysis/prokka_output/SIPLigCel/GCA_900151335.1_ONTARIO_BLACK_SPRUCE_ORGANIC_Bin.27.fa/GCA_900151335.1_ONTARIO_BLACK_SPRUCE_ORGANIC_Bin.27.fa.prokka.faa/home/sam/FullCyc_metagenome/Other_studies_comp/redo_analysis/prokka_output/SIPLigCel/GCA_900150995.1_ONTARIO_BLACK_SPRUCE_MINERAL_Bin.18.fa/GCA_900150995.1_ONTARIO_BLACK_SPRUCE_MINERAL_Bin.18.fa.prokka.faa/home/sam/FullCyc_metagenome/Other_studies_comp/redo_analysis/prokka_output/SIPLigCel/GCA_900150305.1_BC_LODGEPOLE_ORGANIC_Bin.8.fa/GCA_900150305.1_BC_LODGEPOLE_ORGANIC_Bin.8.fa.prokka.faa\n",
      "/home/sam/FullCyc_metagenome/Other_studies_comp/redo_analysis/prokka_output/SIPLigCel/GCA_900152255.1_ONTARIO_JACKPINE_ORGANIC_Bin.31.fa/GCA_900152255.1_ONTARIO_JACKPINE_ORGANIC_Bin.31.fa.prokka.faa\n",
      "/home/sam/FullCyc_metagenome/Other_studies_comp/redo_analysis/prokka_output/SIPLigCel/GCA_900150525.1_CALIFORNIA_PONDEROSA_MINERAL_Bin.29.fa/GCA_900150525.1_CALIFORNIA_PONDEROSA_MINERAL_Bin.29.fa.prokka.faa\n",
      "/home/sam/FullCyc_metagenome/Other_studies_comp/redo_analysis/prokka_output/SIPLigCel/GCA_900150315.1_BC_LODGEPOLE_MINERAL_Bin.4.fa/GCA_900150315.1_BC_LODGEPOLE_MINERAL_Bin.4.fa.prokka.faa/home/sam/FullCyc_metagenome/Other_studies_comp/redo_analysis/prokka_output/SIPLigCel/GCA_900154235.1_ONTARIO_ORGANIC_Bin.1.fa/GCA_900154235.1_ONTARIO_ORGANIC_Bin.1.fa.prokka.faa\n",
      "/home/sam/FullCyc_metagenome/Other_studies_comp/redo_analysis/prokka_output/SIPLigCel/GCA_900150175.1_BC_LODGEPOLE_ORGANIC_Bin.12.fa/GCA_900150175.1_BC_LODGEPOLE_ORGANIC_Bin.12.fa.prokka.faa/home/sam/FullCyc_metagenome/Other_studies_comp/redo_analysis/prokka_output/SIPLigCel/GCA_900153365.1_CALIFORNIA_MINERAL_Bin.12.fa/GCA_900153365.1_CALIFORNIA_MINERAL_Bin.12.fa.prokka.faa/home/sam/FullCyc_metagenome/Other_studies_comp/redo_analysis/prokka_output/SIPLigCel/GCA_900150015.1_CALIFORNIA_PONDEROSA_MINERAL_Bin.10.fa/GCA_900150015.1_CALIFORNIA_PONDEROSA_MINERAL_Bin.10.fa.prokka.faa\n",
      "/home/sam/FullCyc_metagenome/Other_studies_comp/redo_analysis/prokka_output/SIPLigCel/GCA_900153855.1_ONTARIO_MINERAL_Bin.14.fa/GCA_900153855.1_ONTARIO_MINERAL_Bin.14.fa.prokka.faa/home/sam/FullCyc_metagenome/Other_studies_comp/redo_analysis/prokka_output/SIPLigCel/GCA_900152335.1_ONTARIO_JACKPINE_ORGANIC_Bin.3.fa/GCA_900152335.1_ONTARIO_JACKPINE_ORGANIC_Bin.3.fa.prokka.faa/home/sam/FullCyc_metagenome/Other_studies_comp/redo_analysis/prokka_output/SIPLigCel/GCA_900151915.1_ONTARIO_JACKPINE_MINERAL_Bin.30.fa/GCA_900151915.1_ONTARIO_JACKPINE_MINERAL_Bin.30.fa.prokka.faa/home/sam/FullCyc_metagenome/Other_studies_comp/redo_analysis/prokka_output/SIPLigCel/GCA_900153565.1_CALIFORNIA_MINERAL_Bin.30.fa/GCA_900153565.1_CALIFORNIA_MINERAL_Bin.30.fa.prokka.faa/home/sam/FullCyc_metagenome/Other_studies_comp/redo_analysis/prokka_output/SIPLigCel/GCA_900153065.1_TEXAS_LOBLOLLY_ORGANIC_Bin.20.fa/GCA_900153065.1_TEXAS_LOBLOLLY_ORGANIC_Bin.20.fa.prokka.faa/home/sam/FullCyc_metagenome/Other_studies_comp/redo_analysis/prokka_output/SIPLigCel/GCA_900150855.1_CALIFORNIA_PONDEROSA_ORGANIC_Bin.3.fa/GCA_900150855.1_CALIFORNIA_PONDEROSA_ORGANIC_Bin.3.fa.prokka.faa/home/sam/FullCyc_metagenome/Other_studies_comp/redo_analysis/prokka_output/SIPLigCel/GCA_900150355.1_BC_LODGEPOLE_ORGANIC_Bin.14.fa/GCA_900150355.1_BC_LODGEPOLE_ORGANIC_Bin.14.fa.prokka.faa/home/sam/FullCyc_metagenome/Other_studies_comp/redo_analysis/prokka_output/SIPLigCel/GCA_900151185.1_ONTARIO_BLACK_SPRUCE_ORGANIC_Bin.13.fa/GCA_900151185.1_ONTARIO_BLACK_SPRUCE_ORGANIC_Bin.13.fa.prokka.faa/home/sam/FullCyc_metagenome/Other_studies_comp/redo_analysis/prokka_output/SIPLigCel/GCA_900152935.1_TEXAS_LOBLOLLY_MINERAL_Bin.8.fa/GCA_900152935.1_TEXAS_LOBLOLLY_MINERAL_Bin.8.fa.prokka.faa/home/sam/FullCyc_metagenome/Other_studies_comp/redo_analysis/prokka_output/SIPLigCel/GCA_900150165.1_BC_LODGEPOLE_MINERAL_Bin.11.fa/GCA_900150165.1_BC_LODGEPOLE_MINERAL_Bin.11.fa.prokka.faa/home/sam/FullCyc_metagenome/Other_studies_comp/redo_analysis/prokka_output/SIPLigCel/GCA_900153015.1_TEXAS_LOBLOLLY_ORGANIC_Bin.16.fa/GCA_900153015.1_TEXAS_LOBLOLLY_ORGANIC_Bin.16.fa.prokka.faa/home/sam/FullCyc_metagenome/Other_studies_comp/redo_analysis/prokka_output/SIPLigCel/GCA_900150645.1_CALIFORNIA_PONDEROSA_ORGANIC_Bin.11.fa/GCA_900150645.1_CALIFORNIA_PONDEROSA_ORGANIC_Bin.11.fa.prokka.faa/home/sam/FullCyc_metagenome/Other_studies_comp/redo_analysis/prokka_output/SIPLigCel/GCA_900153985.1_ONTARIO_MINERAL_Bin.26.fa/GCA_900153985.1_ONTARIO_MINERAL_Bin.26.fa.prokka.faa/home/sam/FullCyc_metagenome/Other_studies_comp/redo_analysis/prokka_output/SIPLigCel/GCA_900151555.1_ONTARIO_BLACK_SPRUCE_ORGANIC_Bin.47.fa/GCA_900151555.1_ONTARIO_BLACK_SPRUCE_ORGANIC_Bin.47.fa.prokka.faa/home/sam/FullCyc_metagenome/Other_studies_comp/redo_analysis/prokka_output/SIPLigCel/GCA_900153865.1_ONTARIO_MINERAL_Bin.15.fa/GCA_900153865.1_ONTARIO_MINERAL_Bin.15.fa.prokka.faa/home/sam/FullCyc_metagenome/Other_studies_comp/redo_analysis/prokka_output/SIPLigCel/GCA_900152855.1_TEXAS_LOBLOLLY_MINERAL_Bin.50.fa/GCA_900152855.1_TEXAS_LOBLOLLY_MINERAL_Bin.50.fa.prokka.faa/home/sam/FullCyc_metagenome/Other_studies_comp/redo_analysis/prokka_output/SIPLigCel/GCA_900150225.1_BC_LODGEPOLE_MINERAL_Bin.13.fa/GCA_900150225.1_BC_LODGEPOLE_MINERAL_Bin.13.fa.prokka.faa/home/sam/FullCyc_metagenome/Other_studies_comp/redo_analysis/prokka_output/SIPLigCel/GCA_900153435.1_CALIFORNIA_MINERAL_Bin.19.fa/GCA_900153435.1_CALIFORNIA_MINERAL_Bin.19.fa.prokka.faa/home/sam/FullCyc_metagenome/Other_studies_comp/redo_analysis/prokka_output/SIPLigCel/GCA_900150095.1_BC_LODGEPOLE_MINERAL_Bin.9.fa/GCA_900150095.1_BC_LODGEPOLE_MINERAL_Bin.9.fa.prokka.faa/home/sam/FullCyc_metagenome/Other_studies_comp/redo_analysis/prokka_output/SIPLigCel/GCA_900154075.1_ONTARIO_MINERAL_Bin.34.fa/GCA_900154075.1_ONTARIO_MINERAL_Bin.34.fa.prokka.faa/home/sam/FullCyc_metagenome/Other_studies_comp/redo_analysis/prokka_output/SIPLigCel/GCA_900150895.1_CALIFORNIA_PONDEROSA_ORGANIC_Bin.9.fa/GCA_900150895.1_CALIFORNIA_PONDEROSA_ORGANIC_Bin.9.fa.prokka.faa/home/sam/FullCyc_metagenome/Other_studies_comp/redo_analysis/prokka_output/SIPLigCel/GCA_900153375.1_CALIFORNIA_MINERAL_Bin.13.fa/GCA_900153375.1_CALIFORNIA_MINERAL_Bin.13.fa.prokka.faa/home/sam/FullCyc_metagenome/Other_studies_comp/redo_analysis/prokka_output/SIPLigCel/GCA_900150755.1_CALIFORNIA_PONDEROSA_ORGANIC_Bin.21.fa/GCA_900150755.1_CALIFORNIA_PONDEROSA_ORGANIC_Bin.21.fa.prokka.faa/home/sam/FullCyc_metagenome/Other_studies_comp/redo_analysis/prokka_output/SIPLigCel/GCA_900152175.1_ONTARIO_JACKPINE_ORGANIC_Bin.25.fa/GCA_900152175.1_ONTARIO_JACKPINE_ORGANIC_Bin.25.fa.prokka.faa/home/sam/FullCyc_metagenome/Other_studies_comp/redo_analysis/prokka_output/SIPLigCel/GCA_900152655.1_TEXAS_LOBLOLLY_MINERAL_Bin.32.fa/GCA_900152655.1_TEXAS_LOBLOLLY_MINERAL_Bin.32.fa.prokka.faa/home/sam/FullCyc_metagenome/Other_studies_comp/redo_analysis/prokka_output/SIPLigCel/GCA_900150575.1_CALIFORNIA_PONDEROSA_MINERAL_Bin.4.fa/GCA_900150575.1_CALIFORNIA_PONDEROSA_MINERAL_Bin.4.fa.prokka.faa/home/sam/FullCyc_metagenome/Other_studies_comp/redo_analysis/prokka_output/SIPLigCel/GCA_900152475.1_TEXAS_LOBLOLLY_MINERAL_Bin.16.fa/GCA_900152475.1_TEXAS_LOBLOLLY_MINERAL_Bin.16.fa.prokka.faa/home/sam/FullCyc_metagenome/Other_studies_comp/redo_analysis/prokka_output/SIPLigCel/GCA_900150485.1_CALIFORNIA_PONDEROSA_MINERAL_Bin.25.fa/GCA_900150485.1_CALIFORNIA_PONDEROSA_MINERAL_Bin.25.fa.prokka.faa/home/sam/FullCyc_metagenome/Other_studies_comp/redo_analysis/prokka_output/SIPLigCel/GCA_900151095.1_ONTARIO_BLACK_SPRUCE_MINERAL_Bin.3.fa/GCA_900151095.1_ONTARIO_BLACK_SPRUCE_MINERAL_Bin.3.fa.prokka.faa/home/sam/FullCyc_metagenome/Other_studies_comp/redo_analysis/prokka_output/SIPLigCel/GCA_900151875.1_ONTARIO_JACKPINE_MINERAL_Bin.27.fa/GCA_900151875.1_ONTARIO_JACKPINE_MINERAL_Bin.27.fa.prokka.faa/home/sam/FullCyc_metagenome/Other_studies_comp/redo_analysis/prokka_output/SIPLigCel/GCA_900153425.1_CALIFORNIA_MINERAL_Bin.18.fa/GCA_900153425.1_CALIFORNIA_MINERAL_Bin.18.fa.prokka.faa/home/sam/FullCyc_metagenome/Other_studies_comp/redo_analysis/prokka_output/SIPLigCel/GCA_900153675.1_CALIFORNIA_MINERAL_Bin.4.fa/GCA_900153675.1_CALIFORNIA_MINERAL_Bin.4.fa.prokka.faa/home/sam/FullCyc_metagenome/Other_studies_comp/redo_analysis/prokka_output/SIPLigCel/GCA_900152995.1_TEXAS_LOBLOLLY_ORGANIC_Bin.14.fa/GCA_900152995.1_TEXAS_LOBLOLLY_ORGANIC_Bin.14.fa.prokka.faa/home/sam/FullCyc_metagenome/Other_studies_comp/redo_analysis/prokka_output/SIPLigCel/GCA_900153915.1_ONTARIO_MINERAL_Bin.1.fa/GCA_900153915.1_ONTARIO_MINERAL_Bin.1.fa.prokka.faa/home/sam/FullCyc_metagenome/Other_studies_comp/redo_analysis/prokka_output/SIPLigCel/GCA_900153455.1_CALIFORNIA_MINERAL_Bin.20.fa/GCA_900153455.1_CALIFORNIA_MINERAL_Bin.20.fa.prokka.faa\n",
      "\n",
      "\n",
      "\n",
      "\n",
      "\n",
      "\n",
      "\n",
      "\n",
      "\n",
      "\n",
      "\n",
      "\n",
      "\n",
      "\n",
      "\n",
      "\n",
      "\n",
      "\n",
      "\n",
      "\n",
      "\n",
      "\n",
      "\n",
      "\n",
      "\n",
      "\n",
      "\n",
      "\n",
      "\n",
      "\n",
      "\n",
      "\n",
      "\n",
      "\n",
      "\n",
      "\n",
      "\n",
      "\n",
      "\n",
      "\n",
      "\n",
      "\n",
      "\n",
      "\n",
      "\n",
      "\n",
      "\n",
      "/home/sam/FullCyc_metagenome/Other_studies_comp/redo_analysis/prokka_output/SIPLigCel/GCA_900150135.1_CALIFORNIA_PONDEROSA_MINERAL_Bin.12.fa/GCA_900150135.1_CALIFORNIA_PONDEROSA_MINERAL_Bin.12.fa.prokka.faa\n",
      "/home/sam/FullCyc_metagenome/Other_studies_comp/redo_analysis/prokka_output/SIPLigCel/GCA_900150535.1_CALIFORNIA_PONDEROSA_MINERAL_Bin.2.fa/GCA_900150535.1_CALIFORNIA_PONDEROSA_MINERAL_Bin.2.fa.prokka.faa\n",
      "/home/sam/FullCyc_metagenome/Other_studies_comp/redo_analysis/prokka_output/SIPLigCel/GCA_900154035.1_ONTARIO_MINERAL_Bin.30.fa/GCA_900154035.1_ONTARIO_MINERAL_Bin.30.fa.prokka.faa\n",
      "/home/sam/FullCyc_metagenome/Other_studies_comp/redo_analysis/prokka_output/SIPLigCel/GCA_900150595.1_CALIFORNIA_PONDEROSA_MINERAL_Bin.6.fa/GCA_900150595.1_CALIFORNIA_PONDEROSA_MINERAL_Bin.6.fa.prokka.faa\n",
      "/home/sam/FullCyc_metagenome/Other_studies_comp/redo_analysis/prokka_output/SIPLigCel/GCA_900151105.1_ONTARIO_BLACK_SPRUCE_MINERAL_Bin.4.fa/GCA_900151105.1_ONTARIO_BLACK_SPRUCE_MINERAL_Bin.4.fa.prokka.faa\n",
      "/home/sam/FullCyc_metagenome/Other_studies_comp/redo_analysis/prokka_output/SIPLigCel/GCA_900152125.1_ONTARIO_JACKPINE_ORGANIC_Bin.1.fa/GCA_900152125.1_ONTARIO_JACKPINE_ORGANIC_Bin.1.fa.prokka.faa\n"
     ]
    },
    {
     "name": "stdout",
     "output_type": "stream",
     "text": [
      "/home/sam/FullCyc_metagenome/Other_studies_comp/redo_analysis/prokka_output/SIPLigCel/GCA_900150005.1_CALIFORNIA_PONDEROSA_MINERAL_Bin.15.fa/GCA_900150005.1_CALIFORNIA_PONDEROSA_MINERAL_Bin.15.fa.prokka.faa\n",
      "/home/sam/FullCyc_metagenome/Other_studies_comp/redo_analysis/prokka_output/SIPLigCel/GCA_900153895.1_ONTARIO_MINERAL_Bin.18.fa/GCA_900153895.1_ONTARIO_MINERAL_Bin.18.fa.prokka.faa\n",
      "/home/sam/FullCyc_metagenome/Other_studies_comp/redo_analysis/prokka_output/SIPLigCel/GCA_900153515.1_CALIFORNIA_MINERAL_Bin.26.fa/GCA_900153515.1_CALIFORNIA_MINERAL_Bin.26.fa.prokka.faa\n",
      "/home/sam/FullCyc_metagenome/Other_studies_comp/redo_analysis/prokka_output/SIPLigCel/GCA_900151145.1_ONTARIO_BLACK_SPRUCE_MINERAL_Bin.8.fa/GCA_900151145.1_ONTARIO_BLACK_SPRUCE_MINERAL_Bin.8.fa.prokka.faa\n",
      "/home/sam/FullCyc_metagenome/Other_studies_comp/redo_analysis/prokka_output/SIPLigCel/GCA_900151995.1_ONTARIO_JACKPINE_MINERAL_Bin.7.fa/GCA_900151995.1_ONTARIO_JACKPINE_MINERAL_Bin.7.fa.prokka.faa\n",
      "/home/sam/FullCyc_metagenome/Other_studies_comp/redo_analysis/prokka_output/SIPLigCel/GCA_900150705.1_CALIFORNIA_PONDEROSA_ORGANIC_Bin.17.fa/GCA_900150705.1_CALIFORNIA_PONDEROSA_ORGANIC_Bin.17.fa.prokka.faa\n",
      "/home/sam/FullCyc_metagenome/Other_studies_comp/redo_analysis/prokka_output/SIPLigCel/GCA_900151415.1_ONTARIO_BLACK_SPRUCE_ORGANIC_Bin.34.fa/GCA_900151415.1_ONTARIO_BLACK_SPRUCE_ORGANIC_Bin.34.fa.prokka.faa\n",
      "/home/sam/FullCyc_metagenome/Other_studies_comp/redo_analysis/prokka_output/SIPLigCel/GCA_900151645.1_ONTARIO_BLACK_SPRUCE_ORGANIC_Bin.54.fa/GCA_900151645.1_ONTARIO_BLACK_SPRUCE_ORGANIC_Bin.54.fa.prokka.faa\n",
      "/home/sam/FullCyc_metagenome/Other_studies_comp/redo_analysis/prokka_output/SIPLigCel/GCA_900154145.1_ONTARIO_MINERAL_Bin.8.fa/GCA_900154145.1_ONTARIO_MINERAL_Bin.8.fa.prokka.faa\n",
      "/home/sam/FullCyc_metagenome/Other_studies_comp/redo_analysis/prokka_output/SIPLigCel/GCA_900153585.1_CALIFORNIA_MINERAL_Bin.32.fa/GCA_900153585.1_CALIFORNIA_MINERAL_Bin.32.fa.prokka.faa\n",
      "/home/sam/FullCyc_metagenome/Other_studies_comp/redo_analysis/prokka_output/SIPLigCel/GCA_900153185.1_TEXAS_LOBLOLLY_ORGANIC_Bin.31.fa/GCA_900153185.1_TEXAS_LOBLOLLY_ORGANIC_Bin.31.fa.prokka.faa\n",
      "/home/sam/FullCyc_metagenome/Other_studies_comp/redo_analysis/prokka_output/SIPLigCel/GCA_900152005.1_ONTARIO_JACKPINE_MINERAL_Bin.8.fa/GCA_900152005.1_ONTARIO_JACKPINE_MINERAL_Bin.8.fa.prokka.faa\n",
      "/home/sam/FullCyc_metagenome/Other_studies_comp/redo_analysis/prokka_output/SIPLigCel/GCA_900150435.1_CALIFORNIA_PONDEROSA_MINERAL_Bin.20.fa/GCA_900150435.1_CALIFORNIA_PONDEROSA_MINERAL_Bin.20.fa.prokka.faa\n",
      "/home/sam/FullCyc_metagenome/Other_studies_comp/redo_analysis/prokka_output/SIPLigCel/GCA_900154105.1_ONTARIO_MINERAL_Bin.4.fa/GCA_900154105.1_ONTARIO_MINERAL_Bin.4.fa.prokka.faa\n",
      "/home/sam/FullCyc_metagenome/Other_studies_comp/redo_analysis/prokka_output/SIPLigCel/GCA_900154135.1_ONTARIO_MINERAL_Bin.7.fa/GCA_900154135.1_ONTARIO_MINERAL_Bin.7.fa.prokka.faa\n",
      "/home/sam/FullCyc_metagenome/Other_studies_comp/redo_analysis/prokka_output/SIPLigCel/GCA_900152225.1_ONTARIO_JACKPINE_ORGANIC_Bin.2.fa/GCA_900152225.1_ONTARIO_JACKPINE_ORGANIC_Bin.2.fa.prokka.faa\n",
      "/home/sam/FullCyc_metagenome/Other_studies_comp/redo_analysis/prokka_output/SIPLigCel/GCA_900153175.1_TEXAS_LOBLOLLY_ORGANIC_Bin.30.fa/GCA_900153175.1_TEXAS_LOBLOLLY_ORGANIC_Bin.30.fa.prokka.faa\n",
      "/home/sam/FullCyc_metagenome/Other_studies_comp/redo_analysis/prokka_output/SIPLigCel/GCA_900151355.1_ONTARIO_BLACK_SPRUCE_ORGANIC_Bin.29.fa/GCA_900151355.1_ONTARIO_BLACK_SPRUCE_ORGANIC_Bin.29.fa.prokka.faa\n",
      "/home/sam/FullCyc_metagenome/Other_studies_comp/redo_analysis/prokka_output/SIPLigCel/GCA_900152725.1_TEXAS_LOBLOLLY_MINERAL_Bin.39.fa/GCA_900152725.1_TEXAS_LOBLOLLY_MINERAL_Bin.39.fa.prokka.faa\n",
      "/home/sam/FullCyc_metagenome/Other_studies_comp/redo_analysis/prokka_output/SIPLigCel/GCA_900151225.1_ONTARIO_BLACK_SPRUCE_ORGANIC_Bin.17.fa/GCA_900151225.1_ONTARIO_BLACK_SPRUCE_ORGANIC_Bin.17.fa.prokka.faa\n",
      "/home/sam/FullCyc_metagenome/Other_studies_comp/redo_analysis/prokka_output/SIPLigCel/GCA_900151155.1_ONTARIO_BLACK_SPRUCE_ORGANIC_Bin.10.fa/GCA_900151155.1_ONTARIO_BLACK_SPRUCE_ORGANIC_Bin.10.fa.prokka.faa\n",
      "/home/sam/FullCyc_metagenome/Other_studies_comp/redo_analysis/prokka_output/SIPLigCel/GCA_900153965.1_ONTARIO_MINERAL_Bin.24.fa/GCA_900153965.1_ONTARIO_MINERAL_Bin.24.fa.prokka.faa\n",
      "/home/sam/FullCyc_metagenome/Other_studies_comp/redo_analysis/prokka_output/SIPLigCel/GCA_900150125.1_BC_LODGEPOLE_MINERAL_Bin.17.fa/GCA_900150125.1_BC_LODGEPOLE_MINERAL_Bin.17.fa.prokka.faa\n",
      "/home/sam/FullCyc_metagenome/Other_studies_comp/redo_analysis/prokka_output/SIPLigCel/GCA_900150425.1_CALIFORNIA_PONDEROSA_MINERAL_Bin.19.fa/GCA_900150425.1_CALIFORNIA_PONDEROSA_MINERAL_Bin.19.fa.prokka.faa\n",
      "/home/sam/FullCyc_metagenome/Other_studies_comp/redo_analysis/prokka_output/SIPLigCel/GCA_900150155.1_BC_LODGEPOLE_MINERAL_Bin.16.fa/GCA_900150155.1_BC_LODGEPOLE_MINERAL_Bin.16.fa.prokka.faa\n",
      "/home/sam/FullCyc_metagenome/Other_studies_comp/redo_analysis/prokka_output/SIPLigCel/GCA_900153995.1_ONTARIO_MINERAL_Bin.27.fa/GCA_900153995.1_ONTARIO_MINERAL_Bin.27.fa.prokka.faa\n",
      "/home/sam/FullCyc_metagenome/Other_studies_comp/redo_analysis/prokka_output/SIPLigCel/GCA_900151865.1_ONTARIO_JACKPINE_MINERAL_Bin.26.fa/GCA_900151865.1_ONTARIO_JACKPINE_MINERAL_Bin.26.fa.prokka.faa\n",
      "/home/sam/FullCyc_metagenome/Other_studies_comp/redo_analysis/prokka_output/SIPLigCel/GCA_900153525.1_CALIFORNIA_MINERAL_Bin.27.fa/GCA_900153525.1_CALIFORNIA_MINERAL_Bin.27.fa.prokka.faa\n",
      "/home/sam/FullCyc_metagenome/Other_studies_comp/redo_analysis/prokka_output/SIPLigCel/GCA_900153835.1_ONTARIO_MINERAL_Bin.12.fa/GCA_900153835.1_ONTARIO_MINERAL_Bin.12.fa.prokka.faa\n",
      "/home/sam/FullCyc_metagenome/Other_studies_comp/redo_analysis/prokka_output/SIPLigCel/GCA_900152535.1_TEXAS_LOBLOLLY_MINERAL_Bin.20.fa/GCA_900152535.1_TEXAS_LOBLOLLY_MINERAL_Bin.20.fa.prokka.faa\n",
      "/home/sam/FullCyc_metagenome/Other_studies_comp/redo_analysis/prokka_output/SIPLigCel/GCA_900153785.1_CALIFORNIA_ORGANIC_Bin.6.fa/GCA_900153785.1_CALIFORNIA_ORGANIC_Bin.6.fa.prokka.faa\n",
      "/home/sam/FullCyc_metagenome/Other_studies_comp/redo_analysis/prokka_output/SIPLigCel/GCA_900153815.1_ONTARIO_MINERAL_Bin.10.fa/GCA_900153815.1_ONTARIO_MINERAL_Bin.10.fa.prokka.faa\n",
      "/home/sam/FullCyc_metagenome/Other_studies_comp/redo_analysis/prokka_output/SIPLigCel/GCA_900149945.1_BC_LODGEPOLE_ORGANIC_Bin.6.fa/GCA_900149945.1_BC_LODGEPOLE_ORGANIC_Bin.6.fa.prokka.faa\n",
      "/home/sam/FullCyc_metagenome/Other_studies_comp/redo_analysis/prokka_output/SIPLigCel/GCA_900151535.1_ONTARIO_BLACK_SPRUCE_ORGANIC_Bin.44.fa/GCA_900151535.1_ONTARIO_BLACK_SPRUCE_ORGANIC_Bin.44.fa.prokka.faa\n",
      "/home/sam/FullCyc_metagenome/Other_studies_comp/redo_analysis/prokka_output/SIPLigCel/GCA_900153535.1_CALIFORNIA_MINERAL_Bin.28.fa/GCA_900153535.1_CALIFORNIA_MINERAL_Bin.28.fa.prokka.faa\n",
      "/home/sam/FullCyc_metagenome/Other_studies_comp/redo_analysis/prokka_output/SIPLigCel/GCA_900153605.1_CALIFORNIA_MINERAL_Bin.34.fa/GCA_900153605.1_CALIFORNIA_MINERAL_Bin.34.fa.prokka.faa\n",
      "/home/sam/FullCyc_metagenome/Other_studies_comp/redo_analysis/prokka_output/SIPLigCel/GCA_900151945.1_ONTARIO_JACKPINE_MINERAL_Bin.32.fa/GCA_900151945.1_ONTARIO_JACKPINE_MINERAL_Bin.32.fa.prokka.faa\n",
      "/home/sam/FullCyc_metagenome/Other_studies_comp/redo_analysis/prokka_output/SIPLigCel/GCA_900149955.1_CALIFORNIA_PONDEROSA_MINERAL_Bin.16.fa/GCA_900149955.1_CALIFORNIA_PONDEROSA_MINERAL_Bin.16.fa.prokka.faa\n",
      "/home/sam/FullCyc_metagenome/Other_studies_comp/redo_analysis/prokka_output/SIPLigCel/GCA_900153485.1_CALIFORNIA_MINERAL_Bin.23.fa/GCA_900153485.1_CALIFORNIA_MINERAL_Bin.23.fa.prokka.faa\n",
      "/home/sam/FullCyc_metagenome/Other_studies_comp/redo_analysis/prokka_output/SIPLigCel/GCA_900151475.1_ONTARIO_BLACK_SPRUCE_ORGANIC_Bin.3.fa/GCA_900151475.1_ONTARIO_BLACK_SPRUCE_ORGANIC_Bin.3.fa.prokka.faa\n",
      "/home/sam/FullCyc_metagenome/Other_studies_comp/redo_analysis/prokka_output/SIPLigCel/GCA_900151715.1_ONTARIO_JACKPINE_MINERAL_Bin.12.fa/GCA_900151715.1_ONTARIO_JACKPINE_MINERAL_Bin.12.fa.prokka.faa\n",
      "/home/sam/FullCyc_metagenome/Other_studies_comp/redo_analysis/prokka_output/SIPLigCel/GCA_900151015.1_ONTARIO_BLACK_SPRUCE_MINERAL_Bin.1.fa/GCA_900151015.1_ONTARIO_BLACK_SPRUCE_MINERAL_Bin.1.fa.prokka.faa\n",
      "/home/sam/FullCyc_metagenome/Other_studies_comp/redo_analysis/prokka_output/SIPLigCel/GCA_900150965.1_ONTARIO_BLACK_SPRUCE_MINERAL_Bin.15.fa/GCA_900150965.1_ONTARIO_BLACK_SPRUCE_MINERAL_Bin.15.fa.prokka.faa\n",
      "/home/sam/FullCyc_metagenome/Other_studies_comp/redo_analysis/prokka_output/SIPLigCel/GCA_900153705.1_CALIFORNIA_MINERAL_Bin.7.fa/GCA_900153705.1_CALIFORNIA_MINERAL_Bin.7.fa.prokka.faa\n",
      "/home/sam/FullCyc_metagenome/Other_studies_comp/redo_analysis/prokka_output/SIPLigCel/GCA_900150585.1_CALIFORNIA_PONDEROSA_MINERAL_Bin.5.fa/GCA_900150585.1_CALIFORNIA_PONDEROSA_MINERAL_Bin.5.fa.prokka.faa\n",
      "/home/sam/FullCyc_metagenome/Other_studies_comp/redo_analysis/prokka_output/SIPLigCel/GCA_900153505.1_CALIFORNIA_MINERAL_Bin.25.fa/GCA_900153505.1_CALIFORNIA_MINERAL_Bin.25.fa.prokka.faa\n",
      "/home/sam/FullCyc_metagenome/Other_studies_comp/redo_analysis/prokka_output/SIPLigCel/GCA_900154055.1_ONTARIO_MINERAL_Bin.32.fa/GCA_900154055.1_ONTARIO_MINERAL_Bin.32.fa.prokka.faa\n",
      "/home/sam/FullCyc_metagenome/Other_studies_comp/redo_analysis/prokka_output/SIPLigCel/GCA_900150865.1_CALIFORNIA_PONDEROSA_ORGANIC_Bin.5.fa/GCA_900150865.1_CALIFORNIA_PONDEROSA_ORGANIC_Bin.5.fa.prokka.faa\n",
      "/home/sam/FullCyc_metagenome/Other_studies_comp/redo_analysis/prokka_output/SIPLigCel/GCA_900150395.1_BC_LODGEPOLE_ORGANIC_Bin.2.fa/GCA_900150395.1_BC_LODGEPOLE_ORGANIC_Bin.2.fa.prokka.faa\n",
      "/home/sam/FullCyc_metagenome/Other_studies_comp/redo_analysis/prokka_output/SIPLigCel/GCA_900149965.1_BC_LODGEPOLE_ORGANIC_Bin.19.fa/GCA_900149965.1_BC_LODGEPOLE_ORGANIC_Bin.19.fa.prokka.faa\n",
      "/home/sam/FullCyc_metagenome/Other_studies_comp/redo_analysis/prokka_output/SIPLigCel/GCA_900150925.1_ONTARIO_BLACK_SPRUCE_MINERAL_Bin.11.fa/GCA_900150925.1_ONTARIO_BLACK_SPRUCE_MINERAL_Bin.11.fa.prokka.faa\n",
      "/home/sam/FullCyc_metagenome/Other_studies_comp/redo_analysis/prokka_output/SIPLigCel/GCA_900153955.1_ONTARIO_MINERAL_Bin.23.fa/GCA_900153955.1_ONTARIO_MINERAL_Bin.23.fa.prokka.faa\n",
      "/home/sam/FullCyc_metagenome/Other_studies_comp/redo_analysis/prokka_output/SIPLigCel/GCA_900153045.1_TEXAS_LOBLOLLY_ORGANIC_Bin.1.fa/GCA_900153045.1_TEXAS_LOBLOLLY_ORGANIC_Bin.1.fa.prokka.faa\n",
      "/home/sam/FullCyc_metagenome/Other_studies_comp/redo_analysis/prokka_output/SIPLigCel/GCA_900154005.1_ONTARIO_MINERAL_Bin.28.fa/GCA_900154005.1_ONTARIO_MINERAL_Bin.28.fa.prokka.faa\n",
      "/home/sam/FullCyc_metagenome/Other_studies_comp/redo_analysis/prokka_output/SIPLigCel/GCA_900154025.1_ONTARIO_MINERAL_Bin.2.fa/GCA_900154025.1_ONTARIO_MINERAL_Bin.2.fa.prokka.faa\n",
      "/home/sam/FullCyc_metagenome/Other_studies_comp/redo_analysis/prokka_output/SIPLigCel/GCA_900152825.1_TEXAS_LOBLOLLY_MINERAL_Bin.48.fa/GCA_900152825.1_TEXAS_LOBLOLLY_MINERAL_Bin.48.fa.prokka.faa\n",
      "/home/sam/FullCyc_metagenome/Other_studies_comp/redo_analysis/prokka_output/SIPLigCel/GCA_900153355.1_CALIFORNIA_MINERAL_Bin.11.fa/GCA_900153355.1_CALIFORNIA_MINERAL_Bin.11.fa.prokka.faa\n",
      "/home/sam/FullCyc_metagenome/Other_studies_comp/redo_analysis/prokka_output/SIPLigCel/GCA_900153245.1_TEXAS_LOBLOLLY_ORGANIC_Bin.37.fa/GCA_900153245.1_TEXAS_LOBLOLLY_ORGANIC_Bin.37.fa.prokka.faa\n",
      "/home/sam/FullCyc_metagenome/Other_studies_comp/redo_analysis/prokka_output/SIPLigCel/GCA_900150565.1_CALIFORNIA_PONDEROSA_MINERAL_Bin.3.fa/GCA_900150565.1_CALIFORNIA_PONDEROSA_MINERAL_Bin.3.fa.prokka.faa\n",
      "/home/sam/FullCyc_metagenome/Other_studies_comp/redo_analysis/prokka_output/SIPLigCel/GCA_900152025.1_ONTARIO_JACKPINE_ORGANIC_Bin.11.fa/GCA_900152025.1_ONTARIO_JACKPINE_ORGANIC_Bin.11.fa.prokka.faa\n",
      "/home/sam/FullCyc_metagenome/Other_studies_comp/redo_analysis/prokka_output/SIPLigCel/GCA_900152195.1_ONTARIO_JACKPINE_ORGANIC_Bin.27.fa/GCA_900152195.1_ONTARIO_JACKPINE_ORGANIC_Bin.27.fa.prokka.faa\n",
      "/home/sam/FullCyc_metagenome/Other_studies_comp/redo_analysis/prokka_output/SIPLigCel/GCA_900151195.1_ONTARIO_BLACK_SPRUCE_ORGANIC_Bin.14.fa/GCA_900151195.1_ONTARIO_BLACK_SPRUCE_ORGANIC_Bin.14.fa.prokka.faa\n",
      "/home/sam/FullCyc_metagenome/Other_studies_comp/redo_analysis/prokka_output/SIPLigCel/GCA_900154015.1_ONTARIO_MINERAL_Bin.29.fa/GCA_900154015.1_ONTARIO_MINERAL_Bin.29.fa.prokka.faa\n",
      "/home/sam/FullCyc_metagenome/Other_studies_comp/redo_analysis/prokka_output/SIPLigCel/GCA_900151035.1_ONTARIO_BLACK_SPRUCE_MINERAL_Bin.21.fa/GCA_900151035.1_ONTARIO_BLACK_SPRUCE_MINERAL_Bin.21.fa.prokka.faa\n",
      "/home/sam/FullCyc_metagenome/Other_studies_comp/redo_analysis/prokka_output/SIPLigCel/GCA_900150605.1_CALIFORNIA_PONDEROSA_MINERAL_Bin.7.fa/GCA_900150605.1_CALIFORNIA_PONDEROSA_MINERAL_Bin.7.fa.prokka.faa\n",
      "/home/sam/FullCyc_metagenome/Other_studies_comp/redo_analysis/prokka_output/SIPLigCel/GCA_900154245.1_ONTARIO_ORGANIC_Bin.2.fa/GCA_900154245.1_ONTARIO_ORGANIC_Bin.2.fa.prokka.faa\n",
      "/home/sam/FullCyc_metagenome/Other_studies_comp/redo_analysis/prokka_output/SIPLigCel/GCA_900150945.1_ONTARIO_BLACK_SPRUCE_MINERAL_Bin.14.fa/GCA_900150945.1_ONTARIO_BLACK_SPRUCE_MINERAL_Bin.14.fa.prokka.faa\n",
      "/home/sam/FullCyc_metagenome/Other_studies_comp/redo_analysis/prokka_output/SIPLigCel/GCA_900154185.1_ONTARIO_ORGANIC_Bin.12.fa/GCA_900154185.1_ONTARIO_ORGANIC_Bin.12.fa.prokka.faa\n",
      "/home/sam/FullCyc_metagenome/Other_studies_comp/redo_analysis/prokka_output/SIPLigCel/GCA_900153125.1_TEXAS_LOBLOLLY_ORGANIC_Bin.26.fa/GCA_900153125.1_TEXAS_LOBLOLLY_ORGANIC_Bin.26.fa.prokka.faa\n",
      "/home/sam/FullCyc_metagenome/Other_studies_comp/redo_analysis/prokka_output/SIPLigCel/GCA_900151545.1_ONTARIO_BLACK_SPRUCE_ORGANIC_Bin.46.fa/GCA_900151545.1_ONTARIO_BLACK_SPRUCE_ORGANIC_Bin.46.fa.prokka.faa\n",
      "/home/sam/FullCyc_metagenome/Other_studies_comp/redo_analysis/prokka_output/SIPLigCel/GCA_900153495.1_CALIFORNIA_MINERAL_Bin.24.fa/GCA_900153495.1_CALIFORNIA_MINERAL_Bin.24.fa.prokka.faa\n",
      "/home/sam/FullCyc_metagenome/Other_studies_comp/redo_analysis/prokka_output/SIPLigCel/GCA_900151825.1_ONTARIO_JACKPINE_MINERAL_Bin.22.fa/GCA_900151825.1_ONTARIO_JACKPINE_MINERAL_Bin.22.fa.prokka.faa\n",
      "/home/sam/FullCyc_metagenome/Other_studies_comp/redo_analysis/prokka_output/SIPLigCel/GCA_900153555.1_CALIFORNIA_MINERAL_Bin.2.fa/GCA_900153555.1_CALIFORNIA_MINERAL_Bin.2.fa.prokka.faa\n",
      "/home/sam/FullCyc_metagenome/Other_studies_comp/redo_analysis/prokka_output/SIPLigCel/GCA_900153575.1_CALIFORNIA_MINERAL_Bin.31.fa/GCA_900153575.1_CALIFORNIA_MINERAL_Bin.31.fa.prokka.faa\n",
      "/home/sam/FullCyc_metagenome/Other_studies_comp/redo_analysis/prokka_output/SIPLigCel/GCA_900153415.1_CALIFORNIA_MINERAL_Bin.17.fa/GCA_900153415.1_CALIFORNIA_MINERAL_Bin.17.fa.prokka.faa\n",
      "/home/sam/FullCyc_metagenome/Other_studies_comp/redo_analysis/prokka_output/SIPLigCel/GCA_900153545.1_CALIFORNIA_MINERAL_Bin.29.fa/GCA_900153545.1_CALIFORNIA_MINERAL_Bin.29.fa.prokka.faa\n",
      "/home/sam/FullCyc_metagenome/Other_studies_comp/redo_analysis/prokka_output/SIPLigCel/GCA_900151665.1_ONTARIO_BLACK_SPRUCE_ORGANIC_Bin.6.fa/GCA_900151665.1_ONTARIO_BLACK_SPRUCE_ORGANIC_Bin.6.fa.prokka.faa\n",
      "/home/sam/FullCyc_metagenome/Other_studies_comp/redo_analysis/prokka_output/SIPLigCel/GCA_900153025.1_TEXAS_LOBLOLLY_ORGANIC_Bin.17.fa/GCA_900153025.1_TEXAS_LOBLOLLY_ORGANIC_Bin.17.fa.prokka.faa\n",
      "/home/sam/FullCyc_metagenome/Other_studies_comp/redo_analysis/prokka_output/SIPLigCel/GCA_900151285.1_ONTARIO_BLACK_SPRUCE_ORGANIC_Bin.23.fa/GCA_900151285.1_ONTARIO_BLACK_SPRUCE_ORGANIC_Bin.23.fa.prokka.faa\n",
      "/home/sam/FullCyc_metagenome/Other_studies_comp/redo_analysis/prokka_output/SIPLigCel/GCA_900151175.1_ONTARIO_BLACK_SPRUCE_ORGANIC_Bin.12.fa/GCA_900151175.1_ONTARIO_BLACK_SPRUCE_ORGANIC_Bin.12.fa.prokka.faa\n",
      "/home/sam/FullCyc_metagenome/Other_studies_comp/redo_analysis/prokka_output/SIPLigCel/GCA_900151765.1_ONTARIO_JACKPINE_MINERAL_Bin.17.fa/GCA_900151765.1_ONTARIO_JACKPINE_MINERAL_Bin.17.fa.prokka.faa\n",
      "/home/sam/FullCyc_metagenome/Other_studies_comp/redo_analysis/prokka_output/SIPLigCel/GCA_900150835.1_CALIFORNIA_PONDEROSA_ORGANIC_Bin.2.fa/GCA_900150835.1_CALIFORNIA_PONDEROSA_ORGANIC_Bin.2.fa.prokka.faa\n",
      "/home/sam/FullCyc_metagenome/Other_studies_comp/redo_analysis/prokka_output/SIPLigCel/GCA_900150185.1_BC_LODGEPOLE_MINERAL_Bin.18.fa/GCA_900150185.1_BC_LODGEPOLE_MINERAL_Bin.18.fa.prokka.faa\n",
      "/home/sam/FullCyc_metagenome/Other_studies_comp/redo_analysis/prokka_output/SIPLigCel/GCA_900152915.1_TEXAS_LOBLOLLY_MINERAL_Bin.6.fa/GCA_900152915.1_TEXAS_LOBLOLLY_MINERAL_Bin.6.fa.prokka.faa\n"
     ]
    },
    {
     "name": "stdout",
     "output_type": "stream",
     "text": [
      "/home/sam/FullCyc_metagenome/Other_studies_comp/redo_analysis/prokka_output/SIPLigCel/GCA_900154085.1_ONTARIO_MINERAL_Bin.35.fa/GCA_900154085.1_ONTARIO_MINERAL_Bin.35.fa.prokka.faa\n",
      "/home/sam/FullCyc_metagenome/Other_studies_comp/redo_analysis/prokka_output/SIPLigCel/GCA_900150815.1_CALIFORNIA_PONDEROSA_ORGANIC_Bin.27.fa/GCA_900150815.1_CALIFORNIA_PONDEROSA_ORGANIC_Bin.27.fa.prokka.faa\n",
      "/home/sam/FullCyc_metagenome/Other_studies_comp/redo_analysis/prokka_output/SIPLigCel/GCA_900151745.1_ONTARIO_JACKPINE_MINERAL_Bin.15.fa/GCA_900151745.1_ONTARIO_JACKPINE_MINERAL_Bin.15.fa.prokka.faa\n",
      "/home/sam/FullCyc_metagenome/Other_studies_comp/redo_analysis/prokka_output/SIPLigCel/GCA_900151435.1_ONTARIO_BLACK_SPRUCE_ORGANIC_Bin.36.fa/GCA_900151435.1_ONTARIO_BLACK_SPRUCE_ORGANIC_Bin.36.fa.prokka.faa\n",
      "/home/sam/FullCyc_metagenome/Other_studies_comp/redo_analysis/prokka_output/SIPLigCel/GCA_900154305.1_ONTARIO_ORGANIC_Bin.8.fa/GCA_900154305.1_ONTARIO_ORGANIC_Bin.8.fa.prokka.faa\n",
      "/home/sam/FullCyc_metagenome/Other_studies_comp/redo_analysis/prokka_output/SIPLigCel/GCA_900152705.1_TEXAS_LOBLOLLY_MINERAL_Bin.37.fa/GCA_900152705.1_TEXAS_LOBLOLLY_MINERAL_Bin.37.fa.prokka.faa\n",
      "/home/sam/FullCyc_metagenome/Other_studies_comp/redo_analysis/prokka_output/SIPLigCel/GCA_900152615.1_TEXAS_LOBLOLLY_MINERAL_Bin.29.fa/GCA_900152615.1_TEXAS_LOBLOLLY_MINERAL_Bin.29.fa.prokka.faa\n",
      "/home/sam/FullCyc_metagenome/Other_studies_comp/redo_analysis/prokka_output/SIPLigCel/GCA_900150825.1_CALIFORNIA_PONDEROSA_ORGANIC_Bin.28.fa/GCA_900150825.1_CALIFORNIA_PONDEROSA_ORGANIC_Bin.28.fa.prokka.faa\n",
      "/home/sam/FullCyc_metagenome/Other_studies_comp/redo_analysis/prokka_output/SIPLigCel/GCA_900151405.1_ONTARIO_BLACK_SPRUCE_ORGANIC_Bin.33.fa/GCA_900151405.1_ONTARIO_BLACK_SPRUCE_ORGANIC_Bin.33.fa.prokka.faa\n",
      "/home/sam/FullCyc_metagenome/Other_studies_comp/redo_analysis/prokka_output/SIPLigCel/GCA_900153225.1_TEXAS_LOBLOLLY_ORGANIC_Bin.35.fa/GCA_900153225.1_TEXAS_LOBLOLLY_ORGANIC_Bin.35.fa.prokka.faa\n",
      "/home/sam/FullCyc_metagenome/Other_studies_comp/redo_analysis/prokka_output/SIPLigCel/GCA_900152015.1_ONTARIO_JACKPINE_MINERAL_Bin.9.fa/GCA_900152015.1_ONTARIO_JACKPINE_MINERAL_Bin.9.fa.prokka.faa\n",
      "/home/sam/FullCyc_metagenome/Other_studies_comp/redo_analysis/prokka_output/SIPLigCel/GCA_900150055.1_BC_LODGEPOLE_MINERAL_Bin.10.fa/GCA_900150055.1_BC_LODGEPOLE_MINERAL_Bin.10.fa.prokka.faa\n",
      "/home/sam/FullCyc_metagenome/Other_studies_comp/redo_analysis/prokka_output/SIPLigCel/GCA_900149925.1_BC_LODGEPOLE_ORGANIC_Bin.1.fa/GCA_900149925.1_BC_LODGEPOLE_ORGANIC_Bin.1.fa.prokka.faa\n",
      "/home/sam/FullCyc_metagenome/Other_studies_comp/redo_analysis/prokka_output/SIPLigCel/GCA_900153845.1_ONTARIO_MINERAL_Bin.13.fa/GCA_900153845.1_ONTARIO_MINERAL_Bin.13.fa.prokka.faa\n",
      "/home/sam/FullCyc_metagenome/Other_studies_comp/redo_analysis/prokka_output/SIPLigCel/GCA_900153315.1_TEXAS_LOBLOLLY_ORGANIC_Bin.7.fa/GCA_900153315.1_TEXAS_LOBLOLLY_ORGANIC_Bin.7.fa.prokka.faa\n",
      "/home/sam/FullCyc_metagenome/Other_studies_comp/redo_analysis/prokka_output/SIPLigCel/GCA_900153345.1_CALIFORNIA_MINERAL_Bin.10.fa/GCA_900153345.1_CALIFORNIA_MINERAL_Bin.10.fa.prokka.faa\n",
      "/home/sam/FullCyc_metagenome/Other_studies_comp/redo_analysis/prokka_output/SIPLigCel/GCA_900151695.1_ONTARIO_BLACK_SPRUCE_ORGANIC_Bin.9.fa/GCA_900151695.1_ONTARIO_BLACK_SPRUCE_ORGANIC_Bin.9.fa.prokka.faa\n",
      "/home/sam/FullCyc_metagenome/Other_studies_comp/redo_analysis/prokka_output/SIPLigCel/GCA_900153925.1_ONTARIO_MINERAL_Bin.20.fa/GCA_900153925.1_ONTARIO_MINERAL_Bin.20.fa.prokka.faa\n",
      "/home/sam/FullCyc_metagenome/Other_studies_comp/redo_analysis/prokka_output/SIPLigCel/GCA_900154165.1_ONTARIO_ORGANIC_Bin.10.fa/GCA_900154165.1_ONTARIO_ORGANIC_Bin.10.fa.prokka.faa\n",
      "/home/sam/FullCyc_metagenome/Other_studies_comp/redo_analysis/prokka_output/SIPLigCel/GCA_900152325.1_ONTARIO_JACKPINE_ORGANIC_Bin.39.fa/GCA_900152325.1_ONTARIO_JACKPINE_ORGANIC_Bin.39.fa.prokka.faa\n",
      "/home/sam/FullCyc_metagenome/Other_studies_comp/redo_analysis/prokka_output/SIPLigCel/GCA_900154295.1_ONTARIO_ORGANIC_Bin.7.fa/GCA_900154295.1_ONTARIO_ORGANIC_Bin.7.fa.prokka.faa\n",
      "/home/sam/FullCyc_metagenome/Other_studies_comp/redo_analysis/prokka_output/SIPLigCel/GCA_900152665.1_TEXAS_LOBLOLLY_MINERAL_Bin.33.fa/GCA_900152665.1_TEXAS_LOBLOLLY_MINERAL_Bin.33.fa.prokka.faa\n",
      "/home/sam/FullCyc_metagenome/Other_studies_comp/redo_analysis/prokka_output/SIPLigCel/GCA_900152955.1_TEXAS_LOBLOLLY_ORGANIC_Bin.10.fa/GCA_900152955.1_TEXAS_LOBLOLLY_ORGANIC_Bin.10.fa.prokka.faa\n",
      "/home/sam/FullCyc_metagenome/Other_studies_comp/redo_analysis/prokka_output/SIPLigCel/GCA_900154275.1_ONTARIO_ORGANIC_Bin.5.fa/GCA_900154275.1_ONTARIO_ORGANIC_Bin.5.fa.prokka.faa\n",
      "/home/sam/FullCyc_metagenome/Other_studies_comp/redo_analysis/prokka_output/SIPLigCel/GCA_900152515.1_TEXAS_LOBLOLLY_MINERAL_Bin.1.fa/GCA_900152515.1_TEXAS_LOBLOLLY_MINERAL_Bin.1.fa.prokka.faa\n",
      "/home/sam/FullCyc_metagenome/Other_studies_comp/redo_analysis/prokka_output/SIPLigCel/GCA_900153695.1_CALIFORNIA_MINERAL_Bin.5.fa/GCA_900153695.1_CALIFORNIA_MINERAL_Bin.5.fa.prokka.faa\n",
      "/home/sam/FullCyc_metagenome/Other_studies_comp/redo_analysis/prokka_output/SIPLigCel/GCA_900153905.1_ONTARIO_MINERAL_Bin.19.fa/GCA_900153905.1_ONTARIO_MINERAL_Bin.19.fa.prokka.faa\n",
      "/home/sam/FullCyc_metagenome/Other_studies_comp/redo_analysis/prokka_output/SIPLigCel/GCA_900150195.1_BC_LODGEPOLE_MINERAL_Bin.21.fa/GCA_900150195.1_BC_LODGEPOLE_MINERAL_Bin.21.fa.prokka.faa\n",
      "/home/sam/FullCyc_metagenome/Other_studies_comp/redo_analysis/prokka_output/SIPLigCel/GCA_900151395.1_ONTARIO_BLACK_SPRUCE_ORGANIC_Bin.32.fa/GCA_900151395.1_ONTARIO_BLACK_SPRUCE_ORGANIC_Bin.32.fa.prokka.faa\n",
      "/home/sam/FullCyc_metagenome/Other_studies_comp/redo_analysis/prokka_output/SIPLigCel/GCA_900152925.1_TEXAS_LOBLOLLY_MINERAL_Bin.7.fa/GCA_900152925.1_TEXAS_LOBLOLLY_MINERAL_Bin.7.fa.prokka.faa\n",
      "/home/sam/FullCyc_metagenome/Other_studies_comp/redo_analysis/prokka_output/SIPLigCel/GCA_900154045.1_ONTARIO_MINERAL_Bin.31.fa/GCA_900154045.1_ONTARIO_MINERAL_Bin.31.fa.prokka.faa\n",
      "/home/sam/FullCyc_metagenome/Other_studies_comp/redo_analysis/prokka_output/SIPLigCel/GCA_900153625.1_CALIFORNIA_MINERAL_Bin.36.fa/GCA_900153625.1_CALIFORNIA_MINERAL_Bin.36.fa.prokka.faa\n",
      "/home/sam/FullCyc_metagenome/Other_studies_comp/redo_analysis/prokka_output/SIPLigCel/GCA_900151215.1_ONTARIO_BLACK_SPRUCE_ORGANIC_Bin.16.fa/GCA_900151215.1_ONTARIO_BLACK_SPRUCE_ORGANIC_Bin.16.fa.prokka.faa\n",
      "/home/sam/FullCyc_metagenome/Other_studies_comp/redo_analysis/prokka_output/SIPLigCel/GCA_900150075.1_BC_LODGEPOLE_ORGANIC_Bin.5.fa/GCA_900150075.1_BC_LODGEPOLE_ORGANIC_Bin.5.fa.prokka.faa\n",
      "/home/sam/FullCyc_metagenome/Other_studies_comp/redo_analysis/prokka_output/SIPLigCel/GCA_900150085.1_BC_LODGEPOLE_MINERAL_Bin.6.fa/GCA_900150085.1_BC_LODGEPOLE_MINERAL_Bin.6.fa.prokka.faa\n",
      "/home/sam/FullCyc_metagenome/Other_studies_comp/redo_analysis/prokka_output/SIPLigCel/GCA_900153935.1_ONTARIO_MINERAL_Bin.21.fa/GCA_900153935.1_ONTARIO_MINERAL_Bin.21.fa.prokka.faa\n",
      "/home/sam/FullCyc_metagenome/Other_studies_comp/redo_analysis/prokka_output/SIPLigCel/GCA_900152765.1_TEXAS_LOBLOLLY_MINERAL_Bin.42.fa/GCA_900152765.1_TEXAS_LOBLOLLY_MINERAL_Bin.42.fa.prokka.faa\n",
      "/home/sam/FullCyc_metagenome/Other_studies_comp/redo_analysis/prokka_output/SIPLigCel/GCA_900150445.1_CALIFORNIA_PONDEROSA_MINERAL_Bin.21.fa/GCA_900150445.1_CALIFORNIA_PONDEROSA_MINERAL_Bin.21.fa.prokka.faa\n",
      "/home/sam/FullCyc_metagenome/Other_studies_comp/redo_analysis/prokka_output/SIPLigCel/GCA_900153155.1_TEXAS_LOBLOLLY_ORGANIC_Bin.29.fa/GCA_900153155.1_TEXAS_LOBLOLLY_ORGANIC_Bin.29.fa.prokka.faa\n",
      "/home/sam/FullCyc_metagenome/Other_studies_comp/redo_analysis/prokka_output/SIPLigCel/GCA_900150505.1_CALIFORNIA_PONDEROSA_MINERAL_Bin.26.fa/GCA_900150505.1_CALIFORNIA_PONDEROSA_MINERAL_Bin.26.fa.prokka.faa\n",
      "/home/sam/FullCyc_metagenome/Other_studies_comp/redo_analysis/prokka_output/SIPLigCel/GCA_900153445.1_CALIFORNIA_MINERAL_Bin.1.fa/GCA_900153445.1_CALIFORNIA_MINERAL_Bin.1.fa.prokka.faa\n",
      "/home/sam/FullCyc_metagenome/Other_studies_comp/redo_analysis/prokka_output/SIPLigCel/GCA_900152715.1_TEXAS_LOBLOLLY_MINERAL_Bin.38.fa/GCA_900152715.1_TEXAS_LOBLOLLY_MINERAL_Bin.38.fa.prokka.faa\n",
      "/home/sam/FullCyc_metagenome/Other_studies_comp/redo_analysis/prokka_output/SIPLigCel/GCA_900151075.1_ONTARIO_BLACK_SPRUCE_MINERAL_Bin.2.fa/GCA_900151075.1_ONTARIO_BLACK_SPRUCE_MINERAL_Bin.2.fa.prokka.faa\n",
      "/home/sam/FullCyc_metagenome/Other_studies_comp/redo_analysis/prokka_output/SIPLigCel/GCA_900150935.1_ONTARIO_BLACK_SPRUCE_MINERAL_Bin.12.fa/GCA_900150935.1_ONTARIO_BLACK_SPRUCE_MINERAL_Bin.12.fa.prokka.faa\n",
      "/home/sam/FullCyc_metagenome/Other_studies_comp/redo_analysis/prokka_output/SIPLigCel/GCA_900153655.1_CALIFORNIA_MINERAL_Bin.39.fa/GCA_900153655.1_CALIFORNIA_MINERAL_Bin.39.fa.prokka.faa\n",
      "/home/sam/FullCyc_metagenome/Other_studies_comp/redo_analysis/prokka_output/SIPLigCel/GCA_900153595.1_CALIFORNIA_MINERAL_Bin.33.fa/GCA_900153595.1_CALIFORNIA_MINERAL_Bin.33.fa.prokka.faa\n",
      "/home/sam/FullCyc_metagenome/Other_studies_comp/redo_analysis/prokka_output/SIPLigCel/GCA_900153035.1_TEXAS_LOBLOLLY_ORGANIC_Bin.19.fa/GCA_900153035.1_TEXAS_LOBLOLLY_ORGANIC_Bin.19.fa.prokka.faa\n",
      "/home/sam/FullCyc_metagenome/Other_studies_comp/redo_analysis/prokka_output/SIPLigCel/GCA_900152975.1_TEXAS_LOBLOLLY_ORGANIC_Bin.12.fa/GCA_900152975.1_TEXAS_LOBLOLLY_ORGANIC_Bin.12.fa.prokka.faa\n",
      "/home/sam/FullCyc_metagenome/Other_studies_comp/redo_analysis/prokka_output/SIPLigCel/GCA_900152435.1_TEXAS_LOBLOLLY_MINERAL_Bin.12.fa/GCA_900152435.1_TEXAS_LOBLOLLY_MINERAL_Bin.12.fa.prokka.faa\n",
      "/home/sam/FullCyc_metagenome/Other_studies_comp/redo_analysis/prokka_output/SIPLigCel/GCA_900151205.1_ONTARIO_BLACK_SPRUCE_ORGANIC_Bin.15.fa/GCA_900151205.1_ONTARIO_BLACK_SPRUCE_ORGANIC_Bin.15.fa.prokka.faa\n",
      "/home/sam/FullCyc_metagenome/Other_studies_comp/redo_analysis/prokka_output/SIPLigCel/GCA_900152545.1_TEXAS_LOBLOLLY_MINERAL_Bin.22.fa/GCA_900152545.1_TEXAS_LOBLOLLY_MINERAL_Bin.22.fa.prokka.faa\n",
      "/home/sam/FullCyc_metagenome/Other_studies_comp/redo_analysis/prokka_output/SIPLigCel/GCA_900151775.1_ONTARIO_JACKPINE_MINERAL_Bin.18.fa/GCA_900151775.1_ONTARIO_JACKPINE_MINERAL_Bin.18.fa.prokka.faa\n",
      "/home/sam/FullCyc_metagenome/Other_studies_comp/redo_analysis/prokka_output/SIPLigCel/GCA_900153725.1_CALIFORNIA_MINERAL_Bin.9.fa/GCA_900153725.1_CALIFORNIA_MINERAL_Bin.9.fa.prokka.faa\n",
      "/home/sam/FullCyc_metagenome/Other_studies_comp/redo_analysis/prokka_output/SIPLigCel/GCA_900151425.1_ONTARIO_BLACK_SPRUCE_ORGANIC_Bin.35.fa/GCA_900151425.1_ONTARIO_BLACK_SPRUCE_ORGANIC_Bin.35.fa.prokka.faa\n",
      "/home/sam/FullCyc_metagenome/Other_studies_comp/redo_analysis/prokka_output/SIPLigCel/GCA_900154125.1_ONTARIO_MINERAL_Bin.6.fa/GCA_900154125.1_ONTARIO_MINERAL_Bin.6.fa.prokka.faa\n",
      "/home/sam/FullCyc_metagenome/Other_studies_comp/redo_analysis/prokka_output/SIPLigCel/GCA_900151485.1_ONTARIO_BLACK_SPRUCE_ORGANIC_Bin.40.fa/GCA_900151485.1_ONTARIO_BLACK_SPRUCE_ORGANIC_Bin.40.fa.prokka.faa\n",
      "/home/sam/FullCyc_metagenome/Other_studies_comp/redo_analysis/prokka_output/SIPLigCel/GCA_900151165.1_ONTARIO_BLACK_SPRUCE_ORGANIC_Bin.11.fa/GCA_900151165.1_ONTARIO_BLACK_SPRUCE_ORGANIC_Bin.11.fa.prokka.faa\n",
      "/home/sam/FullCyc_metagenome/Other_studies_comp/redo_analysis/prokka_output/SIPLigCel/GCA_900152945.1_TEXAS_LOBLOLLY_MINERAL_Bin.9.fa/GCA_900152945.1_TEXAS_LOBLOLLY_MINERAL_Bin.9.fa.prokka.faa\n",
      "/home/sam/FullCyc_metagenome/Other_studies_comp/redo_analysis/prokka_output/SIPLigCel/GCA_900152795.1_TEXAS_LOBLOLLY_MINERAL_Bin.45.fa/GCA_900152795.1_TEXAS_LOBLOLLY_MINERAL_Bin.45.fa.prokka.faa\n",
      "/home/sam/FullCyc_metagenome/Other_studies_comp/redo_analysis/prokka_output/SIPLigCel/GCA_900153825.1_ONTARIO_MINERAL_Bin.11.fa/GCA_900153825.1_ONTARIO_MINERAL_Bin.11.fa.prokka.faa\n",
      "/home/sam/FullCyc_metagenome/Other_studies_comp/redo_analysis/prokka_output/SIPLigCel/GCA_900151835.1_ONTARIO_JACKPINE_MINERAL_Bin.23.fa/GCA_900151835.1_ONTARIO_JACKPINE_MINERAL_Bin.23.fa.prokka.faa\n",
      "/home/sam/FullCyc_metagenome/Other_studies_comp/redo_analysis/prokka_output/SIPLigCel/GCA_900151245.1_ONTARIO_BLACK_SPRUCE_ORGANIC_Bin.19.fa/GCA_900151245.1_ONTARIO_BLACK_SPRUCE_ORGANIC_Bin.19.fa.prokka.faa\n",
      "/home/sam/FullCyc_metagenome/Other_studies_comp/redo_analysis/prokka_output/SIPLigCel/GCA_900153685.1_CALIFORNIA_MINERAL_Bin.6.fa/GCA_900153685.1_CALIFORNIA_MINERAL_Bin.6.fa.prokka.faa\n",
      "/home/sam/FullCyc_metagenome/Other_studies_comp/redo_analysis/prokka_output/SIPLigCel/GCA_900150455.1_CALIFORNIA_PONDEROSA_MINERAL_Bin.22.fa/GCA_900150455.1_CALIFORNIA_PONDEROSA_MINERAL_Bin.22.fa.prokka.faa\n",
      "/home/sam/FullCyc_metagenome/Other_studies_comp/redo_analysis/prokka_output/SIPLigCel/GCA_900152455.1_TEXAS_LOBLOLLY_MINERAL_Bin.13.fa/GCA_900152455.1_TEXAS_LOBLOLLY_MINERAL_Bin.13.fa.prokka.faa\n",
      "/home/sam/FullCyc_metagenome/Other_studies_comp/redo_analysis/prokka_output/SIPLigCel/GCA_900153335.1_TEXAS_LOBLOLLY_ORGANIC_Bin.9.fa/GCA_900153335.1_TEXAS_LOBLOLLY_ORGANIC_Bin.9.fa.prokka.faa\n",
      "/home/sam/FullCyc_metagenome/Other_studies_comp/redo_analysis/prokka_output/SIPLigCel/GCA_900155275.1_ONTARIO_BLACK_SPRUCE_MINERAL_Bin.9.fa/GCA_900155275.1_ONTARIO_BLACK_SPRUCE_MINERAL_Bin.9.fa.prokka.faa\n",
      "/home/sam/FullCyc_metagenome/Other_studies_comp/redo_analysis/prokka_output/SIPLigCel/GCA_900152745.1_TEXAS_LOBLOLLY_MINERAL_Bin.40.fa/GCA_900152745.1_TEXAS_LOBLOLLY_MINERAL_Bin.40.fa.prokka.faa\n",
      "/home/sam/FullCyc_metagenome/Other_studies_comp/redo_analysis/prokka_output/SIPLigCel/GCA_900152685.1_TEXAS_LOBLOLLY_MINERAL_Bin.35.fa/GCA_900152685.1_TEXAS_LOBLOLLY_MINERAL_Bin.35.fa.prokka.faa\n",
      "/home/sam/FullCyc_metagenome/Other_studies_comp/redo_analysis/prokka_output/SIPLigCel/GCA_900152585.1_TEXAS_LOBLOLLY_MINERAL_Bin.26.fa/GCA_900152585.1_TEXAS_LOBLOLLY_MINERAL_Bin.26.fa.prokka.faa\n",
      "/home/sam/FullCyc_metagenome/Other_studies_comp/redo_analysis/prokka_output/SIPLigCel/GCA_900154115.1_ONTARIO_MINERAL_Bin.5.fa/GCA_900154115.1_ONTARIO_MINERAL_Bin.5.fa.prokka.faa\n",
      "/home/sam/FullCyc_metagenome/Other_studies_comp/redo_analysis/prokka_output/SIPLigCel/GCA_900153385.1_CALIFORNIA_MINERAL_Bin.14.fa/GCA_900153385.1_CALIFORNIA_MINERAL_Bin.14.fa.prokka.faa\n",
      "/home/sam/FullCyc_metagenome/Other_studies_comp/redo_analysis/prokka_output/SIPLigCel/GCA_900151365.1_ONTARIO_BLACK_SPRUCE_ORGANIC_Bin.2.fa/GCA_900151365.1_ONTARIO_BLACK_SPRUCE_ORGANIC_Bin.2.fa.prokka.faa\n",
      "/home/sam/FullCyc_metagenome/Other_studies_comp/redo_analysis/prokka_output/SIPLigCel/GCA_900152805.1_TEXAS_LOBLOLLY_MINERAL_Bin.46.fa/GCA_900152805.1_TEXAS_LOBLOLLY_MINERAL_Bin.46.fa.prokka.faa\n",
      "/home/sam/FullCyc_metagenome/Other_studies_comp/redo_analysis/prokka_output/SIPLigCel/GCA_900152575.1_TEXAS_LOBLOLLY_MINERAL_Bin.24.fa/GCA_900152575.1_TEXAS_LOBLOLLY_MINERAL_Bin.24.fa.prokka.faa\n"
     ]
    }
   ],
   "source": [
    "start_time = time.time()\n",
    "pool = multiprocessing.Pool(processes=nproc)\n",
    "pool.map(run_deeptfactor, faa_list)\n",
    "run_time = time.time()-start_time"
   ]
  },
  {
   "cell_type": "code",
   "execution_count": 7,
   "metadata": {},
   "outputs": [
    {
     "name": "stdout",
     "output_type": "stream",
     "text": [
      "Ran for  70.796 minutes\n",
      "There should be: 235\n",
      "There are: 235\n"
     ]
    }
   ],
   "source": [
    "print('Ran for ', str(round(run_time/60, 3)) + ' minutes')\n",
    "print('There should be: ' + str(len(faa_list)))\n",
    "print('There are: ' + str(len(os.listdir(outdir))))"
   ]
  },
  {
   "cell_type": "markdown",
   "metadata": {},
   "source": [
    "## SIPrhizosphere"
   ]
  },
  {
   "cell_type": "code",
   "execution_count": 5,
   "metadata": {},
   "outputs": [
    {
     "name": "stdout",
     "output_type": "stream",
     "text": [
      "54\n"
     ]
    }
   ],
   "source": [
    "prokka_dir = '/home/sam/FullCyc_metagenome/Other_studies_comp/redo_analysis/prokka_output/SIPrhizosphere'\n",
    "faa_list = [os.path.join(prokka_dir, genome, genome + '.prokka.faa') for genome in os.listdir(prokka_dir)]\n",
    "\n",
    "outdir = os.path.join(workdir, 'SIPrhizosphere')\n",
    "\n",
    "if len(faa_list) < 70:\n",
    "    nproc = len(faa_list)\n",
    "else:\n",
    "    nproc = 70\n",
    "        \n",
    "print(len(faa_list))"
   ]
  },
  {
   "cell_type": "code",
   "execution_count": 6,
   "metadata": {},
   "outputs": [
    {
     "name": "stdout",
     "output_type": "stream",
     "text": [
      "/home/sam/FullCyc_metagenome/Other_studies_comp/redo_analysis/prokka_output/SIPrhizosphere/MAG16.fa/MAG16.fa.prokka.faa/home/sam/FullCyc_metagenome/Other_studies_comp/redo_analysis/prokka_output/SIPrhizosphere/MAG50.fa/MAG50.fa.prokka.faa/home/sam/FullCyc_metagenome/Other_studies_comp/redo_analysis/prokka_output/SIPrhizosphere/MAG07.fa/MAG07.fa.prokka.faa/home/sam/FullCyc_metagenome/Other_studies_comp/redo_analysis/prokka_output/SIPrhizosphere/MAG03.fa/MAG03.fa.prokka.faa/home/sam/FullCyc_metagenome/Other_studies_comp/redo_analysis/prokka_output/SIPrhizosphere/MAG49.fa/MAG49.fa.prokka.faa/home/sam/FullCyc_metagenome/Other_studies_comp/redo_analysis/prokka_output/SIPrhizosphere/MAG10.fa/MAG10.fa.prokka.faa/home/sam/FullCyc_metagenome/Other_studies_comp/redo_analysis/prokka_output/SIPrhizosphere/MAG19.fa/MAG19.fa.prokka.faa\n",
      "/home/sam/FullCyc_metagenome/Other_studies_comp/redo_analysis/prokka_output/SIPrhizosphere/MAG06.fa/MAG06.fa.prokka.faa/home/sam/FullCyc_metagenome/Other_studies_comp/redo_analysis/prokka_output/SIPrhizosphere/MAG47.fa/MAG47.fa.prokka.faa\n",
      "\n",
      "\n",
      "/home/sam/FullCyc_metagenome/Other_studies_comp/redo_analysis/prokka_output/SIPrhizosphere/MAG13.fa/MAG13.fa.prokka.faa\n",
      "\n",
      "/home/sam/FullCyc_metagenome/Other_studies_comp/redo_analysis/prokka_output/SIPrhizosphere/MAG48.fa/MAG48.fa.prokka.faa/home/sam/FullCyc_metagenome/Other_studies_comp/redo_analysis/prokka_output/SIPrhizosphere/MAG15.fa/MAG15.fa.prokka.faa\n",
      "/home/sam/FullCyc_metagenome/Other_studies_comp/redo_analysis/prokka_output/SIPrhizosphere/MAG01.fa/MAG01.fa.prokka.faa\n",
      "/home/sam/FullCyc_metagenome/Other_studies_comp/redo_analysis/prokka_output/SIPrhizosphere/MAG14.fa/MAG14.fa.prokka.faa\n",
      "/home/sam/FullCyc_metagenome/Other_studies_comp/redo_analysis/prokka_output/SIPrhizosphere/MAG46.fa/MAG46.fa.prokka.faa/home/sam/FullCyc_metagenome/Other_studies_comp/redo_analysis/prokka_output/SIPrhizosphere/MAG21.fa/MAG21.fa.prokka.faa\n",
      "/home/sam/FullCyc_metagenome/Other_studies_comp/redo_analysis/prokka_output/SIPrhizosphere/MAG18.fa/MAG18.fa.prokka.faa/home/sam/FullCyc_metagenome/Other_studies_comp/redo_analysis/prokka_output/SIPrhizosphere/MAG38.fa/MAG38.fa.prokka.faa/home/sam/FullCyc_metagenome/Other_studies_comp/redo_analysis/prokka_output/SIPrhizosphere/MAG35.fa/MAG35.fa.prokka.faa/home/sam/FullCyc_metagenome/Other_studies_comp/redo_analysis/prokka_output/SIPrhizosphere/MAG32.fa/MAG32.fa.prokka.faa/home/sam/FullCyc_metagenome/Other_studies_comp/redo_analysis/prokka_output/SIPrhizosphere/MAG31.fa/MAG31.fa.prokka.faa/home/sam/FullCyc_metagenome/Other_studies_comp/redo_analysis/prokka_output/SIPrhizosphere/MAG09.fa/MAG09.fa.prokka.faa\n",
      "/home/sam/FullCyc_metagenome/Other_studies_comp/redo_analysis/prokka_output/SIPrhizosphere/MAG22.fa/MAG22.fa.prokka.faa/home/sam/FullCyc_metagenome/Other_studies_comp/redo_analysis/prokka_output/SIPrhizosphere/MAG20.fa/MAG20.fa.prokka.faa\n",
      "\n",
      "/home/sam/FullCyc_metagenome/Other_studies_comp/redo_analysis/prokka_output/SIPrhizosphere/MAG43.fa/MAG43.fa.prokka.faa/home/sam/FullCyc_metagenome/Other_studies_comp/redo_analysis/prokka_output/SIPrhizosphere/MAG05.fa/MAG05.fa.prokka.faa\n",
      "/home/sam/FullCyc_metagenome/Other_studies_comp/redo_analysis/prokka_output/SIPrhizosphere/MAG29.fa/MAG29.fa.prokka.faa/home/sam/FullCyc_metagenome/Other_studies_comp/redo_analysis/prokka_output/SIPrhizosphere/MAG40.fa/MAG40.fa.prokka.faa/home/sam/FullCyc_metagenome/Other_studies_comp/redo_analysis/prokka_output/SIPrhizosphere/MAG37.fa/MAG37.fa.prokka.faa/home/sam/FullCyc_metagenome/Other_studies_comp/redo_analysis/prokka_output/SIPrhizosphere/MAG52.fa/MAG52.fa.prokka.faa/home/sam/FullCyc_metagenome/Other_studies_comp/redo_analysis/prokka_output/SIPrhizosphere/MAG28.fa/MAG28.fa.prokka.faa/home/sam/FullCyc_metagenome/Other_studies_comp/redo_analysis/prokka_output/SIPrhizosphere/MAG02.fa/MAG02.fa.prokka.faa/home/sam/FullCyc_metagenome/Other_studies_comp/redo_analysis/prokka_output/SIPrhizosphere/MAG34.fa/MAG34.fa.prokka.faa\n",
      "/home/sam/FullCyc_metagenome/Other_studies_comp/redo_analysis/prokka_output/SIPrhizosphere/MAG36.fa/MAG36.fa.prokka.faa\n",
      "/home/sam/FullCyc_metagenome/Other_studies_comp/redo_analysis/prokka_output/SIPrhizosphere/MAG26.fa/MAG26.fa.prokka.faa\n",
      "/home/sam/FullCyc_metagenome/Other_studies_comp/redo_analysis/prokka_output/SIPrhizosphere/MAG27.fa/MAG27.fa.prokka.faa\n",
      "\n",
      "/home/sam/FullCyc_metagenome/Other_studies_comp/redo_analysis/prokka_output/SIPrhizosphere/MAG11.fa/MAG11.fa.prokka.faa\n",
      "\n",
      "/home/sam/FullCyc_metagenome/Other_studies_comp/redo_analysis/prokka_output/SIPrhizosphere/MAG12.fa/MAG12.fa.prokka.faa\n",
      "/home/sam/FullCyc_metagenome/Other_studies_comp/redo_analysis/prokka_output/SIPrhizosphere/MAG53.fa/MAG53.fa.prokka.faa/home/sam/FullCyc_metagenome/Other_studies_comp/redo_analysis/prokka_output/SIPrhizosphere/MAG04.fa/MAG04.fa.prokka.faa\n",
      "/home/sam/FullCyc_metagenome/Other_studies_comp/redo_analysis/prokka_output/SIPrhizosphere/MAG42.fa/MAG42.fa.prokka.faa/home/sam/FullCyc_metagenome/Other_studies_comp/redo_analysis/prokka_output/SIPrhizosphere/MAG30.fa/MAG30.fa.prokka.faa/home/sam/FullCyc_metagenome/Other_studies_comp/redo_analysis/prokka_output/SIPrhizosphere/MAG45.fa/MAG45.fa.prokka.faa/home/sam/FullCyc_metagenome/Other_studies_comp/redo_analysis/prokka_output/SIPrhizosphere/MAG39.fa/MAG39.fa.prokka.faa/home/sam/FullCyc_metagenome/Other_studies_comp/redo_analysis/prokka_output/SIPrhizosphere/MAG08.fa/MAG08.fa.prokka.faa\n",
      "\n",
      "\n",
      "/home/sam/FullCyc_metagenome/Other_studies_comp/redo_analysis/prokka_output/SIPrhizosphere/MAG44.fa/MAG44.fa.prokka.faa\n",
      "\n",
      "/home/sam/FullCyc_metagenome/Other_studies_comp/redo_analysis/prokka_output/SIPrhizosphere/MAG17.fa/MAG17.fa.prokka.faa/home/sam/FullCyc_metagenome/Other_studies_comp/redo_analysis/prokka_output/SIPrhizosphere/MAG33.fa/MAG33.fa.prokka.faa\n",
      "\n",
      "\n",
      "\n",
      "\n",
      "/home/sam/FullCyc_metagenome/Other_studies_comp/redo_analysis/prokka_output/SIPrhizosphere/MAG54.fa/MAG54.fa.prokka.faa/home/sam/FullCyc_metagenome/Other_studies_comp/redo_analysis/prokka_output/SIPrhizosphere/MAG41.fa/MAG41.fa.prokka.faa\n",
      "\n",
      "\n",
      "\n",
      "\n",
      "\n",
      "\n",
      "\n",
      "\n",
      "\n",
      "\n",
      "\n",
      "\n",
      "\n",
      "\n",
      "\n",
      "\n",
      "/home/sam/FullCyc_metagenome/Other_studies_comp/redo_analysis/prokka_output/SIPrhizosphere/MAG51.fa/MAG51.fa.prokka.faa/home/sam/FullCyc_metagenome/Other_studies_comp/redo_analysis/prokka_output/SIPrhizosphere/MAG23.fa/MAG23.fa.prokka.faa\n",
      "\n",
      "/home/sam/FullCyc_metagenome/Other_studies_comp/redo_analysis/prokka_output/SIPrhizosphere/MAG24.fa/MAG24.fa.prokka.faa\n",
      "/home/sam/FullCyc_metagenome/Other_studies_comp/redo_analysis/prokka_output/SIPrhizosphere/MAG25.fa/MAG25.fa.prokka.faa\n"
     ]
    }
   ],
   "source": [
    "start_time = time.time()\n",
    "pool = multiprocessing.Pool(processes=nproc)\n",
    "pool.map(run_deeptfactor, faa_list)\n",
    "run_time = time.time()-start_time"
   ]
  },
  {
   "cell_type": "code",
   "execution_count": 7,
   "metadata": {},
   "outputs": [
    {
     "name": "stdout",
     "output_type": "stream",
     "text": [
      "Ran for  6.909 minutes\n",
      "There should be: 54\n",
      "There are: 54\n"
     ]
    }
   ],
   "source": [
    "print('Ran for ', str(round(run_time/60, 3)) + ' minutes')\n",
    "print('There should be: ' + str(len(faa_list)))\n",
    "print('There are: ' + str(len(os.listdir(outdir))))"
   ]
  },
  {
   "cell_type": "markdown",
   "metadata": {},
   "source": [
    "## Avena rhizosphere"
   ]
  },
  {
   "cell_type": "code",
   "execution_count": 4,
   "metadata": {},
   "outputs": [
    {
     "name": "stdout",
     "output_type": "stream",
     "text": [
      "37\n"
     ]
    }
   ],
   "source": [
    "prokka_dir = '/home/sam/FullCyc_metagenome/Other_studies_comp/redo_analysis/prokka_output/Avena_rhizosphere'\n",
    "faa_list = [os.path.join(prokka_dir, genome, genome + '.prokka.faa') for genome in os.listdir(prokka_dir)]\n",
    "\n",
    "outdir = os.path.join(workdir, 'Avena_rhizosphere')\n",
    "\n",
    "if len(faa_list) < 70:\n",
    "    nproc = len(faa_list)\n",
    "else:\n",
    "    nproc = 70\n",
    "        \n",
    "print(len(faa_list))"
   ]
  },
  {
   "cell_type": "code",
   "execution_count": 5,
   "metadata": {},
   "outputs": [
    {
     "name": "stdout",
     "output_type": "stream",
     "text": [
      "/home/sam/FullCyc_metagenome/Other_studies_comp/redo_analysis/prokka_output/Avena_rhizosphere/GCA_000701325.1_ASM70132v1_genomic.fna/GCA_000701325.1_ASM70132v1_genomic.fna.prokka.faa/home/sam/FullCyc_metagenome/Other_studies_comp/redo_analysis/prokka_output/Avena_rhizosphere/GCA_000426085.1_ASM42608v1_genomic.fna/GCA_000426085.1_ASM42608v1_genomic.fna.prokka.faa/home/sam/FullCyc_metagenome/Other_studies_comp/redo_analysis/prokka_output/Avena_rhizosphere/GCA_000620705.1_ASM62070v1_genomic.fna/GCA_000620705.1_ASM62070v1_genomic.fna.prokka.faa/home/sam/FullCyc_metagenome/Other_studies_comp/redo_analysis/prokka_output/Avena_rhizosphere/GCA_000620265.1_ASM62026v1_genomic.fna/GCA_000620265.1_ASM62026v1_genomic.fna.prokka.faa/home/sam/FullCyc_metagenome/Other_studies_comp/redo_analysis/prokka_output/Avena_rhizosphere/GCA_000421865.1_ASM42186v1_genomic.fna/GCA_000421865.1_ASM42186v1_genomic.fna.prokka.faa/home/sam/FullCyc_metagenome/Other_studies_comp/redo_analysis/prokka_output/Avena_rhizosphere/GCA_000620565.1_ASM62056v1_genomic.fna/GCA_000620565.1_ASM62056v1_genomic.fna.prokka.faa/home/sam/FullCyc_metagenome/Other_studies_comp/redo_analysis/prokka_output/Avena_rhizosphere/GCA_000426025.1_ASM42602v1_genomic.fna/GCA_000426025.1_ASM42602v1_genomic.fna.prokka.faa/home/sam/FullCyc_metagenome/Other_studies_comp/redo_analysis/prokka_output/Avena_rhizosphere/GCA_000426185.1_ASM42618v1_genomic.fna/GCA_000426185.1_ASM42618v1_genomic.fna.prokka.faa\n",
      "/home/sam/FullCyc_metagenome/Other_studies_comp/redo_analysis/prokka_output/Avena_rhizosphere/GCA_000688095.1_ASM68809v1_genomic.fna/GCA_000688095.1_ASM68809v1_genomic.fna.prokka.faa\n",
      "\n",
      "\n",
      "\n",
      "/home/sam/FullCyc_metagenome/Other_studies_comp/redo_analysis/prokka_output/Avena_rhizosphere/GCA_000702465.1_ASM70246v1_genomic.fna/GCA_000702465.1_ASM70246v1_genomic.fna.prokka.faa/home/sam/FullCyc_metagenome/Other_studies_comp/redo_analysis/prokka_output/Avena_rhizosphere/GCA_000620205.1_ASM62020v1_genomic.fna/GCA_000620205.1_ASM62020v1_genomic.fna.prokka.faa\n",
      "/home/sam/FullCyc_metagenome/Other_studies_comp/redo_analysis/prokka_output/Avena_rhizosphere/GCA_000620625.1_ASM62062v1_genomic.fna/GCA_000620625.1_ASM62062v1_genomic.fna.prokka.faa/home/sam/FullCyc_metagenome/Other_studies_comp/redo_analysis/prokka_output/Avena_rhizosphere/GCA_000620245.1_ASM62024v1_genomic.fna/GCA_000620245.1_ASM62024v1_genomic.fna.prokka.faa\n",
      "\n",
      "/home/sam/FullCyc_metagenome/Other_studies_comp/redo_analysis/prokka_output/Avena_rhizosphere/GCA_000426145.1_ASM42614v1_genomic.fna/GCA_000426145.1_ASM42614v1_genomic.fna.prokka.faa/home/sam/FullCyc_metagenome/Other_studies_comp/redo_analysis/prokka_output/Avena_rhizosphere/GCA_000426005.1_ASM42600v1_genomic.fna/GCA_000426005.1_ASM42600v1_genomic.fna.prokka.faa/home/sam/FullCyc_metagenome/Other_studies_comp/redo_analysis/prokka_output/Avena_rhizosphere/GCA_000620725.1_ASM62072v1_genomic.fna/GCA_000620725.1_ASM62072v1_genomic.fna.prokka.faa/home/sam/FullCyc_metagenome/Other_studies_comp/redo_analysis/prokka_output/Avena_rhizosphere/GCA_000518365.1_ASM51836v1_genomic.fna/GCA_000518365.1_ASM51836v1_genomic.fna.prokka.faa\n",
      "/home/sam/FullCyc_metagenome/Other_studies_comp/redo_analysis/prokka_output/Avena_rhizosphere/GCA_000426045.1_ASM42604v1_genomic.fna/GCA_000426045.1_ASM42604v1_genomic.fna.prokka.faa/home/sam/FullCyc_metagenome/Other_studies_comp/redo_analysis/prokka_output/Avena_rhizosphere/GCA_000701345.1_ASM70134v1_genomic.fna/GCA_000701345.1_ASM70134v1_genomic.fna.prokka.faa/home/sam/FullCyc_metagenome/Other_studies_comp/redo_analysis/prokka_output/Avena_rhizosphere/GCA_000518345.1_ASM51834v1_genomic.fna/GCA_000518345.1_ASM51834v1_genomic.fna.prokka.faa/home/sam/FullCyc_metagenome/Other_studies_comp/redo_analysis/prokka_output/Avena_rhizosphere/GCA_000620545.1_ASM62054v1_genomic.fna/GCA_000620545.1_ASM62054v1_genomic.fna.prokka.faa\n",
      "/home/sam/FullCyc_metagenome/Other_studies_comp/redo_analysis/prokka_output/Avena_rhizosphere/GCA_000425965.1_ASM42596v1_genomic.fna/GCA_000425965.1_ASM42596v1_genomic.fna.prokka.faa/home/sam/FullCyc_metagenome/Other_studies_comp/redo_analysis/prokka_output/Avena_rhizosphere/GCA_000701365.1_ASM70136v1_genomic.fna/GCA_000701365.1_ASM70136v1_genomic.fna.prokka.faa/home/sam/FullCyc_metagenome/Other_studies_comp/redo_analysis/prokka_output/Avena_rhizosphere/GCA_000688055.1_ASM68805v1_genomic.fna/GCA_000688055.1_ASM68805v1_genomic.fna.prokka.faa/home/sam/FullCyc_metagenome/Other_studies_comp/redo_analysis/prokka_output/Avena_rhizosphere/GCA_000688075.1_ASM68807v1_genomic.fna/GCA_000688075.1_ASM68807v1_genomic.fna.prokka.faa\n",
      "/home/sam/FullCyc_metagenome/Other_studies_comp/redo_analysis/prokka_output/Avena_rhizosphere/GCA_000620185.1_ASM62018v1_genomic.fna/GCA_000620185.1_ASM62018v1_genomic.fna.prokka.faa\n",
      "/home/sam/FullCyc_metagenome/Other_studies_comp/redo_analysis/prokka_output/Avena_rhizosphere/GCA_000425945.1_ASM42594v1_genomic.fna/GCA_000425945.1_ASM42594v1_genomic.fna.prokka.faa\n",
      "\n",
      "/home/sam/FullCyc_metagenome/Other_studies_comp/redo_analysis/prokka_output/Avena_rhizosphere/GCA_000425985.1_ASM42598v1_genomic.fna/GCA_000425985.1_ASM42598v1_genomic.fna.prokka.faa/home/sam/FullCyc_metagenome/Other_studies_comp/redo_analysis/prokka_output/Avena_rhizosphere/GCA_000426105.1_ASM42610v1_genomic.fna/GCA_000426105.1_ASM42610v1_genomic.fna.prokka.faa/home/sam/FullCyc_metagenome/Other_studies_comp/redo_analysis/prokka_output/Avena_rhizosphere/GCA_000688475.1_ASM68847v1_genomic.fna/GCA_000688475.1_ASM68847v1_genomic.fna.prokka.faa\n",
      "/home/sam/FullCyc_metagenome/Other_studies_comp/redo_analysis/prokka_output/Avena_rhizosphere/GCA_000620665.1_ASM62066v1_genomic.fna/GCA_000620665.1_ASM62066v1_genomic.fna.prokka.faa\n",
      "/home/sam/FullCyc_metagenome/Other_studies_comp/redo_analysis/prokka_output/Avena_rhizosphere/GCA_000620645.1_ASM62064v1_genomic.fna/GCA_000620645.1_ASM62064v1_genomic.fna.prokka.faa\n",
      "\n",
      "\n",
      "\n",
      "\n",
      "\n",
      "/home/sam/FullCyc_metagenome/Other_studies_comp/redo_analysis/prokka_output/Avena_rhizosphere/GCA_000620685.1_ASM62068v1_genomic.fna/GCA_000620685.1_ASM62068v1_genomic.fna.prokka.faa\n",
      "\n",
      "\n",
      "\n",
      "\n",
      "\n",
      "\n",
      "\n",
      "\n",
      "\n",
      "\n",
      "/home/sam/FullCyc_metagenome/Other_studies_comp/redo_analysis/prokka_output/Avena_rhizosphere/GCA_900110395.1_IMG-taxon_2590828823_annotated_assembly_genomic.fna/GCA_900110395.1_IMG-taxon_2590828823_annotated_assembly_genomic.fna.prokka.faa/home/sam/FullCyc_metagenome/Other_studies_comp/redo_analysis/prokka_output/Avena_rhizosphere/GCA_000620225.1_ASM62022v1_genomic.fna/GCA_000620225.1_ASM62022v1_genomic.fna.prokka.faa\n",
      "\n",
      "/home/sam/FullCyc_metagenome/Other_studies_comp/redo_analysis/prokka_output/Avena_rhizosphere/GCA_000426125.1_ASM42612v1_genomic.fna/GCA_000426125.1_ASM42612v1_genomic.fna.prokka.faa\n",
      "/home/sam/FullCyc_metagenome/Other_studies_comp/redo_analysis/prokka_output/Avena_rhizosphere/GCA_000426065.1_ASM42606v1_genomic.fna/GCA_000426065.1_ASM42606v1_genomic.fna.prokka.faa\n"
     ]
    }
   ],
   "source": [
    "start_time = time.time()\n",
    "pool = multiprocessing.Pool(processes=nproc)\n",
    "pool.map(run_deeptfactor, faa_list)\n",
    "run_time = time.time()-start_time"
   ]
  },
  {
   "cell_type": "code",
   "execution_count": 6,
   "metadata": {},
   "outputs": [
    {
     "name": "stdout",
     "output_type": "stream",
     "text": [
      "Ran for  7.636 minutes\n",
      "There should be: 37\n",
      "There are: 37\n"
     ]
    }
   ],
   "source": [
    "print('Ran for ', str(round(run_time/60, 3)) + ' minutes')\n",
    "print('There should be: ' + str(len(faa_list)))\n",
    "print('There are: ' + str(len(os.listdir(outdir))))"
   ]
  },
  {
   "cell_type": "code",
   "execution_count": null,
   "metadata": {},
   "outputs": [],
   "source": []
  }
 ],
 "metadata": {
  "kernelspec": {
   "display_name": "Python 3",
   "language": "python",
   "name": "python3"
  },
  "language_info": {
   "codemirror_mode": {
    "name": "ipython",
    "version": 3
   },
   "file_extension": ".py",
   "mimetype": "text/x-python",
   "name": "python",
   "nbconvert_exporter": "python",
   "pygments_lexer": "ipython3",
   "version": "3.6.12"
  }
 },
 "nbformat": 4,
 "nbformat_minor": 2
}
