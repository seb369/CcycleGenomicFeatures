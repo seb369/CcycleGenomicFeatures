{
 "cells": [
  {
   "cell_type": "markdown",
   "metadata": {},
   "source": [
    "# Running SignalP and annotating"
   ]
  },
  {
   "cell_type": "code",
   "execution_count": 1,
   "metadata": {},
   "outputs": [],
   "source": [
    "import sys\n",
    "import os\n",
    "import glob\n",
    "import re\n",
    "import pandas as pd\n",
    "import time\n",
    "\n",
    "workDir = '/home/sam/FullCyc_metagenome/Other_studies_comp/redo_analysis/signalp_output'\n",
    "\n",
    "dbCAN_db = '/home/sam/new_databases/dbCAN/HMM/dbCAN-fam-HMMs.txt'\n",
    "MEROPS_db = '/home/sam/new_databases/MEROPS/peptidase3/MEROPS_protease.dmnd'\n",
    "ESTHER_db = '/home/sam/new_databases/ESTHER/HMMs/hydrolaseDB'\n",
    "\n",
    "nproc = 50"
   ]
  },
  {
   "cell_type": "markdown",
   "metadata": {},
   "source": [
    "## Running SignalP"
   ]
  },
  {
   "cell_type": "code",
   "execution_count": 2,
   "metadata": {},
   "outputs": [],
   "source": [
    "def run_signalp(study, genome):\n",
    "    os.system(' '.join(['signalp', \n",
    "                        '-fasta', os.path.join('/home/sam/FullCyc_metagenome/Other_studies_comp/redo_analysis/prokka_output', study, genome, genome + '.prokka.faa'),\n",
    "                        '-format short',\n",
    "                        '-batch 1000',\n",
    "                        '-org gram+',\n",
    "                        '-prefix', os.path.join(workDir, study, 'signalp_out', genome + '_signalp_gram_pos')]))\n",
    "    \n",
    "    os.system(' '.join(['signalp', \n",
    "                        '-fasta', os.path.join('/home/sam/FullCyc_metagenome/Other_studies_comp/redo_analysis/prokka_output', study, genome, genome + '.prokka.faa'),\n",
    "                        '-format short',\n",
    "                        '-batch 1000',\n",
    "                        '-org gram-',\n",
    "                        '-prefix', os.path.join(workDir, study, 'signalp_out', genome + '_signalp_gram_neg')]))"
   ]
  },
  {
   "cell_type": "markdown",
   "metadata": {},
   "source": [
    "### RefSoil"
   ]
  },
  {
   "cell_type": "code",
   "execution_count": null,
   "metadata": {},
   "outputs": [],
   "source": [
    "study = 'RefSoil'\n",
    "genome_list = [fna for fna in os.listdir('/home/sam/new_databases/RefSoil/RefSoil_genomes/genome_fasta') if fna.endswith('.fna')]\n",
    "genome_list\n",
    "\n",
    "for genome in genome_list:\n",
    "    run_signalp(study, genome)\n",
    "\n"
   ]
  },
  {
   "cell_type": "code",
   "execution_count": null,
   "metadata": {},
   "outputs": [],
   "source": [
    "gram_pos_merge = pd.DataFrame()\n",
    "\n",
    "gram_pos_list = [f for f in os.listdir(os.path.join(workDir, study, 'signalp_out')) if re.search('gram_pos', f)]\n",
    "\n",
    "\n",
    "for SP_file in gram_pos_list:\n",
    "    output_df = pd.read_csv(os.path.join(workDir, study, 'signalp_out', SP_file), sep='\\t', skiprows=[0], header=None)\n",
    "    new_header = output_df.iloc[0] \n",
    "    output_df = output_df[1:]\n",
    "    output_df.columns = new_header\n",
    "    output_df['genome'] = re.sub('_signalp_gram_pos_summary.signalp5', '', SP_file)\n",
    "    gram_pos_merge = gram_pos_merge.append(output_df)\n",
    "    output_df = None\n",
    "    \n",
    "print(len(gram_pos_merge['genome']))\n",
    "\n",
    "gram_pos_merge.to_csv(os.path.join(workDir, study, 'signalp_gram_pos_summary.signalp5'), \n",
    "                      index=False, sep='\\t')\n",
    "\n",
    "gram_pos_merge = None\n"
   ]
  },
  {
   "cell_type": "code",
   "execution_count": null,
   "metadata": {},
   "outputs": [],
   "source": [
    "gram_neg_merge = pd.DataFrame()\n",
    "\n",
    "gram_neg_list = [f for f in os.listdir(os.path.join(workDir, study, 'signalp_out')) if re.search('gram_neg', f)]\n",
    "\n",
    "\n",
    "for SP_file in gram_neg_list:\n",
    "    output_df = pd.read_csv(os.path.join(workDir, study, 'signalp_out', SP_file), sep='\\t', skiprows=[0], header=None)\n",
    "    new_header = output_df.iloc[0] \n",
    "    output_df = output_df[1:]\n",
    "    output_df.columns = new_header\n",
    "    output_df['genome'] = re.sub('_signalp_gram_neg_summary.signalp5', '', SP_file)\n",
    "    gram_neg_merge = gram_neg_merge.append(output_df)\n",
    "    output_df = None\n",
    "    \n",
    "print(len(gram_neg_merge['genome']))\n",
    "\n",
    "gram_neg_merge.to_csv(os.path.join(workDir, study, 'signalp_gram_neg_summary.signalp5'), \n",
    "                      index=False, sep='\\t')\n",
    "\n",
    "gram_neg_merge = None\n"
   ]
  },
  {
   "cell_type": "code",
   "execution_count": null,
   "metadata": {},
   "outputs": [],
   "source": []
  }
 ],
 "metadata": {
  "kernelspec": {
   "display_name": "Python 3",
   "language": "python",
   "name": "python3"
  },
  "language_info": {
   "codemirror_mode": {
    "name": "ipython",
    "version": 3
   },
   "file_extension": ".py",
   "mimetype": "text/x-python",
   "name": "python",
   "nbconvert_exporter": "python",
   "pygments_lexer": "ipython3",
   "version": "3.7.8"
  }
 },
 "nbformat": 4,
 "nbformat_minor": 4
}
