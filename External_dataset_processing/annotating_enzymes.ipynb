{
 "cells": [
  {
   "cell_type": "markdown",
   "metadata": {},
   "source": [
    "# Getting enzyme annotations"
   ]
  },
  {
   "cell_type": "code",
   "execution_count": 1,
   "metadata": {},
   "outputs": [],
   "source": [
    "import sys\n",
    "import os\n",
    "import glob\n",
    "import re\n",
    "import pandas as pd\n",
    "import time\n",
    "\n",
    "workDir = '/home/sam/FullCyc_metagenome/Other_studies_comp/redo_analysis/enzyme_output'\n",
    "\n",
    "dbCAN_db = '/home/sam/new_databases/dbCAN/HMM/dbCAN-fam-HMMs.txt'\n",
    "MEROPS_db = '/home/sam/new_databases/MEROPS/peptidase3/MEROPS_protease.dmnd'\n",
    "ESTHER_db = '/home/sam/new_databases/ESTHER/HMMs/hydrolaseDB'\n",
    "\n",
    "nproc = 50"
   ]
  },
  {
   "cell_type": "markdown",
   "metadata": {},
   "source": [
    "## Get CAZymes"
   ]
  },
  {
   "cell_type": "code",
   "execution_count": null,
   "metadata": {},
   "outputs": [],
   "source": [
    "study = 'RefSoil'\n",
    "genome_list = [fna for fna in os.listdir('/home/sam/new_databases/RefSoil/RefSoil_genomes/genome_fasta') if fna.endswith('.fna')]\n",
    "\n",
    "for genome in genome_list:\n",
    "    cmd = ' '.join(['hmmscan',\n",
    "                    '--cpu', str(nproc),\n",
    "                    '--domtblout', os.path.join(workDir, study, 'CAZymes', genome + '_CAZymes.out.dm'),\n",
    "                    dbCAN_db, \n",
    "                    os.path.join('/home/sam/FullCyc_metagenome/Other_studies_comp/redo_analysis/prokka_output', study, genome, genome + '.prokka.faa'),\n",
    "                    '>', os.path.join(workDir, study, 'CAZymes', genome + '_CAZymes.out')])\n",
    "    !$cmd\n",
    "    \n",
    "    cmd = ' '.join(['sh /home/sam/new_databases/dbCAN/HMM/hmmscan-parser.sh',\n",
    "                    os.path.join(workDir, study, 'CAZymes', genome + '_CAZymes.out.dm'),\n",
    "                    '>', os.path.join(workDir, study, 'CAZymes', genome + '_CAZymes.out.dm.ps')])\n",
    "    !$cmd\n",
    "    \n",
    "    cmd = ' '.join(['cat', os.path.join(workDir, study, 'CAZymes', genome + '_CAZymes.out.dm.ps'),\n",
    "                    \"| awk '$5<1e-15&&$10>0.35'\",\n",
    "                    '>', os.path.join(workDir, study, 'CAZymes', genome + '_CAZymes.out.dm.ps.stringent')])\n",
    "    !$cmd\n",
    "    "
   ]
  },
  {
   "cell_type": "code",
   "execution_count": 2,
   "metadata": {},
   "outputs": [
    {
     "name": "stdout",
     "output_type": "stream",
     "text": [
      "NC_007798.1.fna has no detected CAZymes\n"
     ]
    }
   ],
   "source": [
    "# Combine the main outputs\n",
    "new_header = ['Target', 'target_length', 'Query', 'query_length', 'E_value', 'V6', 'V7', 'V8', 'V9', 'V10']\n",
    "\n",
    "study = 'RefSoil'\n",
    "genome_list = [fna for fna in os.listdir('/home/sam/new_databases/RefSoil/RefSoil_genomes/genome_fasta') if fna.endswith('.fna')]\n",
    "\n",
    "CAZymes_df = pd.DataFrame()\n",
    "for genome in genome_list:\n",
    "    if os.path.getsize(os.path.join(workDir, study, 'CAZymes', genome + '_CAZymes.out.dm.ps.stringent')) > 0:\n",
    "        output_df = pd.read_csv(os.path.join(workDir, study, 'CAZymes', genome + '_CAZymes.out.dm.ps.stringent'), sep='\\t', header=None)\n",
    "        output_df.columns = new_header\n",
    "        output_df['genome'] = genome\n",
    "        CAZymes_df = CAZymes_df.append(output_df)\n",
    "        output_df = None\n",
    "    else:\n",
    "        print(genome + ' has no detected CAZymes')\n",
    "\n",
    "CAZymes_df.to_csv(os.path.join(workDir, study, 'CAZymes.txt'), index=False, sep='\\t')\n",
    "CAZymes_df = None\n"
   ]
  },
  {
   "cell_type": "markdown",
   "metadata": {},
   "source": [
    "## Get Proteases"
   ]
  },
  {
   "cell_type": "code",
   "execution_count": null,
   "metadata": {},
   "outputs": [],
   "source": [
    "study = 'RefSoil'\n",
    "genome_list = [fna for fna in os.listdir('/home/sam/new_databases/RefSoil/RefSoil_genomes/genome_fasta') if fna.endswith('.fna')]\n",
    "\n",
    "for genome in genome_list:\n",
    "    cmd = ' '.join(['diamond blastp',\n",
    "                '--threads', str(nproc),\n",
    "                '--evalue 0.0000000001',\n",
    "                '-d', MEROPS_db,\n",
    "                '-q', os.path.join('/home/sam/FullCyc_metagenome/Other_studies_comp/redo_analysis/prokka_output', study, genome, genome + '.prokka.faa'),\n",
    "                '-o', os.path.join(workDir, study, 'Proteases', genome + '_proteases.txt')])\n",
    "    !$cmd\n",
    "\n",
    "    "
   ]
  },
  {
   "cell_type": "code",
   "execution_count": 16,
   "metadata": {},
   "outputs": [],
   "source": [
    "# Combine the main outputs\n",
    "new_header = ['Query', 'Target', 'perc_ident', 'align_length', 'n_mismatch', 'n_gaps', \n",
    "              'query_start', 'query_end', 'target_start', 'target_end', 'E_value', 'bit_score']\n",
    "\n",
    "study = 'RefSoil'\n",
    "genome_list = [fna for fna in os.listdir('/home/sam/new_databases/RefSoil/RefSoil_genomes/genome_fasta') if fna.endswith('.fna')]\n",
    "\n",
    "Proteases_df = pd.DataFrame()\n",
    "for genome in genome_list:\n",
    "    if os.path.getsize(os.path.join(workDir, study, 'Proteases', genome + '_proteases.txt')) > 0:\n",
    "        output_df = pd.read_csv(os.path.join(workDir, study, 'Proteases', genome + '_proteases.txt'), sep='\\t', header=None)\n",
    "        output_df.columns = new_header\n",
    "        output_df['genome'] = genome\n",
    "        Proteases_df = Proteases_df.append(output_df)\n",
    "        output_df = None\n",
    "    else:\n",
    "        print(genome + ' has no detected Proteases')\n",
    "\n",
    "Proteases_df.to_csv(os.path.join(workDir, study, 'Proteases.txt'), index=False, sep='\\t')\n",
    "\n",
    "Proteases_df = None"
   ]
  },
  {
   "cell_type": "markdown",
   "metadata": {},
   "source": [
    "## Get Lipases"
   ]
  },
  {
   "cell_type": "code",
   "execution_count": null,
   "metadata": {},
   "outputs": [],
   "source": [
    "study = 'RefSoil'\n",
    "genome_list = [fna for fna in os.listdir('/home/sam/new_databases/RefSoil/RefSoil_genomes/genome_fasta') if fna.endswith('.fna')]\n",
    "\n",
    "for genome in genome_list:\n",
    "    cmd = ' '.join(['hmmscan',\n",
    "                    '--cpu', str(nproc),\n",
    "                    '--domtblout', os.path.join(workDir, study, 'Lipases', genome + '_ABhydro.out.dm'),\n",
    "                    ESTHER_db, \n",
    "                    os.path.join('/home/sam/FullCyc_metagenome/Other_studies_comp/redo_analysis/prokka_output', study, genome, genome + '.prokka.faa'),\n",
    "                    '>', os.path.join(workDir, study, 'Lipases', genome + '_ABhydro.out')])\n",
    "    !$cmd\n",
    "    \n",
    "    cmd = ' '.join(['sh /home/sam/new_databases/dbCAN/HMM/hmmscan-parser.sh',\n",
    "                    os.path.join(workDir, study, 'Lipases', genome + '_ABhydro.out.dm'),\n",
    "                    '>', os.path.join(workDir, study, 'Lipases', genome + '_ABhydro.out.dm.ps')])\n",
    "    !$cmd\n",
    "    \n",
    "    cmd = ' '.join(['cat', os.path.join(workDir, study, 'Lipases', genome + '_ABhydro.out.dm.ps'),\n",
    "                    \"| awk '$5<1e-15&&$10>0.35'\",\n",
    "                    '>', os.path.join(workDir, study, 'Lipases', genome + '_ABhydro.out.dm.ps.stringent')])\n",
    "    !$cmd\n",
    "\n",
    "    "
   ]
  },
  {
   "cell_type": "code",
   "execution_count": 18,
   "metadata": {},
   "outputs": [
    {
     "name": "stdout",
     "output_type": "stream",
     "text": [
      "NC_008511.1.fna has no detected ABhydro\n",
      "NC_014658.1.fna has no detected ABhydro\n",
      "NZ_HF545617.1.fna has no detected ABhydro\n",
      "NC_004343.2.fna has no detected ABhydro\n",
      "NC_014961.1.fna has no detected ABhydro\n",
      "NC_005824.1.fna has no detected ABhydro\n",
      "NC_008509.1.fna has no detected ABhydro\n",
      "NC_017552.1.fna has no detected ABhydro\n",
      "NC_010424.1.fna has no detected ABhydro\n"
     ]
    }
   ],
   "source": [
    "# Combine the main outputs\n",
    "new_header = ['Target', 'target_length', 'Query', 'query_length', 'E_value', 'V6', 'V7', 'V8', 'V9', 'V10']\n",
    "\n",
    "study = 'RefSoil'\n",
    "genome_list = [fna for fna in os.listdir('/home/sam/new_databases/RefSoil/RefSoil_genomes/genome_fasta') if fna.endswith('.fna')]\n",
    "\n",
    "ABhydro_df = pd.DataFrame()\n",
    "for genome in genome_list:\n",
    "    if os.path.getsize(os.path.join(workDir, study, 'Lipases', genome + '_ABhydro.out.dm.ps.stringent')) > 0:\n",
    "        output_df = pd.read_csv(os.path.join(workDir, study, 'Lipases', genome + '_ABhydro.out.dm.ps.stringent'), sep='\\t', header=None)\n",
    "        output_df.columns = new_header\n",
    "        output_df['genome'] = genome\n",
    "        ABhydro_df = ABhydro_df.append(output_df)\n",
    "        output_df = None\n",
    "    else:\n",
    "        print(genome + ' has no detected ABhydro')\n",
    "\n",
    "ABhydro_df.to_csv(os.path.join(workDir, study, 'ABhydro.txt'), index=False, sep='\\t')\n",
    "ABhydro_df = None\n"
   ]
  },
  {
   "cell_type": "code",
   "execution_count": null,
   "metadata": {},
   "outputs": [],
   "source": []
  }
 ],
 "metadata": {
  "kernelspec": {
   "display_name": "Python 3",
   "language": "python",
   "name": "python3"
  },
  "language_info": {
   "codemirror_mode": {
    "name": "ipython",
    "version": 3
   },
   "file_extension": ".py",
   "mimetype": "text/x-python",
   "name": "python",
   "nbconvert_exporter": "python",
   "pygments_lexer": "ipython3",
   "version": "3.7.8"
  }
 },
 "nbformat": 4,
 "nbformat_minor": 4
}
